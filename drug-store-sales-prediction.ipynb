{
 "cells": [
  {
   "cell_type": "markdown",
   "id": "da78d01c",
   "metadata": {},
   "source": [
    "# Rossmann Drug Store Chain Sales Prediction"
   ]
  },
  {
   "cell_type": "markdown",
   "id": "ce1ef540",
   "metadata": {},
   "source": [
    "## 1. Problem Definition\n",
    "Rossmann is Germany's second-largest drug store chain. We have been provided with historical sales data for 1,115 Rossmann stores. The task is to forecast the \"Sales\" column. The goal of this notebook would be to create a model that would forecast the **sales** by using only the below column inputs:\n",
    "* Store\n",
    "* DayOfWeek\n",
    "* Date\n",
    "* Customers\n",
    "* Open\n",
    "* Promo\n",
    "* StateHoliday\n",
    "* SchoolHoliday\n",
    "\n",
    "![Drug](https://images.unsplash.com/photo-1631549916768-4119b2e5f926?ixlib=rb-1.2.1&ixid=MnwxMjA3fDB8MHxwaG90by1wYWdlfHx8fGVufDB8fHx8&auto=format&fit=crop&w=1179&q=80)"
   ]
  },
  {
   "cell_type": "markdown",
   "id": "829a9d6a",
   "metadata": {},
   "source": [
    "## 2. Datasets\n",
    "We are given two amounts of data, which are as follows:\n",
    "* train.csv - _contains sales data on a daily frequency_\n",
    "* store.csv - _contains store information_"
   ]
  },
  {
   "cell_type": "code",
   "execution_count": 109,
   "id": "f3062fda",
   "metadata": {},
   "outputs": [],
   "source": [
    "# Import required libraries\n",
    "import numpy as np\n",
    "import pandas as pd\n",
    "import matplotlib.pyplot as plt\n",
    "import sklearn\n",
    "import seaborn as sns"
   ]
  },
  {
   "cell_type": "code",
   "execution_count": 2,
   "id": "218cda40",
   "metadata": {},
   "outputs": [],
   "source": [
    "# Import our sales and store dataset\n",
    "sales_df = pd.read_csv(\"data/train.csv\", low_memory=False, parse_dates=[\"Date\"])\n",
    "stores_df = pd.read_csv(\"data/store.csv\", low_memory=False)"
   ]
  },
  {
   "cell_type": "code",
   "execution_count": 3,
   "id": "3933e908",
   "metadata": {},
   "outputs": [
    {
     "data": {
      "text/html": [
       "<div>\n",
       "<style scoped>\n",
       "    .dataframe tbody tr th:only-of-type {\n",
       "        vertical-align: middle;\n",
       "    }\n",
       "\n",
       "    .dataframe tbody tr th {\n",
       "        vertical-align: top;\n",
       "    }\n",
       "\n",
       "    .dataframe thead th {\n",
       "        text-align: right;\n",
       "    }\n",
       "</style>\n",
       "<table border=\"1\" class=\"dataframe\">\n",
       "  <thead>\n",
       "    <tr style=\"text-align: right;\">\n",
       "      <th></th>\n",
       "      <th>Store</th>\n",
       "      <th>DayOfWeek</th>\n",
       "      <th>Date</th>\n",
       "      <th>Sales</th>\n",
       "      <th>Customers</th>\n",
       "      <th>Open</th>\n",
       "      <th>Promo</th>\n",
       "      <th>StateHoliday</th>\n",
       "      <th>SchoolHoliday</th>\n",
       "    </tr>\n",
       "  </thead>\n",
       "  <tbody>\n",
       "    <tr>\n",
       "      <th>0</th>\n",
       "      <td>1</td>\n",
       "      <td>4</td>\n",
       "      <td>2015-04-30</td>\n",
       "      <td>6228</td>\n",
       "      <td>650</td>\n",
       "      <td>1</td>\n",
       "      <td>1</td>\n",
       "      <td>0</td>\n",
       "      <td>0</td>\n",
       "    </tr>\n",
       "    <tr>\n",
       "      <th>1</th>\n",
       "      <td>2</td>\n",
       "      <td>4</td>\n",
       "      <td>2015-04-30</td>\n",
       "      <td>6884</td>\n",
       "      <td>716</td>\n",
       "      <td>1</td>\n",
       "      <td>1</td>\n",
       "      <td>0</td>\n",
       "      <td>0</td>\n",
       "    </tr>\n",
       "    <tr>\n",
       "      <th>2</th>\n",
       "      <td>3</td>\n",
       "      <td>4</td>\n",
       "      <td>2015-04-30</td>\n",
       "      <td>9971</td>\n",
       "      <td>979</td>\n",
       "      <td>1</td>\n",
       "      <td>1</td>\n",
       "      <td>0</td>\n",
       "      <td>0</td>\n",
       "    </tr>\n",
       "  </tbody>\n",
       "</table>\n",
       "</div>"
      ],
      "text/plain": [
       "   Store  DayOfWeek       Date  Sales  Customers  Open  Promo StateHoliday  \\\n",
       "0      1          4 2015-04-30   6228        650     1      1            0   \n",
       "1      2          4 2015-04-30   6884        716     1      1            0   \n",
       "2      3          4 2015-04-30   9971        979     1      1            0   \n",
       "\n",
       "   SchoolHoliday  \n",
       "0              0  \n",
       "1              0  \n",
       "2              0  "
      ]
     },
     "execution_count": 3,
     "metadata": {},
     "output_type": "execute_result"
    }
   ],
   "source": [
    "sales_df.head(3)"
   ]
  },
  {
   "cell_type": "code",
   "execution_count": 4,
   "id": "bbd63753",
   "metadata": {},
   "outputs": [
    {
     "data": {
      "text/html": [
       "<div>\n",
       "<style scoped>\n",
       "    .dataframe tbody tr th:only-of-type {\n",
       "        vertical-align: middle;\n",
       "    }\n",
       "\n",
       "    .dataframe tbody tr th {\n",
       "        vertical-align: top;\n",
       "    }\n",
       "\n",
       "    .dataframe thead th {\n",
       "        text-align: right;\n",
       "    }\n",
       "</style>\n",
       "<table border=\"1\" class=\"dataframe\">\n",
       "  <thead>\n",
       "    <tr style=\"text-align: right;\">\n",
       "      <th></th>\n",
       "      <th>Store</th>\n",
       "      <th>StoreType</th>\n",
       "      <th>Assortment</th>\n",
       "      <th>CompetitionDistance</th>\n",
       "      <th>CompetitionOpenSinceMonth</th>\n",
       "      <th>CompetitionOpenSinceYear</th>\n",
       "      <th>Promo2</th>\n",
       "      <th>Promo2SinceWeek</th>\n",
       "      <th>Promo2SinceYear</th>\n",
       "      <th>PromoInterval</th>\n",
       "    </tr>\n",
       "  </thead>\n",
       "  <tbody>\n",
       "    <tr>\n",
       "      <th>0</th>\n",
       "      <td>1</td>\n",
       "      <td>c</td>\n",
       "      <td>a</td>\n",
       "      <td>1270.0</td>\n",
       "      <td>9.0</td>\n",
       "      <td>2008.0</td>\n",
       "      <td>0</td>\n",
       "      <td>NaN</td>\n",
       "      <td>NaN</td>\n",
       "      <td>NaN</td>\n",
       "    </tr>\n",
       "    <tr>\n",
       "      <th>1</th>\n",
       "      <td>2</td>\n",
       "      <td>a</td>\n",
       "      <td>a</td>\n",
       "      <td>570.0</td>\n",
       "      <td>11.0</td>\n",
       "      <td>2007.0</td>\n",
       "      <td>1</td>\n",
       "      <td>13.0</td>\n",
       "      <td>2010.0</td>\n",
       "      <td>Jan,Apr,Jul,Oct</td>\n",
       "    </tr>\n",
       "    <tr>\n",
       "      <th>2</th>\n",
       "      <td>3</td>\n",
       "      <td>a</td>\n",
       "      <td>a</td>\n",
       "      <td>14130.0</td>\n",
       "      <td>12.0</td>\n",
       "      <td>2006.0</td>\n",
       "      <td>1</td>\n",
       "      <td>14.0</td>\n",
       "      <td>2011.0</td>\n",
       "      <td>Jan,Apr,Jul,Oct</td>\n",
       "    </tr>\n",
       "  </tbody>\n",
       "</table>\n",
       "</div>"
      ],
      "text/plain": [
       "   Store StoreType Assortment  CompetitionDistance  CompetitionOpenSinceMonth  \\\n",
       "0      1         c          a               1270.0                        9.0   \n",
       "1      2         a          a                570.0                       11.0   \n",
       "2      3         a          a              14130.0                       12.0   \n",
       "\n",
       "   CompetitionOpenSinceYear  Promo2  Promo2SinceWeek  Promo2SinceYear  \\\n",
       "0                    2008.0       0              NaN              NaN   \n",
       "1                    2007.0       1             13.0           2010.0   \n",
       "2                    2006.0       1             14.0           2011.0   \n",
       "\n",
       "     PromoInterval  \n",
       "0              NaN  \n",
       "1  Jan,Apr,Jul,Oct  \n",
       "2  Jan,Apr,Jul,Oct  "
      ]
     },
     "execution_count": 4,
     "metadata": {},
     "output_type": "execute_result"
    }
   ],
   "source": [
    "stores_df.head(3)"
   ]
  },
  {
   "cell_type": "markdown",
   "id": "7d170f74",
   "metadata": {},
   "source": [
    "## 3.  Features"
   ]
  },
  {
   "cell_type": "markdown",
   "id": "067796f7",
   "metadata": {},
   "source": [
    "### 3.1 Sales Data"
   ]
  },
  {
   "cell_type": "code",
   "execution_count": 5,
   "id": "e6753176",
   "metadata": {},
   "outputs": [
    {
     "name": "stdout",
     "output_type": "stream",
     "text": [
      "<class 'pandas.core.frame.DataFrame'>\n",
      "RangeIndex: 914629 entries, 0 to 914628\n",
      "Data columns (total 9 columns):\n",
      " #   Column         Non-Null Count   Dtype         \n",
      "---  ------         --------------   -----         \n",
      " 0   Store          914629 non-null  int64         \n",
      " 1   DayOfWeek      914629 non-null  int64         \n",
      " 2   Date           914629 non-null  datetime64[ns]\n",
      " 3   Sales          914629 non-null  int64         \n",
      " 4   Customers      914629 non-null  int64         \n",
      " 5   Open           914629 non-null  int64         \n",
      " 6   Promo          914629 non-null  int64         \n",
      " 7   StateHoliday   914629 non-null  object        \n",
      " 8   SchoolHoliday  914629 non-null  int64         \n",
      "dtypes: datetime64[ns](1), int64(7), object(1)\n",
      "memory usage: 62.8+ MB\n"
     ]
    }
   ],
   "source": [
    "sales_df.info()"
   ]
  },
  {
   "cell_type": "code",
   "execution_count": 6,
   "id": "95476755",
   "metadata": {},
   "outputs": [
    {
     "data": {
      "text/plain": [
       "0   2013-01-01\n",
       "1   2013-01-01\n",
       "2   2013-01-01\n",
       "3   2013-01-01\n",
       "4   2013-01-01\n",
       "Name: Date, dtype: datetime64[ns]"
      ]
     },
     "execution_count": 6,
     "metadata": {},
     "output_type": "execute_result"
    }
   ],
   "source": [
    "# Sort DataFrame in date order.\n",
    "sales_df.sort_values(by=[\"Date\"], inplace=True, ascending=True, ignore_index=True)\n",
    "sales_df.Date.head(5)"
   ]
  },
  {
   "cell_type": "code",
   "execution_count": 7,
   "id": "66b261c8",
   "metadata": {},
   "outputs": [],
   "source": [
    "# Let us create a restore point of our sales dataset.\n",
    "sales_df_backup = sales_df.copy(deep=True)"
   ]
  },
  {
   "cell_type": "code",
   "execution_count": 111,
   "id": "6c151698",
   "metadata": {},
   "outputs": [
    {
     "data": {
      "text/plain": [
       "array([ 1,  2,  3,  4,  5,  6,  7,  8,  9, 10], dtype=int64)"
      ]
     },
     "execution_count": 111,
     "metadata": {},
     "output_type": "execute_result"
    }
   ],
   "source": [
    "store_ids = sales_df_backup.Store.unique()\n",
    "store_ids.sort()\n",
    "store_ids = store_ids[:10]\n",
    "store_ids"
   ]
  },
  {
   "cell_type": "code",
   "execution_count": null,
   "id": "efa3dd9e",
   "metadata": {},
   "outputs": [],
   "source": [
    "count=1\n",
    "plt.subplots(figsize=(20, 16))\n",
    "# color_dict = dict({1:'dodgerblue', 2:'green', 3: 'orange',4: 'red', 5: 'brown', 6: 'blue'})\n",
    "\n",
    "for store_id in store_ids:\n",
    "    plt.subplot(5,2,count)\n",
    "    temp_df = sales_df_backup[sales_df_backup['Store'] == store_id]\n",
    "    sns.scatterplot(data=sales_df_backup, x=\"Date\", y=\"Sales\", hue=\"Store\")\n",
    "    count+=1\n",
    "\n",
    "plt.show()"
   ]
  },
  {
   "cell_type": "code",
   "execution_count": 8,
   "id": "041c4103",
   "metadata": {},
   "outputs": [
    {
     "data": {
      "text/plain": [
       "0   2013-01-01\n",
       "Name: Date, dtype: datetime64[ns]"
      ]
     },
     "execution_count": 8,
     "metadata": {},
     "output_type": "execute_result"
    }
   ],
   "source": [
    "sales_df[:1].Date # Tuesday"
   ]
  },
  {
   "cell_type": "code",
   "execution_count": 9,
   "id": "04541e68",
   "metadata": {},
   "outputs": [
    {
     "data": {
      "text/plain": [
       "0    2\n",
       "Name: DayOfWeek, dtype: int64"
      ]
     },
     "execution_count": 9,
     "metadata": {},
     "output_type": "execute_result"
    }
   ],
   "source": [
    "sales_df[:1].DayOfWeek "
   ]
  },
  {
   "cell_type": "code",
   "execution_count": 10,
   "id": "940e3467",
   "metadata": {},
   "outputs": [
    {
     "data": {
      "text/plain": [
       "array([2, 3, 4, 5, 6, 7, 1], dtype=int64)"
      ]
     },
     "execution_count": 10,
     "metadata": {},
     "output_type": "execute_result"
    }
   ],
   "source": [
    "#This column that has already been given in our dataset would mean that 1 would be Monday\n",
    "sales_df.DayOfWeek.unique()"
   ]
  },
  {
   "cell_type": "code",
   "execution_count": 11,
   "id": "941dcb89",
   "metadata": {},
   "outputs": [
    {
     "data": {
      "text/plain": [
       "0    1\n",
       "Name: Date, dtype: int64"
      ]
     },
     "execution_count": 11,
     "metadata": {},
     "output_type": "execute_result"
    }
   ],
   "source": [
    "# There is a function that return the day of the week. We won't be using this one.\n",
    "# It is assumed the week starts on Monday, which is denoted by 0 and ends on Sunday which is denoted by 6.\n",
    "sales_df[:1].Date.dt.dayofweek"
   ]
  },
  {
   "cell_type": "code",
   "execution_count": 12,
   "id": "cb4bd1c4",
   "metadata": {},
   "outputs": [
    {
     "data": {
      "text/html": [
       "<div>\n",
       "<style scoped>\n",
       "    .dataframe tbody tr th:only-of-type {\n",
       "        vertical-align: middle;\n",
       "    }\n",
       "\n",
       "    .dataframe tbody tr th {\n",
       "        vertical-align: top;\n",
       "    }\n",
       "\n",
       "    .dataframe thead th {\n",
       "        text-align: right;\n",
       "    }\n",
       "</style>\n",
       "<table border=\"1\" class=\"dataframe\">\n",
       "  <thead>\n",
       "    <tr style=\"text-align: right;\">\n",
       "      <th></th>\n",
       "      <th>914624</th>\n",
       "      <th>914625</th>\n",
       "      <th>914626</th>\n",
       "      <th>914627</th>\n",
       "      <th>914628</th>\n",
       "    </tr>\n",
       "  </thead>\n",
       "  <tbody>\n",
       "    <tr>\n",
       "      <th>Store</th>\n",
       "      <td>746</td>\n",
       "      <td>747</td>\n",
       "      <td>748</td>\n",
       "      <td>742</td>\n",
       "      <td>1</td>\n",
       "    </tr>\n",
       "    <tr>\n",
       "      <th>DayOfWeek</th>\n",
       "      <td>4</td>\n",
       "      <td>4</td>\n",
       "      <td>4</td>\n",
       "      <td>4</td>\n",
       "      <td>4</td>\n",
       "    </tr>\n",
       "    <tr>\n",
       "      <th>Date</th>\n",
       "      <td>2015-04-30 00:00:00</td>\n",
       "      <td>2015-04-30 00:00:00</td>\n",
       "      <td>2015-04-30 00:00:00</td>\n",
       "      <td>2015-04-30 00:00:00</td>\n",
       "      <td>2015-04-30 00:00:00</td>\n",
       "    </tr>\n",
       "    <tr>\n",
       "      <th>Sales</th>\n",
       "      <td>9469</td>\n",
       "      <td>12123</td>\n",
       "      <td>9524</td>\n",
       "      <td>12225</td>\n",
       "      <td>6228</td>\n",
       "    </tr>\n",
       "    <tr>\n",
       "      <th>Customers</th>\n",
       "      <td>748</td>\n",
       "      <td>1017</td>\n",
       "      <td>746</td>\n",
       "      <td>1196</td>\n",
       "      <td>650</td>\n",
       "    </tr>\n",
       "    <tr>\n",
       "      <th>Open</th>\n",
       "      <td>1</td>\n",
       "      <td>1</td>\n",
       "      <td>1</td>\n",
       "      <td>1</td>\n",
       "      <td>1</td>\n",
       "    </tr>\n",
       "    <tr>\n",
       "      <th>Promo</th>\n",
       "      <td>1</td>\n",
       "      <td>1</td>\n",
       "      <td>1</td>\n",
       "      <td>1</td>\n",
       "      <td>1</td>\n",
       "    </tr>\n",
       "    <tr>\n",
       "      <th>StateHoliday</th>\n",
       "      <td>0</td>\n",
       "      <td>0</td>\n",
       "      <td>0</td>\n",
       "      <td>0</td>\n",
       "      <td>0</td>\n",
       "    </tr>\n",
       "    <tr>\n",
       "      <th>SchoolHoliday</th>\n",
       "      <td>0</td>\n",
       "      <td>0</td>\n",
       "      <td>0</td>\n",
       "      <td>0</td>\n",
       "      <td>0</td>\n",
       "    </tr>\n",
       "    <tr>\n",
       "      <th>SaleYear</th>\n",
       "      <td>2015</td>\n",
       "      <td>2015</td>\n",
       "      <td>2015</td>\n",
       "      <td>2015</td>\n",
       "      <td>2015</td>\n",
       "    </tr>\n",
       "    <tr>\n",
       "      <th>SaleMonth</th>\n",
       "      <td>4</td>\n",
       "      <td>4</td>\n",
       "      <td>4</td>\n",
       "      <td>4</td>\n",
       "      <td>4</td>\n",
       "    </tr>\n",
       "    <tr>\n",
       "      <th>SaleDay</th>\n",
       "      <td>30</td>\n",
       "      <td>30</td>\n",
       "      <td>30</td>\n",
       "      <td>30</td>\n",
       "      <td>30</td>\n",
       "    </tr>\n",
       "    <tr>\n",
       "      <th>SaleDayOfYear</th>\n",
       "      <td>120</td>\n",
       "      <td>120</td>\n",
       "      <td>120</td>\n",
       "      <td>120</td>\n",
       "      <td>120</td>\n",
       "    </tr>\n",
       "  </tbody>\n",
       "</table>\n",
       "</div>"
      ],
      "text/plain": [
       "                            914624               914625               914626  \\\n",
       "Store                          746                  747                  748   \n",
       "DayOfWeek                        4                    4                    4   \n",
       "Date           2015-04-30 00:00:00  2015-04-30 00:00:00  2015-04-30 00:00:00   \n",
       "Sales                         9469                12123                 9524   \n",
       "Customers                      748                 1017                  746   \n",
       "Open                             1                    1                    1   \n",
       "Promo                            1                    1                    1   \n",
       "StateHoliday                     0                    0                    0   \n",
       "SchoolHoliday                    0                    0                    0   \n",
       "SaleYear                      2015                 2015                 2015   \n",
       "SaleMonth                        4                    4                    4   \n",
       "SaleDay                         30                   30                   30   \n",
       "SaleDayOfYear                  120                  120                  120   \n",
       "\n",
       "                            914627               914628  \n",
       "Store                          742                    1  \n",
       "DayOfWeek                        4                    4  \n",
       "Date           2015-04-30 00:00:00  2015-04-30 00:00:00  \n",
       "Sales                        12225                 6228  \n",
       "Customers                     1196                  650  \n",
       "Open                             1                    1  \n",
       "Promo                            1                    1  \n",
       "StateHoliday                     0                    0  \n",
       "SchoolHoliday                    0                    0  \n",
       "SaleYear                      2015                 2015  \n",
       "SaleMonth                        4                    4  \n",
       "SaleDay                         30                   30  \n",
       "SaleDayOfYear                  120                  120  "
      ]
     },
     "execution_count": 12,
     "metadata": {},
     "output_type": "execute_result"
    }
   ],
   "source": [
    "sales_df[\"SaleYear\"] = sales_df.Date.dt.year\n",
    "sales_df[\"SaleMonth\"] = sales_df.Date.dt.month\n",
    "sales_df[\"SaleDay\"] = sales_df.Date.dt.day\n",
    "sales_df[\"SaleDayOfYear\"] = sales_df.Date.dt.dayofyear\n",
    "sales_df.tail().T"
   ]
  },
  {
   "cell_type": "code",
   "execution_count": 13,
   "id": "e04d237e",
   "metadata": {},
   "outputs": [
    {
     "data": {
      "text/plain": [
       "Store            0\n",
       "DayOfWeek        0\n",
       "Date             0\n",
       "Sales            0\n",
       "Customers        0\n",
       "Open             0\n",
       "Promo            0\n",
       "StateHoliday     0\n",
       "SchoolHoliday    0\n",
       "SaleYear         0\n",
       "SaleMonth        0\n",
       "SaleDay          0\n",
       "SaleDayOfYear    0\n",
       "dtype: int64"
      ]
     },
     "execution_count": 13,
     "metadata": {},
     "output_type": "execute_result"
    }
   ],
   "source": [
    "sales_df.isna().sum()"
   ]
  },
  {
   "cell_type": "code",
   "execution_count": 14,
   "id": "be4e7da7",
   "metadata": {},
   "outputs": [
    {
     "name": "stdout",
     "output_type": "stream",
     "text": [
      "Date\n",
      "StateHoliday\n"
     ]
    }
   ],
   "source": [
    "for label, content in sales_df.items():\n",
    "    if not pd.api.types.is_numeric_dtype(content):\n",
    "        print(label)"
   ]
  },
  {
   "cell_type": "code",
   "execution_count": 15,
   "id": "f900c628",
   "metadata": {},
   "outputs": [
    {
     "data": {
      "text/html": [
       "<div>\n",
       "<style scoped>\n",
       "    .dataframe tbody tr th:only-of-type {\n",
       "        vertical-align: middle;\n",
       "    }\n",
       "\n",
       "    .dataframe tbody tr th {\n",
       "        vertical-align: top;\n",
       "    }\n",
       "\n",
       "    .dataframe thead th {\n",
       "        text-align: right;\n",
       "    }\n",
       "</style>\n",
       "<table border=\"1\" class=\"dataframe\">\n",
       "  <thead>\n",
       "    <tr style=\"text-align: right;\">\n",
       "      <th></th>\n",
       "      <th>Store</th>\n",
       "      <th>DayOfWeek</th>\n",
       "      <th>Date</th>\n",
       "      <th>Sales</th>\n",
       "      <th>Customers</th>\n",
       "      <th>Open</th>\n",
       "      <th>Promo</th>\n",
       "      <th>StateHoliday</th>\n",
       "      <th>SchoolHoliday</th>\n",
       "      <th>SaleYear</th>\n",
       "      <th>SaleMonth</th>\n",
       "      <th>SaleDay</th>\n",
       "      <th>SaleDayOfYear</th>\n",
       "    </tr>\n",
       "  </thead>\n",
       "  <tbody>\n",
       "    <tr>\n",
       "      <th>0</th>\n",
       "      <td>1115</td>\n",
       "      <td>2</td>\n",
       "      <td>2013-01-01</td>\n",
       "      <td>0</td>\n",
       "      <td>0</td>\n",
       "      <td>0</td>\n",
       "      <td>0</td>\n",
       "      <td>a</td>\n",
       "      <td>1</td>\n",
       "      <td>2013</td>\n",
       "      <td>1</td>\n",
       "      <td>1</td>\n",
       "      <td>1</td>\n",
       "    </tr>\n",
       "    <tr>\n",
       "      <th>1</th>\n",
       "      <td>379</td>\n",
       "      <td>2</td>\n",
       "      <td>2013-01-01</td>\n",
       "      <td>0</td>\n",
       "      <td>0</td>\n",
       "      <td>0</td>\n",
       "      <td>0</td>\n",
       "      <td>a</td>\n",
       "      <td>1</td>\n",
       "      <td>2013</td>\n",
       "      <td>1</td>\n",
       "      <td>1</td>\n",
       "      <td>1</td>\n",
       "    </tr>\n",
       "    <tr>\n",
       "      <th>2</th>\n",
       "      <td>378</td>\n",
       "      <td>2</td>\n",
       "      <td>2013-01-01</td>\n",
       "      <td>0</td>\n",
       "      <td>0</td>\n",
       "      <td>0</td>\n",
       "      <td>0</td>\n",
       "      <td>a</td>\n",
       "      <td>1</td>\n",
       "      <td>2013</td>\n",
       "      <td>1</td>\n",
       "      <td>1</td>\n",
       "      <td>1</td>\n",
       "    </tr>\n",
       "    <tr>\n",
       "      <th>3</th>\n",
       "      <td>377</td>\n",
       "      <td>2</td>\n",
       "      <td>2013-01-01</td>\n",
       "      <td>0</td>\n",
       "      <td>0</td>\n",
       "      <td>0</td>\n",
       "      <td>0</td>\n",
       "      <td>a</td>\n",
       "      <td>1</td>\n",
       "      <td>2013</td>\n",
       "      <td>1</td>\n",
       "      <td>1</td>\n",
       "      <td>1</td>\n",
       "    </tr>\n",
       "    <tr>\n",
       "      <th>4</th>\n",
       "      <td>376</td>\n",
       "      <td>2</td>\n",
       "      <td>2013-01-01</td>\n",
       "      <td>0</td>\n",
       "      <td>0</td>\n",
       "      <td>0</td>\n",
       "      <td>0</td>\n",
       "      <td>a</td>\n",
       "      <td>1</td>\n",
       "      <td>2013</td>\n",
       "      <td>1</td>\n",
       "      <td>1</td>\n",
       "      <td>1</td>\n",
       "    </tr>\n",
       "    <tr>\n",
       "      <th>...</th>\n",
       "      <td>...</td>\n",
       "      <td>...</td>\n",
       "      <td>...</td>\n",
       "      <td>...</td>\n",
       "      <td>...</td>\n",
       "      <td>...</td>\n",
       "      <td>...</td>\n",
       "      <td>...</td>\n",
       "      <td>...</td>\n",
       "      <td>...</td>\n",
       "      <td>...</td>\n",
       "      <td>...</td>\n",
       "      <td>...</td>\n",
       "    </tr>\n",
       "    <tr>\n",
       "      <th>914624</th>\n",
       "      <td>746</td>\n",
       "      <td>4</td>\n",
       "      <td>2015-04-30</td>\n",
       "      <td>9469</td>\n",
       "      <td>748</td>\n",
       "      <td>1</td>\n",
       "      <td>1</td>\n",
       "      <td>0</td>\n",
       "      <td>0</td>\n",
       "      <td>2015</td>\n",
       "      <td>4</td>\n",
       "      <td>30</td>\n",
       "      <td>120</td>\n",
       "    </tr>\n",
       "    <tr>\n",
       "      <th>914625</th>\n",
       "      <td>747</td>\n",
       "      <td>4</td>\n",
       "      <td>2015-04-30</td>\n",
       "      <td>12123</td>\n",
       "      <td>1017</td>\n",
       "      <td>1</td>\n",
       "      <td>1</td>\n",
       "      <td>0</td>\n",
       "      <td>0</td>\n",
       "      <td>2015</td>\n",
       "      <td>4</td>\n",
       "      <td>30</td>\n",
       "      <td>120</td>\n",
       "    </tr>\n",
       "    <tr>\n",
       "      <th>914626</th>\n",
       "      <td>748</td>\n",
       "      <td>4</td>\n",
       "      <td>2015-04-30</td>\n",
       "      <td>9524</td>\n",
       "      <td>746</td>\n",
       "      <td>1</td>\n",
       "      <td>1</td>\n",
       "      <td>0</td>\n",
       "      <td>0</td>\n",
       "      <td>2015</td>\n",
       "      <td>4</td>\n",
       "      <td>30</td>\n",
       "      <td>120</td>\n",
       "    </tr>\n",
       "    <tr>\n",
       "      <th>914627</th>\n",
       "      <td>742</td>\n",
       "      <td>4</td>\n",
       "      <td>2015-04-30</td>\n",
       "      <td>12225</td>\n",
       "      <td>1196</td>\n",
       "      <td>1</td>\n",
       "      <td>1</td>\n",
       "      <td>0</td>\n",
       "      <td>0</td>\n",
       "      <td>2015</td>\n",
       "      <td>4</td>\n",
       "      <td>30</td>\n",
       "      <td>120</td>\n",
       "    </tr>\n",
       "    <tr>\n",
       "      <th>914628</th>\n",
       "      <td>1</td>\n",
       "      <td>4</td>\n",
       "      <td>2015-04-30</td>\n",
       "      <td>6228</td>\n",
       "      <td>650</td>\n",
       "      <td>1</td>\n",
       "      <td>1</td>\n",
       "      <td>0</td>\n",
       "      <td>0</td>\n",
       "      <td>2015</td>\n",
       "      <td>4</td>\n",
       "      <td>30</td>\n",
       "      <td>120</td>\n",
       "    </tr>\n",
       "  </tbody>\n",
       "</table>\n",
       "<p>914629 rows × 13 columns</p>\n",
       "</div>"
      ],
      "text/plain": [
       "        Store  DayOfWeek       Date  Sales  Customers  Open  Promo  \\\n",
       "0        1115          2 2013-01-01      0          0     0      0   \n",
       "1         379          2 2013-01-01      0          0     0      0   \n",
       "2         378          2 2013-01-01      0          0     0      0   \n",
       "3         377          2 2013-01-01      0          0     0      0   \n",
       "4         376          2 2013-01-01      0          0     0      0   \n",
       "...       ...        ...        ...    ...        ...   ...    ...   \n",
       "914624    746          4 2015-04-30   9469        748     1      1   \n",
       "914625    747          4 2015-04-30  12123       1017     1      1   \n",
       "914626    748          4 2015-04-30   9524        746     1      1   \n",
       "914627    742          4 2015-04-30  12225       1196     1      1   \n",
       "914628      1          4 2015-04-30   6228        650     1      1   \n",
       "\n",
       "       StateHoliday  SchoolHoliday  SaleYear  SaleMonth  SaleDay  \\\n",
       "0                 a              1      2013          1        1   \n",
       "1                 a              1      2013          1        1   \n",
       "2                 a              1      2013          1        1   \n",
       "3                 a              1      2013          1        1   \n",
       "4                 a              1      2013          1        1   \n",
       "...             ...            ...       ...        ...      ...   \n",
       "914624            0              0      2015          4       30   \n",
       "914625            0              0      2015          4       30   \n",
       "914626            0              0      2015          4       30   \n",
       "914627            0              0      2015          4       30   \n",
       "914628            0              0      2015          4       30   \n",
       "\n",
       "        SaleDayOfYear  \n",
       "0                   1  \n",
       "1                   1  \n",
       "2                   1  \n",
       "3                   1  \n",
       "4                   1  \n",
       "...               ...  \n",
       "914624            120  \n",
       "914625            120  \n",
       "914626            120  \n",
       "914627            120  \n",
       "914628            120  \n",
       "\n",
       "[914629 rows x 13 columns]"
      ]
     },
     "execution_count": 15,
     "metadata": {},
     "output_type": "execute_result"
    }
   ],
   "source": [
    "sales_df"
   ]
  },
  {
   "cell_type": "code",
   "execution_count": 16,
   "id": "09c4c629",
   "metadata": {},
   "outputs": [
    {
     "data": {
      "text/plain": [
       "0    887690\n",
       "a     16149\n",
       "b      6690\n",
       "c      4100\n",
       "Name: StateHoliday, dtype: int64"
      ]
     },
     "execution_count": 16,
     "metadata": {},
     "output_type": "execute_result"
    }
   ],
   "source": [
    "sales_df.StateHoliday.value_counts()"
   ]
  },
  {
   "cell_type": "code",
   "execution_count": 17,
   "id": "c57d5f5a",
   "metadata": {},
   "outputs": [],
   "source": [
    "sales_df[\"StateHoliday\"] = pd.Categorical(sales_df[\"StateHoliday\"]).codes "
   ]
  },
  {
   "cell_type": "code",
   "execution_count": 18,
   "id": "9f3e0f57",
   "metadata": {},
   "outputs": [
    {
     "data": {
      "text/plain": [
       "array([1, 1, 1, ..., 0, 0, 0], dtype=int8)"
      ]
     },
     "execution_count": 18,
     "metadata": {},
     "output_type": "execute_result"
    }
   ],
   "source": [
    "pd.Categorical(sales_df[\"StateHoliday\"]).codes"
   ]
  },
  {
   "cell_type": "code",
   "execution_count": 19,
   "id": "21554e4e",
   "metadata": {},
   "outputs": [
    {
     "data": {
      "text/plain": [
       "0    887690\n",
       "1     16149\n",
       "2      6690\n",
       "3      4100\n",
       "Name: StateHoliday, dtype: int64"
      ]
     },
     "execution_count": 19,
     "metadata": {},
     "output_type": "execute_result"
    }
   ],
   "source": [
    "sales_df.StateHoliday.value_counts()"
   ]
  },
  {
   "cell_type": "code",
   "execution_count": 20,
   "id": "ffb33cc3",
   "metadata": {},
   "outputs": [
    {
     "data": {
      "text/html": [
       "<div>\n",
       "<style scoped>\n",
       "    .dataframe tbody tr th:only-of-type {\n",
       "        vertical-align: middle;\n",
       "    }\n",
       "\n",
       "    .dataframe tbody tr th {\n",
       "        vertical-align: top;\n",
       "    }\n",
       "\n",
       "    .dataframe thead th {\n",
       "        text-align: right;\n",
       "    }\n",
       "</style>\n",
       "<table border=\"1\" class=\"dataframe\">\n",
       "  <thead>\n",
       "    <tr style=\"text-align: right;\">\n",
       "      <th></th>\n",
       "      <th>Store</th>\n",
       "      <th>DayOfWeek</th>\n",
       "      <th>Date</th>\n",
       "      <th>Sales</th>\n",
       "      <th>Customers</th>\n",
       "      <th>Open</th>\n",
       "      <th>Promo</th>\n",
       "      <th>StateHoliday</th>\n",
       "      <th>SchoolHoliday</th>\n",
       "      <th>SaleYear</th>\n",
       "      <th>SaleMonth</th>\n",
       "      <th>SaleDay</th>\n",
       "      <th>SaleDayOfYear</th>\n",
       "    </tr>\n",
       "  </thead>\n",
       "  <tbody>\n",
       "    <tr>\n",
       "      <th>0</th>\n",
       "      <td>1115</td>\n",
       "      <td>2</td>\n",
       "      <td>2013-01-01</td>\n",
       "      <td>0</td>\n",
       "      <td>0</td>\n",
       "      <td>0</td>\n",
       "      <td>0</td>\n",
       "      <td>1</td>\n",
       "      <td>1</td>\n",
       "      <td>2013</td>\n",
       "      <td>1</td>\n",
       "      <td>1</td>\n",
       "      <td>1</td>\n",
       "    </tr>\n",
       "    <tr>\n",
       "      <th>1</th>\n",
       "      <td>379</td>\n",
       "      <td>2</td>\n",
       "      <td>2013-01-01</td>\n",
       "      <td>0</td>\n",
       "      <td>0</td>\n",
       "      <td>0</td>\n",
       "      <td>0</td>\n",
       "      <td>1</td>\n",
       "      <td>1</td>\n",
       "      <td>2013</td>\n",
       "      <td>1</td>\n",
       "      <td>1</td>\n",
       "      <td>1</td>\n",
       "    </tr>\n",
       "    <tr>\n",
       "      <th>2</th>\n",
       "      <td>378</td>\n",
       "      <td>2</td>\n",
       "      <td>2013-01-01</td>\n",
       "      <td>0</td>\n",
       "      <td>0</td>\n",
       "      <td>0</td>\n",
       "      <td>0</td>\n",
       "      <td>1</td>\n",
       "      <td>1</td>\n",
       "      <td>2013</td>\n",
       "      <td>1</td>\n",
       "      <td>1</td>\n",
       "      <td>1</td>\n",
       "    </tr>\n",
       "    <tr>\n",
       "      <th>3</th>\n",
       "      <td>377</td>\n",
       "      <td>2</td>\n",
       "      <td>2013-01-01</td>\n",
       "      <td>0</td>\n",
       "      <td>0</td>\n",
       "      <td>0</td>\n",
       "      <td>0</td>\n",
       "      <td>1</td>\n",
       "      <td>1</td>\n",
       "      <td>2013</td>\n",
       "      <td>1</td>\n",
       "      <td>1</td>\n",
       "      <td>1</td>\n",
       "    </tr>\n",
       "    <tr>\n",
       "      <th>4</th>\n",
       "      <td>376</td>\n",
       "      <td>2</td>\n",
       "      <td>2013-01-01</td>\n",
       "      <td>0</td>\n",
       "      <td>0</td>\n",
       "      <td>0</td>\n",
       "      <td>0</td>\n",
       "      <td>1</td>\n",
       "      <td>1</td>\n",
       "      <td>2013</td>\n",
       "      <td>1</td>\n",
       "      <td>1</td>\n",
       "      <td>1</td>\n",
       "    </tr>\n",
       "    <tr>\n",
       "      <th>...</th>\n",
       "      <td>...</td>\n",
       "      <td>...</td>\n",
       "      <td>...</td>\n",
       "      <td>...</td>\n",
       "      <td>...</td>\n",
       "      <td>...</td>\n",
       "      <td>...</td>\n",
       "      <td>...</td>\n",
       "      <td>...</td>\n",
       "      <td>...</td>\n",
       "      <td>...</td>\n",
       "      <td>...</td>\n",
       "      <td>...</td>\n",
       "    </tr>\n",
       "    <tr>\n",
       "      <th>914624</th>\n",
       "      <td>746</td>\n",
       "      <td>4</td>\n",
       "      <td>2015-04-30</td>\n",
       "      <td>9469</td>\n",
       "      <td>748</td>\n",
       "      <td>1</td>\n",
       "      <td>1</td>\n",
       "      <td>0</td>\n",
       "      <td>0</td>\n",
       "      <td>2015</td>\n",
       "      <td>4</td>\n",
       "      <td>30</td>\n",
       "      <td>120</td>\n",
       "    </tr>\n",
       "    <tr>\n",
       "      <th>914625</th>\n",
       "      <td>747</td>\n",
       "      <td>4</td>\n",
       "      <td>2015-04-30</td>\n",
       "      <td>12123</td>\n",
       "      <td>1017</td>\n",
       "      <td>1</td>\n",
       "      <td>1</td>\n",
       "      <td>0</td>\n",
       "      <td>0</td>\n",
       "      <td>2015</td>\n",
       "      <td>4</td>\n",
       "      <td>30</td>\n",
       "      <td>120</td>\n",
       "    </tr>\n",
       "    <tr>\n",
       "      <th>914626</th>\n",
       "      <td>748</td>\n",
       "      <td>4</td>\n",
       "      <td>2015-04-30</td>\n",
       "      <td>9524</td>\n",
       "      <td>746</td>\n",
       "      <td>1</td>\n",
       "      <td>1</td>\n",
       "      <td>0</td>\n",
       "      <td>0</td>\n",
       "      <td>2015</td>\n",
       "      <td>4</td>\n",
       "      <td>30</td>\n",
       "      <td>120</td>\n",
       "    </tr>\n",
       "    <tr>\n",
       "      <th>914627</th>\n",
       "      <td>742</td>\n",
       "      <td>4</td>\n",
       "      <td>2015-04-30</td>\n",
       "      <td>12225</td>\n",
       "      <td>1196</td>\n",
       "      <td>1</td>\n",
       "      <td>1</td>\n",
       "      <td>0</td>\n",
       "      <td>0</td>\n",
       "      <td>2015</td>\n",
       "      <td>4</td>\n",
       "      <td>30</td>\n",
       "      <td>120</td>\n",
       "    </tr>\n",
       "    <tr>\n",
       "      <th>914628</th>\n",
       "      <td>1</td>\n",
       "      <td>4</td>\n",
       "      <td>2015-04-30</td>\n",
       "      <td>6228</td>\n",
       "      <td>650</td>\n",
       "      <td>1</td>\n",
       "      <td>1</td>\n",
       "      <td>0</td>\n",
       "      <td>0</td>\n",
       "      <td>2015</td>\n",
       "      <td>4</td>\n",
       "      <td>30</td>\n",
       "      <td>120</td>\n",
       "    </tr>\n",
       "  </tbody>\n",
       "</table>\n",
       "<p>914629 rows × 13 columns</p>\n",
       "</div>"
      ],
      "text/plain": [
       "        Store  DayOfWeek       Date  Sales  Customers  Open  Promo  \\\n",
       "0        1115          2 2013-01-01      0          0     0      0   \n",
       "1         379          2 2013-01-01      0          0     0      0   \n",
       "2         378          2 2013-01-01      0          0     0      0   \n",
       "3         377          2 2013-01-01      0          0     0      0   \n",
       "4         376          2 2013-01-01      0          0     0      0   \n",
       "...       ...        ...        ...    ...        ...   ...    ...   \n",
       "914624    746          4 2015-04-30   9469        748     1      1   \n",
       "914625    747          4 2015-04-30  12123       1017     1      1   \n",
       "914626    748          4 2015-04-30   9524        746     1      1   \n",
       "914627    742          4 2015-04-30  12225       1196     1      1   \n",
       "914628      1          4 2015-04-30   6228        650     1      1   \n",
       "\n",
       "        StateHoliday  SchoolHoliday  SaleYear  SaleMonth  SaleDay  \\\n",
       "0                  1              1      2013          1        1   \n",
       "1                  1              1      2013          1        1   \n",
       "2                  1              1      2013          1        1   \n",
       "3                  1              1      2013          1        1   \n",
       "4                  1              1      2013          1        1   \n",
       "...              ...            ...       ...        ...      ...   \n",
       "914624             0              0      2015          4       30   \n",
       "914625             0              0      2015          4       30   \n",
       "914626             0              0      2015          4       30   \n",
       "914627             0              0      2015          4       30   \n",
       "914628             0              0      2015          4       30   \n",
       "\n",
       "        SaleDayOfYear  \n",
       "0                   1  \n",
       "1                   1  \n",
       "2                   1  \n",
       "3                   1  \n",
       "4                   1  \n",
       "...               ...  \n",
       "914624            120  \n",
       "914625            120  \n",
       "914626            120  \n",
       "914627            120  \n",
       "914628            120  \n",
       "\n",
       "[914629 rows x 13 columns]"
      ]
     },
     "execution_count": 20,
     "metadata": {},
     "output_type": "execute_result"
    }
   ],
   "source": [
    "sales_df.reindex()\n",
    "sales_df"
   ]
  },
  {
   "cell_type": "markdown",
   "id": "cf14c4ac",
   "metadata": {},
   "source": [
    "### 3.2 Stores Data"
   ]
  },
  {
   "cell_type": "code",
   "execution_count": 24,
   "id": "09e783fb",
   "metadata": {},
   "outputs": [
    {
     "name": "stdout",
     "output_type": "stream",
     "text": [
      "<class 'pandas.core.frame.DataFrame'>\n",
      "RangeIndex: 1115 entries, 0 to 1114\n",
      "Data columns (total 10 columns):\n",
      " #   Column                     Non-Null Count  Dtype  \n",
      "---  ------                     --------------  -----  \n",
      " 0   Store                      1115 non-null   int64  \n",
      " 1   StoreType                  1115 non-null   object \n",
      " 2   Assortment                 1115 non-null   object \n",
      " 3   CompetitionDistance        1112 non-null   float64\n",
      " 4   CompetitionOpenSinceMonth  761 non-null    float64\n",
      " 5   CompetitionOpenSinceYear   761 non-null    float64\n",
      " 6   Promo2                     1115 non-null   int64  \n",
      " 7   Promo2SinceWeek            571 non-null    float64\n",
      " 8   Promo2SinceYear            571 non-null    float64\n",
      " 9   PromoInterval              571 non-null    object \n",
      "dtypes: float64(5), int64(2), object(3)\n",
      "memory usage: 87.2+ KB\n"
     ]
    }
   ],
   "source": [
    "# stores_df = pd.read_csv(\"data/store.csv\", low_memory=False)\n",
    "stores_df.info()"
   ]
  },
  {
   "cell_type": "code",
   "execution_count": 25,
   "id": "350c4ab0",
   "metadata": {},
   "outputs": [
    {
     "data": {
      "text/html": [
       "<div>\n",
       "<style scoped>\n",
       "    .dataframe tbody tr th:only-of-type {\n",
       "        vertical-align: middle;\n",
       "    }\n",
       "\n",
       "    .dataframe tbody tr th {\n",
       "        vertical-align: top;\n",
       "    }\n",
       "\n",
       "    .dataframe thead th {\n",
       "        text-align: right;\n",
       "    }\n",
       "</style>\n",
       "<table border=\"1\" class=\"dataframe\">\n",
       "  <thead>\n",
       "    <tr style=\"text-align: right;\">\n",
       "      <th></th>\n",
       "      <th>Store</th>\n",
       "      <th>StoreType</th>\n",
       "      <th>Assortment</th>\n",
       "      <th>CompetitionDistance</th>\n",
       "      <th>CompetitionOpenSinceMonth</th>\n",
       "      <th>CompetitionOpenSinceYear</th>\n",
       "      <th>Promo2</th>\n",
       "      <th>Promo2SinceWeek</th>\n",
       "      <th>Promo2SinceYear</th>\n",
       "      <th>PromoInterval</th>\n",
       "    </tr>\n",
       "  </thead>\n",
       "  <tbody>\n",
       "    <tr>\n",
       "      <th>0</th>\n",
       "      <td>1</td>\n",
       "      <td>c</td>\n",
       "      <td>a</td>\n",
       "      <td>1270.0</td>\n",
       "      <td>9.0</td>\n",
       "      <td>2008.0</td>\n",
       "      <td>0</td>\n",
       "      <td>NaN</td>\n",
       "      <td>NaN</td>\n",
       "      <td>NaN</td>\n",
       "    </tr>\n",
       "    <tr>\n",
       "      <th>1</th>\n",
       "      <td>2</td>\n",
       "      <td>a</td>\n",
       "      <td>a</td>\n",
       "      <td>570.0</td>\n",
       "      <td>11.0</td>\n",
       "      <td>2007.0</td>\n",
       "      <td>1</td>\n",
       "      <td>13.0</td>\n",
       "      <td>2010.0</td>\n",
       "      <td>Jan,Apr,Jul,Oct</td>\n",
       "    </tr>\n",
       "    <tr>\n",
       "      <th>2</th>\n",
       "      <td>3</td>\n",
       "      <td>a</td>\n",
       "      <td>a</td>\n",
       "      <td>14130.0</td>\n",
       "      <td>12.0</td>\n",
       "      <td>2006.0</td>\n",
       "      <td>1</td>\n",
       "      <td>14.0</td>\n",
       "      <td>2011.0</td>\n",
       "      <td>Jan,Apr,Jul,Oct</td>\n",
       "    </tr>\n",
       "    <tr>\n",
       "      <th>3</th>\n",
       "      <td>4</td>\n",
       "      <td>c</td>\n",
       "      <td>c</td>\n",
       "      <td>620.0</td>\n",
       "      <td>9.0</td>\n",
       "      <td>2009.0</td>\n",
       "      <td>0</td>\n",
       "      <td>NaN</td>\n",
       "      <td>NaN</td>\n",
       "      <td>NaN</td>\n",
       "    </tr>\n",
       "    <tr>\n",
       "      <th>4</th>\n",
       "      <td>5</td>\n",
       "      <td>a</td>\n",
       "      <td>a</td>\n",
       "      <td>29910.0</td>\n",
       "      <td>4.0</td>\n",
       "      <td>2015.0</td>\n",
       "      <td>0</td>\n",
       "      <td>NaN</td>\n",
       "      <td>NaN</td>\n",
       "      <td>NaN</td>\n",
       "    </tr>\n",
       "  </tbody>\n",
       "</table>\n",
       "</div>"
      ],
      "text/plain": [
       "   Store StoreType Assortment  CompetitionDistance  CompetitionOpenSinceMonth  \\\n",
       "0      1         c          a               1270.0                        9.0   \n",
       "1      2         a          a                570.0                       11.0   \n",
       "2      3         a          a              14130.0                       12.0   \n",
       "3      4         c          c                620.0                        9.0   \n",
       "4      5         a          a              29910.0                        4.0   \n",
       "\n",
       "   CompetitionOpenSinceYear  Promo2  Promo2SinceWeek  Promo2SinceYear  \\\n",
       "0                    2008.0       0              NaN              NaN   \n",
       "1                    2007.0       1             13.0           2010.0   \n",
       "2                    2006.0       1             14.0           2011.0   \n",
       "3                    2009.0       0              NaN              NaN   \n",
       "4                    2015.0       0              NaN              NaN   \n",
       "\n",
       "     PromoInterval  \n",
       "0              NaN  \n",
       "1  Jan,Apr,Jul,Oct  \n",
       "2  Jan,Apr,Jul,Oct  \n",
       "3              NaN  \n",
       "4              NaN  "
      ]
     },
     "execution_count": 25,
     "metadata": {},
     "output_type": "execute_result"
    }
   ],
   "source": [
    "stores_df.head(5)"
   ]
  },
  {
   "cell_type": "code",
   "execution_count": 26,
   "id": "9d9dbf9b",
   "metadata": {},
   "outputs": [],
   "source": [
    "# Let us create a restore point of our sales dataset.\n",
    "stores_df_backup = stores_df.copy(deep=True)"
   ]
  },
  {
   "cell_type": "code",
   "execution_count": 43,
   "id": "9dafd56d",
   "metadata": {},
   "outputs": [],
   "source": [
    "stores_df = stores_df_backup.copy(deep=True)"
   ]
  },
  {
   "cell_type": "code",
   "execution_count": 44,
   "id": "03621e80",
   "metadata": {},
   "outputs": [
    {
     "data": {
      "text/plain": [
       "Store                          0\n",
       "StoreType                      0\n",
       "Assortment                     0\n",
       "CompetitionDistance            3\n",
       "CompetitionOpenSinceMonth    354\n",
       "CompetitionOpenSinceYear     354\n",
       "Promo2                         0\n",
       "Promo2SinceWeek              544\n",
       "Promo2SinceYear              544\n",
       "PromoInterval                544\n",
       "dtype: int64"
      ]
     },
     "execution_count": 44,
     "metadata": {},
     "output_type": "execute_result"
    }
   ],
   "source": [
    "# Check for Missing Values\n",
    "stores_df.isna().sum()"
   ]
  },
  {
   "cell_type": "code",
   "execution_count": 45,
   "id": "e1b623db",
   "metadata": {},
   "outputs": [
    {
     "data": {
      "text/html": [
       "<div>\n",
       "<style scoped>\n",
       "    .dataframe tbody tr th:only-of-type {\n",
       "        vertical-align: middle;\n",
       "    }\n",
       "\n",
       "    .dataframe tbody tr th {\n",
       "        vertical-align: top;\n",
       "    }\n",
       "\n",
       "    .dataframe thead th {\n",
       "        text-align: right;\n",
       "    }\n",
       "</style>\n",
       "<table border=\"1\" class=\"dataframe\">\n",
       "  <thead>\n",
       "    <tr style=\"text-align: right;\">\n",
       "      <th></th>\n",
       "      <th>Store</th>\n",
       "      <th>CompetitionDistance</th>\n",
       "      <th>CompetitionOpenSinceMonth</th>\n",
       "      <th>CompetitionOpenSinceYear</th>\n",
       "      <th>Promo2</th>\n",
       "      <th>Promo2SinceWeek</th>\n",
       "      <th>Promo2SinceYear</th>\n",
       "    </tr>\n",
       "  </thead>\n",
       "  <tbody>\n",
       "    <tr>\n",
       "      <th>count</th>\n",
       "      <td>1115.00000</td>\n",
       "      <td>1112.000000</td>\n",
       "      <td>761.000000</td>\n",
       "      <td>761.000000</td>\n",
       "      <td>1115.000000</td>\n",
       "      <td>571.000000</td>\n",
       "      <td>571.000000</td>\n",
       "    </tr>\n",
       "    <tr>\n",
       "      <th>mean</th>\n",
       "      <td>558.00000</td>\n",
       "      <td>5404.901079</td>\n",
       "      <td>7.224704</td>\n",
       "      <td>2008.668857</td>\n",
       "      <td>0.512108</td>\n",
       "      <td>23.595447</td>\n",
       "      <td>2011.763573</td>\n",
       "    </tr>\n",
       "    <tr>\n",
       "      <th>std</th>\n",
       "      <td>322.01708</td>\n",
       "      <td>7663.174720</td>\n",
       "      <td>3.212348</td>\n",
       "      <td>6.195983</td>\n",
       "      <td>0.500078</td>\n",
       "      <td>14.141984</td>\n",
       "      <td>1.674935</td>\n",
       "    </tr>\n",
       "    <tr>\n",
       "      <th>min</th>\n",
       "      <td>1.00000</td>\n",
       "      <td>20.000000</td>\n",
       "      <td>1.000000</td>\n",
       "      <td>1900.000000</td>\n",
       "      <td>0.000000</td>\n",
       "      <td>1.000000</td>\n",
       "      <td>2009.000000</td>\n",
       "    </tr>\n",
       "    <tr>\n",
       "      <th>25%</th>\n",
       "      <td>279.50000</td>\n",
       "      <td>717.500000</td>\n",
       "      <td>4.000000</td>\n",
       "      <td>2006.000000</td>\n",
       "      <td>0.000000</td>\n",
       "      <td>13.000000</td>\n",
       "      <td>2011.000000</td>\n",
       "    </tr>\n",
       "    <tr>\n",
       "      <th>50%</th>\n",
       "      <td>558.00000</td>\n",
       "      <td>2325.000000</td>\n",
       "      <td>8.000000</td>\n",
       "      <td>2010.000000</td>\n",
       "      <td>1.000000</td>\n",
       "      <td>22.000000</td>\n",
       "      <td>2012.000000</td>\n",
       "    </tr>\n",
       "    <tr>\n",
       "      <th>75%</th>\n",
       "      <td>836.50000</td>\n",
       "      <td>6882.500000</td>\n",
       "      <td>10.000000</td>\n",
       "      <td>2013.000000</td>\n",
       "      <td>1.000000</td>\n",
       "      <td>37.000000</td>\n",
       "      <td>2013.000000</td>\n",
       "    </tr>\n",
       "    <tr>\n",
       "      <th>max</th>\n",
       "      <td>1115.00000</td>\n",
       "      <td>75860.000000</td>\n",
       "      <td>12.000000</td>\n",
       "      <td>2015.000000</td>\n",
       "      <td>1.000000</td>\n",
       "      <td>50.000000</td>\n",
       "      <td>2015.000000</td>\n",
       "    </tr>\n",
       "  </tbody>\n",
       "</table>\n",
       "</div>"
      ],
      "text/plain": [
       "            Store  CompetitionDistance  CompetitionOpenSinceMonth  \\\n",
       "count  1115.00000          1112.000000                 761.000000   \n",
       "mean    558.00000          5404.901079                   7.224704   \n",
       "std     322.01708          7663.174720                   3.212348   \n",
       "min       1.00000            20.000000                   1.000000   \n",
       "25%     279.50000           717.500000                   4.000000   \n",
       "50%     558.00000          2325.000000                   8.000000   \n",
       "75%     836.50000          6882.500000                  10.000000   \n",
       "max    1115.00000         75860.000000                  12.000000   \n",
       "\n",
       "       CompetitionOpenSinceYear       Promo2  Promo2SinceWeek  Promo2SinceYear  \n",
       "count                761.000000  1115.000000       571.000000       571.000000  \n",
       "mean                2008.668857     0.512108        23.595447      2011.763573  \n",
       "std                    6.195983     0.500078        14.141984         1.674935  \n",
       "min                 1900.000000     0.000000         1.000000      2009.000000  \n",
       "25%                 2006.000000     0.000000        13.000000      2011.000000  \n",
       "50%                 2010.000000     1.000000        22.000000      2012.000000  \n",
       "75%                 2013.000000     1.000000        37.000000      2013.000000  \n",
       "max                 2015.000000     1.000000        50.000000      2015.000000  "
      ]
     },
     "execution_count": 45,
     "metadata": {},
     "output_type": "execute_result"
    }
   ],
   "source": [
    "stores_df.describe()"
   ]
  },
  {
   "cell_type": "code",
   "execution_count": 46,
   "id": "ed205bfa",
   "metadata": {},
   "outputs": [
    {
     "data": {
      "text/plain": [
       "['Store',\n",
       " 'CompetitionDistance',\n",
       " 'CompetitionOpenSinceMonth',\n",
       " 'CompetitionOpenSinceYear',\n",
       " 'Promo2',\n",
       " 'Promo2SinceWeek',\n",
       " 'Promo2SinceYear']"
      ]
     },
     "execution_count": 46,
     "metadata": {},
     "output_type": "execute_result"
    }
   ],
   "source": [
    "numeric_cols = stores_df.select_dtypes(include=np.number).columns.tolist()\n",
    "numeric_cols"
   ]
  },
  {
   "cell_type": "code",
   "execution_count": 47,
   "id": "3b15a544",
   "metadata": {},
   "outputs": [
    {
     "data": {
      "text/plain": [
       "Store                          0\n",
       "StoreType                      0\n",
       "Assortment                     0\n",
       "CompetitionDistance            0\n",
       "CompetitionOpenSinceMonth      0\n",
       "CompetitionOpenSinceYear       0\n",
       "Promo2                         0\n",
       "Promo2SinceWeek                0\n",
       "Promo2SinceYear                0\n",
       "PromoInterval                544\n",
       "dtype: int64"
      ]
     },
     "execution_count": 47,
     "metadata": {},
     "output_type": "execute_result"
    }
   ],
   "source": [
    "# Replace Missing Values\n",
    "# stores_df = stores_df.fillna(stores_df.median()) # Deprecated\n",
    "stores_df[numeric_cols] = stores_df[numeric_cols].fillna(stores_df[numeric_cols].median())\n",
    "stores_df.isnull().sum()"
   ]
  },
  {
   "cell_type": "code",
   "execution_count": 48,
   "id": "71f5ff8e",
   "metadata": {},
   "outputs": [],
   "source": [
    "#### Strings"
   ]
  },
  {
   "cell_type": "code",
   "execution_count": 49,
   "id": "deed2975",
   "metadata": {},
   "outputs": [
    {
     "name": "stdout",
     "output_type": "stream",
     "text": [
      "StoreType\n",
      "Assortment\n",
      "PromoInterval\n"
     ]
    }
   ],
   "source": [
    "# Find columns which contains strings\n",
    "for label, content in stores_df.items():\n",
    "    if pd.api.types.is_string_dtype(content):\n",
    "        print(label)"
   ]
  },
  {
   "cell_type": "code",
   "execution_count": 50,
   "id": "5fa2b5ad",
   "metadata": {},
   "outputs": [
    {
     "data": {
      "text/plain": [
       "a    602\n",
       "d    348\n",
       "c    148\n",
       "b     17\n",
       "Name: StoreType, dtype: int64"
      ]
     },
     "execution_count": 50,
     "metadata": {},
     "output_type": "execute_result"
    }
   ],
   "source": [
    "stores_df.StoreType.value_counts()"
   ]
  },
  {
   "cell_type": "code",
   "execution_count": 51,
   "id": "229ab203",
   "metadata": {},
   "outputs": [
    {
     "data": {
      "text/plain": [
       "a    593\n",
       "c    513\n",
       "b      9\n",
       "Name: Assortment, dtype: int64"
      ]
     },
     "execution_count": 51,
     "metadata": {},
     "output_type": "execute_result"
    }
   ],
   "source": [
    "stores_df.Assortment.value_counts()"
   ]
  },
  {
   "cell_type": "code",
   "execution_count": 52,
   "id": "f24cb2aa",
   "metadata": {},
   "outputs": [],
   "source": [
    "# Turn categorical variables into numbers and fill missing\n",
    "for label, content in stores_df.items():\n",
    "     if pd.api.types.is_string_dtype(content) and label != 'PromoInterval':\n",
    "        # Turn categories into numbers and add \n",
    "        stores_df[label] = pd.Categorical(content).codes "
   ]
  },
  {
   "cell_type": "code",
   "execution_count": 53,
   "id": "8b6fd544",
   "metadata": {},
   "outputs": [
    {
     "data": {
      "text/plain": [
       "0    602\n",
       "3    348\n",
       "2    148\n",
       "1     17\n",
       "Name: StoreType, dtype: int64"
      ]
     },
     "execution_count": 53,
     "metadata": {},
     "output_type": "execute_result"
    }
   ],
   "source": [
    "stores_df.StoreType.value_counts()"
   ]
  },
  {
   "cell_type": "code",
   "execution_count": 54,
   "id": "a41e6f73",
   "metadata": {},
   "outputs": [
    {
     "data": {
      "text/plain": [
       "0    593\n",
       "2    513\n",
       "1      9\n",
       "Name: Assortment, dtype: int64"
      ]
     },
     "execution_count": 54,
     "metadata": {},
     "output_type": "execute_result"
    }
   ],
   "source": [
    "stores_df.Assortment.value_counts()"
   ]
  },
  {
   "cell_type": "code",
   "execution_count": 55,
   "id": "5a1383dd",
   "metadata": {},
   "outputs": [
    {
     "data": {
      "text/plain": [
       "Store                          0\n",
       "StoreType                      0\n",
       "Assortment                     0\n",
       "CompetitionDistance            0\n",
       "CompetitionOpenSinceMonth      0\n",
       "CompetitionOpenSinceYear       0\n",
       "Promo2                         0\n",
       "Promo2SinceWeek                0\n",
       "Promo2SinceYear                0\n",
       "PromoInterval                544\n",
       "dtype: int64"
      ]
     },
     "execution_count": 55,
     "metadata": {},
     "output_type": "execute_result"
    }
   ],
   "source": [
    "stores_df.isnull().sum()"
   ]
  },
  {
   "cell_type": "code",
   "execution_count": 56,
   "id": "ef22967b",
   "metadata": {},
   "outputs": [],
   "source": [
    "# Fill Promo Interval Missing values with a space\n",
    "stores_df.fillna('', inplace=True)"
   ]
  },
  {
   "cell_type": "code",
   "execution_count": 57,
   "id": "bc522c8d",
   "metadata": {},
   "outputs": [
    {
     "data": {
      "text/plain": [
       "                    544\n",
       "Jan,Apr,Jul,Oct     335\n",
       "Feb,May,Aug,Nov     130\n",
       "Mar,Jun,Sept,Dec    106\n",
       "Name: PromoInterval, dtype: int64"
      ]
     },
     "execution_count": 57,
     "metadata": {},
     "output_type": "execute_result"
    }
   ],
   "source": [
    "stores_df.PromoInterval.value_counts()"
   ]
  },
  {
   "cell_type": "code",
   "execution_count": 58,
   "id": "615ed788",
   "metadata": {},
   "outputs": [
    {
     "data": {
      "text/plain": [
       "Store                        0\n",
       "StoreType                    0\n",
       "Assortment                   0\n",
       "CompetitionDistance          0\n",
       "CompetitionOpenSinceMonth    0\n",
       "CompetitionOpenSinceYear     0\n",
       "Promo2                       0\n",
       "Promo2SinceWeek              0\n",
       "Promo2SinceYear              0\n",
       "PromoInterval                0\n",
       "dtype: int64"
      ]
     },
     "execution_count": 58,
     "metadata": {},
     "output_type": "execute_result"
    }
   ],
   "source": [
    "stores_df.isnull().sum()"
   ]
  },
  {
   "cell_type": "code",
   "execution_count": 60,
   "id": "2dfa243b",
   "metadata": {},
   "outputs": [
    {
     "data": {
      "text/plain": [
       "12"
      ]
     },
     "execution_count": 60,
     "metadata": {},
     "output_type": "execute_result"
    }
   ],
   "source": [
    "# Make Promo Interval more Meaningful and usable in our model\n",
    "months = [\"Jan\", \"Feb\", \"Mar\", \"Apr\", \"May\", \"Jun\", \"Jul\", \"Aug\", \"Sep\", \"Oct\", \"Nov\", \"Dec\"]\n",
    "len(months)"
   ]
  },
  {
   "cell_type": "code",
   "execution_count": 62,
   "id": "e7cacf7a",
   "metadata": {},
   "outputs": [
    {
     "data": {
      "text/html": [
       "<div>\n",
       "<style scoped>\n",
       "    .dataframe tbody tr th:only-of-type {\n",
       "        vertical-align: middle;\n",
       "    }\n",
       "\n",
       "    .dataframe tbody tr th {\n",
       "        vertical-align: top;\n",
       "    }\n",
       "\n",
       "    .dataframe thead th {\n",
       "        text-align: right;\n",
       "    }\n",
       "</style>\n",
       "<table border=\"1\" class=\"dataframe\">\n",
       "  <thead>\n",
       "    <tr style=\"text-align: right;\">\n",
       "      <th></th>\n",
       "      <th>0</th>\n",
       "      <th>1</th>\n",
       "      <th>2</th>\n",
       "      <th>3</th>\n",
       "      <th>4</th>\n",
       "    </tr>\n",
       "  </thead>\n",
       "  <tbody>\n",
       "    <tr>\n",
       "      <th>Store</th>\n",
       "      <td>1</td>\n",
       "      <td>2</td>\n",
       "      <td>3</td>\n",
       "      <td>4</td>\n",
       "      <td>5</td>\n",
       "    </tr>\n",
       "    <tr>\n",
       "      <th>StoreType</th>\n",
       "      <td>2</td>\n",
       "      <td>0</td>\n",
       "      <td>0</td>\n",
       "      <td>2</td>\n",
       "      <td>0</td>\n",
       "    </tr>\n",
       "    <tr>\n",
       "      <th>Assortment</th>\n",
       "      <td>0</td>\n",
       "      <td>0</td>\n",
       "      <td>0</td>\n",
       "      <td>2</td>\n",
       "      <td>0</td>\n",
       "    </tr>\n",
       "    <tr>\n",
       "      <th>CompetitionDistance</th>\n",
       "      <td>1270.0</td>\n",
       "      <td>570.0</td>\n",
       "      <td>14130.0</td>\n",
       "      <td>620.0</td>\n",
       "      <td>29910.0</td>\n",
       "    </tr>\n",
       "    <tr>\n",
       "      <th>CompetitionOpenSinceMonth</th>\n",
       "      <td>9.0</td>\n",
       "      <td>11.0</td>\n",
       "      <td>12.0</td>\n",
       "      <td>9.0</td>\n",
       "      <td>4.0</td>\n",
       "    </tr>\n",
       "    <tr>\n",
       "      <th>CompetitionOpenSinceYear</th>\n",
       "      <td>2008.0</td>\n",
       "      <td>2007.0</td>\n",
       "      <td>2006.0</td>\n",
       "      <td>2009.0</td>\n",
       "      <td>2015.0</td>\n",
       "    </tr>\n",
       "    <tr>\n",
       "      <th>Promo2</th>\n",
       "      <td>0</td>\n",
       "      <td>1</td>\n",
       "      <td>1</td>\n",
       "      <td>0</td>\n",
       "      <td>0</td>\n",
       "    </tr>\n",
       "    <tr>\n",
       "      <th>Promo2SinceWeek</th>\n",
       "      <td>22.0</td>\n",
       "      <td>13.0</td>\n",
       "      <td>14.0</td>\n",
       "      <td>22.0</td>\n",
       "      <td>22.0</td>\n",
       "    </tr>\n",
       "    <tr>\n",
       "      <th>Promo2SinceYear</th>\n",
       "      <td>2012.0</td>\n",
       "      <td>2010.0</td>\n",
       "      <td>2011.0</td>\n",
       "      <td>2012.0</td>\n",
       "      <td>2012.0</td>\n",
       "    </tr>\n",
       "    <tr>\n",
       "      <th>PromoInterval</th>\n",
       "      <td></td>\n",
       "      <td>Jan,Apr,Jul,Oct</td>\n",
       "      <td>Jan,Apr,Jul,Oct</td>\n",
       "      <td></td>\n",
       "      <td></td>\n",
       "    </tr>\n",
       "    <tr>\n",
       "      <th>PromoIntervalJan</th>\n",
       "      <td>NaN</td>\n",
       "      <td>1.0</td>\n",
       "      <td>1.0</td>\n",
       "      <td>NaN</td>\n",
       "      <td>NaN</td>\n",
       "    </tr>\n",
       "    <tr>\n",
       "      <th>PromoIntervalFeb</th>\n",
       "      <td>NaN</td>\n",
       "      <td>NaN</td>\n",
       "      <td>NaN</td>\n",
       "      <td>NaN</td>\n",
       "      <td>NaN</td>\n",
       "    </tr>\n",
       "    <tr>\n",
       "      <th>PromoIntervalMar</th>\n",
       "      <td>NaN</td>\n",
       "      <td>NaN</td>\n",
       "      <td>NaN</td>\n",
       "      <td>NaN</td>\n",
       "      <td>NaN</td>\n",
       "    </tr>\n",
       "    <tr>\n",
       "      <th>PromoIntervalApr</th>\n",
       "      <td>NaN</td>\n",
       "      <td>1.0</td>\n",
       "      <td>1.0</td>\n",
       "      <td>NaN</td>\n",
       "      <td>NaN</td>\n",
       "    </tr>\n",
       "    <tr>\n",
       "      <th>PromoIntervalMay</th>\n",
       "      <td>NaN</td>\n",
       "      <td>NaN</td>\n",
       "      <td>NaN</td>\n",
       "      <td>NaN</td>\n",
       "      <td>NaN</td>\n",
       "    </tr>\n",
       "    <tr>\n",
       "      <th>PromoIntervalJun</th>\n",
       "      <td>NaN</td>\n",
       "      <td>NaN</td>\n",
       "      <td>NaN</td>\n",
       "      <td>NaN</td>\n",
       "      <td>NaN</td>\n",
       "    </tr>\n",
       "    <tr>\n",
       "      <th>PromoIntervalJul</th>\n",
       "      <td>NaN</td>\n",
       "      <td>1.0</td>\n",
       "      <td>1.0</td>\n",
       "      <td>NaN</td>\n",
       "      <td>NaN</td>\n",
       "    </tr>\n",
       "    <tr>\n",
       "      <th>PromoIntervalAug</th>\n",
       "      <td>NaN</td>\n",
       "      <td>NaN</td>\n",
       "      <td>NaN</td>\n",
       "      <td>NaN</td>\n",
       "      <td>NaN</td>\n",
       "    </tr>\n",
       "    <tr>\n",
       "      <th>PromoIntervalSep</th>\n",
       "      <td>NaN</td>\n",
       "      <td>NaN</td>\n",
       "      <td>NaN</td>\n",
       "      <td>NaN</td>\n",
       "      <td>NaN</td>\n",
       "    </tr>\n",
       "    <tr>\n",
       "      <th>PromoIntervalOct</th>\n",
       "      <td>NaN</td>\n",
       "      <td>1.0</td>\n",
       "      <td>1.0</td>\n",
       "      <td>NaN</td>\n",
       "      <td>NaN</td>\n",
       "    </tr>\n",
       "    <tr>\n",
       "      <th>PromoIntervalNov</th>\n",
       "      <td>NaN</td>\n",
       "      <td>NaN</td>\n",
       "      <td>NaN</td>\n",
       "      <td>NaN</td>\n",
       "      <td>NaN</td>\n",
       "    </tr>\n",
       "    <tr>\n",
       "      <th>PromoIntervalDec</th>\n",
       "      <td>NaN</td>\n",
       "      <td>NaN</td>\n",
       "      <td>NaN</td>\n",
       "      <td>NaN</td>\n",
       "      <td>NaN</td>\n",
       "    </tr>\n",
       "  </tbody>\n",
       "</table>\n",
       "</div>"
      ],
      "text/plain": [
       "                                0                1                2       3  \\\n",
       "Store                           1                2                3       4   \n",
       "StoreType                       2                0                0       2   \n",
       "Assortment                      0                0                0       2   \n",
       "CompetitionDistance        1270.0            570.0          14130.0   620.0   \n",
       "CompetitionOpenSinceMonth     9.0             11.0             12.0     9.0   \n",
       "CompetitionOpenSinceYear   2008.0           2007.0           2006.0  2009.0   \n",
       "Promo2                          0                1                1       0   \n",
       "Promo2SinceWeek              22.0             13.0             14.0    22.0   \n",
       "Promo2SinceYear            2012.0           2010.0           2011.0  2012.0   \n",
       "PromoInterval                      Jan,Apr,Jul,Oct  Jan,Apr,Jul,Oct           \n",
       "PromoIntervalJan              NaN              1.0              1.0     NaN   \n",
       "PromoIntervalFeb              NaN              NaN              NaN     NaN   \n",
       "PromoIntervalMar              NaN              NaN              NaN     NaN   \n",
       "PromoIntervalApr              NaN              1.0              1.0     NaN   \n",
       "PromoIntervalMay              NaN              NaN              NaN     NaN   \n",
       "PromoIntervalJun              NaN              NaN              NaN     NaN   \n",
       "PromoIntervalJul              NaN              1.0              1.0     NaN   \n",
       "PromoIntervalAug              NaN              NaN              NaN     NaN   \n",
       "PromoIntervalSep              NaN              NaN              NaN     NaN   \n",
       "PromoIntervalOct              NaN              1.0              1.0     NaN   \n",
       "PromoIntervalNov              NaN              NaN              NaN     NaN   \n",
       "PromoIntervalDec              NaN              NaN              NaN     NaN   \n",
       "\n",
       "                                 4  \n",
       "Store                            5  \n",
       "StoreType                        0  \n",
       "Assortment                       0  \n",
       "CompetitionDistance        29910.0  \n",
       "CompetitionOpenSinceMonth      4.0  \n",
       "CompetitionOpenSinceYear    2015.0  \n",
       "Promo2                           0  \n",
       "Promo2SinceWeek               22.0  \n",
       "Promo2SinceYear             2012.0  \n",
       "PromoInterval                       \n",
       "PromoIntervalJan               NaN  \n",
       "PromoIntervalFeb               NaN  \n",
       "PromoIntervalMar               NaN  \n",
       "PromoIntervalApr               NaN  \n",
       "PromoIntervalMay               NaN  \n",
       "PromoIntervalJun               NaN  \n",
       "PromoIntervalJul               NaN  \n",
       "PromoIntervalAug               NaN  \n",
       "PromoIntervalSep               NaN  \n",
       "PromoIntervalOct               NaN  \n",
       "PromoIntervalNov               NaN  \n",
       "PromoIntervalDec               NaN  "
      ]
     },
     "execution_count": 62,
     "metadata": {},
     "output_type": "execute_result"
    }
   ],
   "source": [
    "df_month = pd.DataFrame()\n",
    "for month in months:\n",
    "    stores_df.loc[stores_df['PromoInterval'].str.contains(month, case=False), \"PromoInterval\" + month] = 1\n",
    "stores_df.head(5).T"
   ]
  },
  {
   "cell_type": "code",
   "execution_count": 63,
   "id": "4ac66c20",
   "metadata": {},
   "outputs": [
    {
     "data": {
      "text/plain": [
       "Store                           0\n",
       "StoreType                       0\n",
       "Assortment                      0\n",
       "CompetitionDistance             0\n",
       "CompetitionOpenSinceMonth       0\n",
       "CompetitionOpenSinceYear        0\n",
       "Promo2                          0\n",
       "Promo2SinceWeek                 0\n",
       "Promo2SinceYear                 0\n",
       "PromoInterval                   0\n",
       "PromoIntervalJan              780\n",
       "PromoIntervalFeb              985\n",
       "PromoIntervalMar             1009\n",
       "PromoIntervalApr              780\n",
       "PromoIntervalMay              985\n",
       "PromoIntervalJun             1009\n",
       "PromoIntervalJul              780\n",
       "PromoIntervalAug              985\n",
       "PromoIntervalSep             1009\n",
       "PromoIntervalOct              780\n",
       "PromoIntervalNov              985\n",
       "PromoIntervalDec             1009\n",
       "dtype: int64"
      ]
     },
     "execution_count": 63,
     "metadata": {},
     "output_type": "execute_result"
    }
   ],
   "source": [
    "stores_df.isnull().sum()"
   ]
  },
  {
   "cell_type": "code",
   "execution_count": 64,
   "id": "31a1ac05",
   "metadata": {},
   "outputs": [],
   "source": [
    "stores_df.fillna(0, inplace=True)"
   ]
  },
  {
   "cell_type": "code",
   "execution_count": 65,
   "id": "5e9e07d3",
   "metadata": {},
   "outputs": [
    {
     "data": {
      "text/plain": [
       "Store                        0\n",
       "StoreType                    0\n",
       "Assortment                   0\n",
       "CompetitionDistance          0\n",
       "CompetitionOpenSinceMonth    0\n",
       "CompetitionOpenSinceYear     0\n",
       "Promo2                       0\n",
       "Promo2SinceWeek              0\n",
       "Promo2SinceYear              0\n",
       "PromoInterval                0\n",
       "PromoIntervalJan             0\n",
       "PromoIntervalFeb             0\n",
       "PromoIntervalMar             0\n",
       "PromoIntervalApr             0\n",
       "PromoIntervalMay             0\n",
       "PromoIntervalJun             0\n",
       "PromoIntervalJul             0\n",
       "PromoIntervalAug             0\n",
       "PromoIntervalSep             0\n",
       "PromoIntervalOct             0\n",
       "PromoIntervalNov             0\n",
       "PromoIntervalDec             0\n",
       "dtype: int64"
      ]
     },
     "execution_count": 65,
     "metadata": {},
     "output_type": "execute_result"
    }
   ],
   "source": [
    "stores_df.isnull().sum()"
   ]
  },
  {
   "cell_type": "code",
   "execution_count": 77,
   "id": "451b411a",
   "metadata": {},
   "outputs": [],
   "source": [
    "stores_df.to_csv(\"data/store_details.csv\")"
   ]
  },
  {
   "cell_type": "markdown",
   "id": "0cb13c7c",
   "metadata": {},
   "source": [
    "### 3.3 Merge DataFrames"
   ]
  },
  {
   "cell_type": "code",
   "execution_count": 66,
   "id": "187036ec",
   "metadata": {},
   "outputs": [],
   "source": [
    "sales_merged_df = sales_df.merge(stores_df, on='Store', how='left')"
   ]
  },
  {
   "cell_type": "code",
   "execution_count": 67,
   "id": "6748379a",
   "metadata": {},
   "outputs": [
    {
     "data": {
      "text/html": [
       "<div>\n",
       "<style scoped>\n",
       "    .dataframe tbody tr th:only-of-type {\n",
       "        vertical-align: middle;\n",
       "    }\n",
       "\n",
       "    .dataframe tbody tr th {\n",
       "        vertical-align: top;\n",
       "    }\n",
       "\n",
       "    .dataframe thead th {\n",
       "        text-align: right;\n",
       "    }\n",
       "</style>\n",
       "<table border=\"1\" class=\"dataframe\">\n",
       "  <thead>\n",
       "    <tr style=\"text-align: right;\">\n",
       "      <th></th>\n",
       "      <th>Store</th>\n",
       "      <th>DayOfWeek</th>\n",
       "      <th>Date</th>\n",
       "      <th>Sales</th>\n",
       "      <th>Customers</th>\n",
       "      <th>Open</th>\n",
       "      <th>Promo</th>\n",
       "      <th>StateHoliday</th>\n",
       "      <th>SchoolHoliday</th>\n",
       "      <th>SaleYear</th>\n",
       "      <th>...</th>\n",
       "      <th>PromoIntervalMar</th>\n",
       "      <th>PromoIntervalApr</th>\n",
       "      <th>PromoIntervalMay</th>\n",
       "      <th>PromoIntervalJun</th>\n",
       "      <th>PromoIntervalJul</th>\n",
       "      <th>PromoIntervalAug</th>\n",
       "      <th>PromoIntervalSep</th>\n",
       "      <th>PromoIntervalOct</th>\n",
       "      <th>PromoIntervalNov</th>\n",
       "      <th>PromoIntervalDec</th>\n",
       "    </tr>\n",
       "  </thead>\n",
       "  <tbody>\n",
       "    <tr>\n",
       "      <th>0</th>\n",
       "      <td>1115</td>\n",
       "      <td>2</td>\n",
       "      <td>2013-01-01</td>\n",
       "      <td>0</td>\n",
       "      <td>0</td>\n",
       "      <td>0</td>\n",
       "      <td>0</td>\n",
       "      <td>1</td>\n",
       "      <td>1</td>\n",
       "      <td>2013</td>\n",
       "      <td>...</td>\n",
       "      <td>1.0</td>\n",
       "      <td>0.0</td>\n",
       "      <td>0.0</td>\n",
       "      <td>1.0</td>\n",
       "      <td>0.0</td>\n",
       "      <td>0.0</td>\n",
       "      <td>1.0</td>\n",
       "      <td>0.0</td>\n",
       "      <td>0.0</td>\n",
       "      <td>1.0</td>\n",
       "    </tr>\n",
       "    <tr>\n",
       "      <th>1</th>\n",
       "      <td>379</td>\n",
       "      <td>2</td>\n",
       "      <td>2013-01-01</td>\n",
       "      <td>0</td>\n",
       "      <td>0</td>\n",
       "      <td>0</td>\n",
       "      <td>0</td>\n",
       "      <td>1</td>\n",
       "      <td>1</td>\n",
       "      <td>2013</td>\n",
       "      <td>...</td>\n",
       "      <td>0.0</td>\n",
       "      <td>0.0</td>\n",
       "      <td>0.0</td>\n",
       "      <td>0.0</td>\n",
       "      <td>0.0</td>\n",
       "      <td>0.0</td>\n",
       "      <td>0.0</td>\n",
       "      <td>0.0</td>\n",
       "      <td>0.0</td>\n",
       "      <td>0.0</td>\n",
       "    </tr>\n",
       "    <tr>\n",
       "      <th>2</th>\n",
       "      <td>378</td>\n",
       "      <td>2</td>\n",
       "      <td>2013-01-01</td>\n",
       "      <td>0</td>\n",
       "      <td>0</td>\n",
       "      <td>0</td>\n",
       "      <td>0</td>\n",
       "      <td>1</td>\n",
       "      <td>1</td>\n",
       "      <td>2013</td>\n",
       "      <td>...</td>\n",
       "      <td>0.0</td>\n",
       "      <td>0.0</td>\n",
       "      <td>0.0</td>\n",
       "      <td>0.0</td>\n",
       "      <td>0.0</td>\n",
       "      <td>0.0</td>\n",
       "      <td>0.0</td>\n",
       "      <td>0.0</td>\n",
       "      <td>0.0</td>\n",
       "      <td>0.0</td>\n",
       "    </tr>\n",
       "    <tr>\n",
       "      <th>3</th>\n",
       "      <td>377</td>\n",
       "      <td>2</td>\n",
       "      <td>2013-01-01</td>\n",
       "      <td>0</td>\n",
       "      <td>0</td>\n",
       "      <td>0</td>\n",
       "      <td>0</td>\n",
       "      <td>1</td>\n",
       "      <td>1</td>\n",
       "      <td>2013</td>\n",
       "      <td>...</td>\n",
       "      <td>0.0</td>\n",
       "      <td>0.0</td>\n",
       "      <td>1.0</td>\n",
       "      <td>0.0</td>\n",
       "      <td>0.0</td>\n",
       "      <td>1.0</td>\n",
       "      <td>0.0</td>\n",
       "      <td>0.0</td>\n",
       "      <td>1.0</td>\n",
       "      <td>0.0</td>\n",
       "    </tr>\n",
       "    <tr>\n",
       "      <th>4</th>\n",
       "      <td>376</td>\n",
       "      <td>2</td>\n",
       "      <td>2013-01-01</td>\n",
       "      <td>0</td>\n",
       "      <td>0</td>\n",
       "      <td>0</td>\n",
       "      <td>0</td>\n",
       "      <td>1</td>\n",
       "      <td>1</td>\n",
       "      <td>2013</td>\n",
       "      <td>...</td>\n",
       "      <td>0.0</td>\n",
       "      <td>0.0</td>\n",
       "      <td>0.0</td>\n",
       "      <td>0.0</td>\n",
       "      <td>0.0</td>\n",
       "      <td>0.0</td>\n",
       "      <td>0.0</td>\n",
       "      <td>0.0</td>\n",
       "      <td>0.0</td>\n",
       "      <td>0.0</td>\n",
       "    </tr>\n",
       "    <tr>\n",
       "      <th>...</th>\n",
       "      <td>...</td>\n",
       "      <td>...</td>\n",
       "      <td>...</td>\n",
       "      <td>...</td>\n",
       "      <td>...</td>\n",
       "      <td>...</td>\n",
       "      <td>...</td>\n",
       "      <td>...</td>\n",
       "      <td>...</td>\n",
       "      <td>...</td>\n",
       "      <td>...</td>\n",
       "      <td>...</td>\n",
       "      <td>...</td>\n",
       "      <td>...</td>\n",
       "      <td>...</td>\n",
       "      <td>...</td>\n",
       "      <td>...</td>\n",
       "      <td>...</td>\n",
       "      <td>...</td>\n",
       "      <td>...</td>\n",
       "      <td>...</td>\n",
       "    </tr>\n",
       "    <tr>\n",
       "      <th>914624</th>\n",
       "      <td>746</td>\n",
       "      <td>4</td>\n",
       "      <td>2015-04-30</td>\n",
       "      <td>9469</td>\n",
       "      <td>748</td>\n",
       "      <td>1</td>\n",
       "      <td>1</td>\n",
       "      <td>0</td>\n",
       "      <td>0</td>\n",
       "      <td>2015</td>\n",
       "      <td>...</td>\n",
       "      <td>1.0</td>\n",
       "      <td>0.0</td>\n",
       "      <td>0.0</td>\n",
       "      <td>1.0</td>\n",
       "      <td>0.0</td>\n",
       "      <td>0.0</td>\n",
       "      <td>1.0</td>\n",
       "      <td>0.0</td>\n",
       "      <td>0.0</td>\n",
       "      <td>1.0</td>\n",
       "    </tr>\n",
       "    <tr>\n",
       "      <th>914625</th>\n",
       "      <td>747</td>\n",
       "      <td>4</td>\n",
       "      <td>2015-04-30</td>\n",
       "      <td>12123</td>\n",
       "      <td>1017</td>\n",
       "      <td>1</td>\n",
       "      <td>1</td>\n",
       "      <td>0</td>\n",
       "      <td>0</td>\n",
       "      <td>2015</td>\n",
       "      <td>...</td>\n",
       "      <td>0.0</td>\n",
       "      <td>0.0</td>\n",
       "      <td>0.0</td>\n",
       "      <td>0.0</td>\n",
       "      <td>0.0</td>\n",
       "      <td>0.0</td>\n",
       "      <td>0.0</td>\n",
       "      <td>0.0</td>\n",
       "      <td>0.0</td>\n",
       "      <td>0.0</td>\n",
       "    </tr>\n",
       "    <tr>\n",
       "      <th>914626</th>\n",
       "      <td>748</td>\n",
       "      <td>4</td>\n",
       "      <td>2015-04-30</td>\n",
       "      <td>9524</td>\n",
       "      <td>746</td>\n",
       "      <td>1</td>\n",
       "      <td>1</td>\n",
       "      <td>0</td>\n",
       "      <td>0</td>\n",
       "      <td>2015</td>\n",
       "      <td>...</td>\n",
       "      <td>0.0</td>\n",
       "      <td>1.0</td>\n",
       "      <td>0.0</td>\n",
       "      <td>0.0</td>\n",
       "      <td>1.0</td>\n",
       "      <td>0.0</td>\n",
       "      <td>0.0</td>\n",
       "      <td>1.0</td>\n",
       "      <td>0.0</td>\n",
       "      <td>0.0</td>\n",
       "    </tr>\n",
       "    <tr>\n",
       "      <th>914627</th>\n",
       "      <td>742</td>\n",
       "      <td>4</td>\n",
       "      <td>2015-04-30</td>\n",
       "      <td>12225</td>\n",
       "      <td>1196</td>\n",
       "      <td>1</td>\n",
       "      <td>1</td>\n",
       "      <td>0</td>\n",
       "      <td>0</td>\n",
       "      <td>2015</td>\n",
       "      <td>...</td>\n",
       "      <td>0.0</td>\n",
       "      <td>0.0</td>\n",
       "      <td>0.0</td>\n",
       "      <td>0.0</td>\n",
       "      <td>0.0</td>\n",
       "      <td>0.0</td>\n",
       "      <td>0.0</td>\n",
       "      <td>0.0</td>\n",
       "      <td>0.0</td>\n",
       "      <td>0.0</td>\n",
       "    </tr>\n",
       "    <tr>\n",
       "      <th>914628</th>\n",
       "      <td>1</td>\n",
       "      <td>4</td>\n",
       "      <td>2015-04-30</td>\n",
       "      <td>6228</td>\n",
       "      <td>650</td>\n",
       "      <td>1</td>\n",
       "      <td>1</td>\n",
       "      <td>0</td>\n",
       "      <td>0</td>\n",
       "      <td>2015</td>\n",
       "      <td>...</td>\n",
       "      <td>0.0</td>\n",
       "      <td>0.0</td>\n",
       "      <td>0.0</td>\n",
       "      <td>0.0</td>\n",
       "      <td>0.0</td>\n",
       "      <td>0.0</td>\n",
       "      <td>0.0</td>\n",
       "      <td>0.0</td>\n",
       "      <td>0.0</td>\n",
       "      <td>0.0</td>\n",
       "    </tr>\n",
       "  </tbody>\n",
       "</table>\n",
       "<p>914629 rows × 34 columns</p>\n",
       "</div>"
      ],
      "text/plain": [
       "        Store  DayOfWeek       Date  Sales  Customers  Open  Promo  \\\n",
       "0        1115          2 2013-01-01      0          0     0      0   \n",
       "1         379          2 2013-01-01      0          0     0      0   \n",
       "2         378          2 2013-01-01      0          0     0      0   \n",
       "3         377          2 2013-01-01      0          0     0      0   \n",
       "4         376          2 2013-01-01      0          0     0      0   \n",
       "...       ...        ...        ...    ...        ...   ...    ...   \n",
       "914624    746          4 2015-04-30   9469        748     1      1   \n",
       "914625    747          4 2015-04-30  12123       1017     1      1   \n",
       "914626    748          4 2015-04-30   9524        746     1      1   \n",
       "914627    742          4 2015-04-30  12225       1196     1      1   \n",
       "914628      1          4 2015-04-30   6228        650     1      1   \n",
       "\n",
       "        StateHoliday  SchoolHoliday  SaleYear  ...  PromoIntervalMar  \\\n",
       "0                  1              1      2013  ...               1.0   \n",
       "1                  1              1      2013  ...               0.0   \n",
       "2                  1              1      2013  ...               0.0   \n",
       "3                  1              1      2013  ...               0.0   \n",
       "4                  1              1      2013  ...               0.0   \n",
       "...              ...            ...       ...  ...               ...   \n",
       "914624             0              0      2015  ...               1.0   \n",
       "914625             0              0      2015  ...               0.0   \n",
       "914626             0              0      2015  ...               0.0   \n",
       "914627             0              0      2015  ...               0.0   \n",
       "914628             0              0      2015  ...               0.0   \n",
       "\n",
       "        PromoIntervalApr  PromoIntervalMay  PromoIntervalJun  \\\n",
       "0                    0.0               0.0               1.0   \n",
       "1                    0.0               0.0               0.0   \n",
       "2                    0.0               0.0               0.0   \n",
       "3                    0.0               1.0               0.0   \n",
       "4                    0.0               0.0               0.0   \n",
       "...                  ...               ...               ...   \n",
       "914624               0.0               0.0               1.0   \n",
       "914625               0.0               0.0               0.0   \n",
       "914626               1.0               0.0               0.0   \n",
       "914627               0.0               0.0               0.0   \n",
       "914628               0.0               0.0               0.0   \n",
       "\n",
       "        PromoIntervalJul  PromoIntervalAug  PromoIntervalSep  \\\n",
       "0                    0.0               0.0               1.0   \n",
       "1                    0.0               0.0               0.0   \n",
       "2                    0.0               0.0               0.0   \n",
       "3                    0.0               1.0               0.0   \n",
       "4                    0.0               0.0               0.0   \n",
       "...                  ...               ...               ...   \n",
       "914624               0.0               0.0               1.0   \n",
       "914625               0.0               0.0               0.0   \n",
       "914626               1.0               0.0               0.0   \n",
       "914627               0.0               0.0               0.0   \n",
       "914628               0.0               0.0               0.0   \n",
       "\n",
       "        PromoIntervalOct  PromoIntervalNov  PromoIntervalDec  \n",
       "0                    0.0               0.0               1.0  \n",
       "1                    0.0               0.0               0.0  \n",
       "2                    0.0               0.0               0.0  \n",
       "3                    0.0               1.0               0.0  \n",
       "4                    0.0               0.0               0.0  \n",
       "...                  ...               ...               ...  \n",
       "914624               0.0               0.0               1.0  \n",
       "914625               0.0               0.0               0.0  \n",
       "914626               1.0               0.0               0.0  \n",
       "914627               0.0               0.0               0.0  \n",
       "914628               0.0               0.0               0.0  \n",
       "\n",
       "[914629 rows x 34 columns]"
      ]
     },
     "execution_count": 67,
     "metadata": {},
     "output_type": "execute_result"
    }
   ],
   "source": [
    "sales_merged_df"
   ]
  },
  {
   "cell_type": "code",
   "execution_count": 73,
   "id": "cf65a31e",
   "metadata": {},
   "outputs": [
    {
     "data": {
      "text/plain": [
       "((914629, 34), (914629, 13), (1115, 22))"
      ]
     },
     "execution_count": 73,
     "metadata": {},
     "output_type": "execute_result"
    }
   ],
   "source": [
    "sales_merged_df.shape, sales_df.shape, stores_df.shape"
   ]
  },
  {
   "cell_type": "code",
   "execution_count": 78,
   "id": "77d82193",
   "metadata": {},
   "outputs": [],
   "source": [
    "# Now that we have enriched the DataFrame with columnized features for our date, we can remove the Date column\n",
    "sales_merged_df.drop(\"Date\", axis=1, inplace=True)"
   ]
  },
  {
   "cell_type": "code",
   "execution_count": 79,
   "id": "020f4874",
   "metadata": {},
   "outputs": [],
   "source": [
    "# Now that we have enriched the DataFrame with columnized features for our PromoInterval, we can remove the  column\n",
    "sales_merged_df.drop('PromoInterval', axis=1, inplace=True)"
   ]
  },
  {
   "cell_type": "code",
   "execution_count": 80,
   "id": "ad63e87e",
   "metadata": {},
   "outputs": [
    {
     "data": {
      "text/plain": [
       "(914629, 32)"
      ]
     },
     "execution_count": 80,
     "metadata": {},
     "output_type": "execute_result"
    }
   ],
   "source": [
    "sales_merged_df.shape"
   ]
  },
  {
   "cell_type": "code",
   "execution_count": 84,
   "id": "ed3dc4b0",
   "metadata": {},
   "outputs": [],
   "source": [
    "# Let us try fitting to see if our values are now acceptable"
   ]
  },
  {
   "cell_type": "code",
   "execution_count": 81,
   "id": "af7c29b9",
   "metadata": {},
   "outputs": [],
   "source": [
    "X_train, y_train = sales_merged_df.drop(\"Sales\", axis=1), sales_merged_df.Sales"
   ]
  },
  {
   "cell_type": "code",
   "execution_count": 82,
   "id": "d8204577",
   "metadata": {},
   "outputs": [],
   "source": [
    "# Random Forest Regressor\n",
    "from sklearn.ensemble import RandomForestRegressor\n",
    "model = RandomForestRegressor(n_jobs=-1, random_state=42, n_estimators = 100, max_samples=100)"
   ]
  },
  {
   "cell_type": "code",
   "execution_count": 83,
   "id": "d92aee3d",
   "metadata": {},
   "outputs": [
    {
     "data": {
      "text/plain": [
       "RandomForestRegressor(max_samples=100, n_jobs=-1, random_state=42)"
      ]
     },
     "execution_count": 83,
     "metadata": {},
     "output_type": "execute_result"
    }
   ],
   "source": [
    "model.fit(X_train, y_train)"
   ]
  },
  {
   "cell_type": "markdown",
   "id": "6d1eaf24",
   "metadata": {},
   "source": [
    "### 3.4 Outlier Handling"
   ]
  },
  {
   "cell_type": "code",
   "execution_count": 87,
   "id": "7d56b93a",
   "metadata": {},
   "outputs": [
    {
     "data": {
      "image/png": "[encoded data removed]",
      "text/plain": [
       "<Figure size 1440x720 with 35 Axes>"
      ]
     },
     "metadata": {
      "needs_background": "light"
     },
     "output_type": "display_data"
    }
   ],
   "source": [
    "sales_merged_df.plot(kind='box', subplots=True, layout=(5,7),sharex=False,sharey=False, figsize=(20, 10), color='darkorange');"
   ]
  },
  {
   "cell_type": "code",
   "execution_count": 103,
   "id": "81627c83",
   "metadata": {},
   "outputs": [
    {
     "data": {
      "image/png": "[encoded data removed]",
      "text/plain": [
       "<Figure size 1440x720 with 14 Axes>"
      ]
     },
     "metadata": {
      "needs_background": "light"
     },
     "output_type": "display_data"
    }
   ],
   "source": [
    "sales_merged_df[[\"Sales\", \"CompetitionOpenSinceYear\", \"Customers\", \"CompetitionOpenSinceMonth\", \"CompetitionDistance\"]].plot(kind='box', subplots=True, layout=(2,7),sharex=False,sharey=False, figsize=(20, 10), color='darkorange');"
   ]
  },
  {
   "cell_type": "code",
   "execution_count": 104,
   "id": "838e2d83",
   "metadata": {},
   "outputs": [
    {
     "data": {
      "text/plain": [
       "array([   1,    2,    3, ..., 1113, 1114, 1115], dtype=int64)"
      ]
     },
     "execution_count": 104,
     "metadata": {},
     "output_type": "execute_result"
    }
   ],
   "source": []
  },
  {
   "cell_type": "code",
   "execution_count": null,
   "id": "ebef2f83",
   "metadata": {},
   "outputs": [],
   "source": []
  },
  {
   "cell_type": "code",
   "execution_count": 97,
   "id": "285334f6",
   "metadata": {},
   "outputs": [
    {
     "data": {
      "text/plain": [
       "8.0     323378\n",
       "9.0     102754\n",
       "4.0      78428\n",
       "11.0     75991\n",
       "3.0      57108\n",
       "7.0      53270\n",
       "12.0     52008\n",
       "10.0     50010\n",
       "6.0      40844\n",
       "5.0      35560\n",
       "2.0      34114\n",
       "1.0      11164\n",
       "Name: CompetitionOpenSinceMonth, dtype: int64"
      ]
     },
     "execution_count": 97,
     "metadata": {},
     "output_type": "execute_result"
    }
   ],
   "source": [
    "# Acceptable\n",
    "sales_merged_df.CompetitionOpenSinceMonth.value_counts()"
   ]
  },
  {
   "cell_type": "code",
   "execution_count": 120,
   "id": "6ed859dd",
   "metadata": {},
   "outputs": [],
   "source": [
    "check_features = [\"CompetitionOpenSinceYear\", \"Customers\", \"CompetitionDistance\", \"Sales\"]"
   ]
  },
  {
   "cell_type": "code",
   "execution_count": 121,
   "id": "354c7e4b",
   "metadata": {},
   "outputs": [],
   "source": [
    "def outliers_three_sigma(data_frame, features):\n",
    "    for feature in features.columns:\n",
    "        feature_data = data_frame[feature]\n",
    "        mean_val = np.mean(feature_data)\n",
    "        std_val = np.std(feature_data)\n",
    "        lower_limit = max(0, mean_val - 3*std_val)\n",
    "        upper_limit = mean_val + 3*std_val\n",
    "        print(f\"Analyzing Feature: {feature}\")\n",
    "        print(f\"     Mean: {mean_val:.2f}, Standard dev: {std_val:.2f} , Lower Limit: {lower_limit:.2f}, Upper Limit: {upper_limit:.2f}\")\n",
    "        data_frame = data_frame[data_frame[feature] >= lower_limit]\n",
    "        data_frame = data_frame[data_frame[feature] <= upper_limit]\n",
    "    return data_frame\n",
    "\n",
    "def outliers_iqr(data_frame, features):\n",
    "    for feature in features.columns:\n",
    "        feature_data = data_frame[feature]\n",
    "        Q1 = np.percentile(feature_data, 25.) \n",
    "        Q3 = np.percentile(feature_data, 75.) \n",
    "        IQR = Q3-Q1 \n",
    "        outlier_step = IQR * 1.5 \n",
    "        print(f\"Analyzing Feature: {feature}\")\n",
    "        print(f\"     Quartile 1: {Q1:.2f}, Quartile 3: {Q3:.2f}, Interquartile Range: {IQR:.2f}, Outlier Step: {outlier_step:.2f}\")\n",
    "        outliers = feature_data[~((feature_data >= Q1 - outlier_step) & (feature_data <= Q3 + outlier_step))].index.tolist()  \n",
    "        data_frame.drop(outliers, inplace = True, errors = 'ignore')\n",
    "    return data_frame"
   ]
  },
  {
   "cell_type": "code",
   "execution_count": 122,
   "id": "a6285e07",
   "metadata": {},
   "outputs": [
    {
     "name": "stdout",
     "output_type": "stream",
     "text": [
      "Analyzing Feature: CompetitionOpenSinceYear\n",
      "     Mean: 2009.11, Standard dev: 4.97 , Lower Limit: 1994.20, Upper Limit: 2024.01\n",
      "Analyzing Feature: Customers\n",
      "     Mean: 633.77, Standard dev: 465.34 , Lower Limit: 0.00, Upper Limit: 2029.79\n",
      "Analyzing Feature: CompetitionDistance\n",
      "     Mean: 5508.23, Standard dev: 7769.09 , Lower Limit: 0.00, Upper Limit: 28815.50\n",
      "Analyzing Feature: Sales\n",
      "     Mean: 5597.48, Standard dev: 3592.65 , Lower Limit: 0.00, Upper Limit: 16375.44\n"
     ]
    }
   ],
   "source": [
    "sales_merged_df_three_sigma = sales_merged_df.copy(deep=True)\n",
    "sales_merged_df_three_sigma = outliers_three_sigma(sales_merged_df_three_sigma, sales_merged_df[check_features])"
   ]
  },
  {
   "cell_type": "code",
   "execution_count": 123,
   "id": "6e3a8f97",
   "metadata": {},
   "outputs": [
    {
     "data": {
      "image/png": "[encoded data removed]",
      "text/plain": [
       "<Figure size 1440x720 with 14 Axes>"
      ]
     },
     "metadata": {
      "needs_background": "light"
     },
     "output_type": "display_data"
    }
   ],
   "source": [
    "sales_merged_df_three_sigma[check_features].plot(kind='box', subplots=True, layout=(2,7),sharex=False,sharey=False, figsize=(20, 10), color='darkorange');"
   ]
  },
  {
   "cell_type": "code",
   "execution_count": 124,
   "id": "5ba3f46d",
   "metadata": {},
   "outputs": [
    {
     "name": "stdout",
     "output_type": "stream",
     "text": [
      "Analyzing Feature: CompetitionOpenSinceYear\n",
      "     Quartile 1: 2008.00, Quartile 3: 2011.00, Interquartile Range: 3.00, Outlier Step: 4.50\n",
      "Analyzing Feature: Customers\n",
      "     Quartile 1: 407.00, Quartile 3: 839.00, Interquartile Range: 432.00, Outlier Step: 648.00\n",
      "Analyzing Feature: CompetitionDistance\n",
      "     Quartile 1: 780.00, Quartile 3: 6890.00, Interquartile Range: 6110.00, Outlier Step: 9165.00\n",
      "Analyzing Feature: Sales\n",
      "     Quartile 1: 3625.00, Quartile 3: 7521.00, Interquartile Range: 3896.00, Outlier Step: 5844.00\n"
     ]
    }
   ],
   "source": [
    "sales_merged_df_iqr = sales_merged_df.copy(deep=True)\n",
    "sales_merged_df_iqr = outliers_iqr(sales_merged_df_iqr, sales_merged_df[check_features])"
   ]
  },
  {
   "cell_type": "code",
   "execution_count": 125,
   "id": "a69974e5",
   "metadata": {},
   "outputs": [
    {
     "data": {
      "image/png": "[encoded data removed]",
      "text/plain": [
       "<Figure size 1440x720 with 14 Axes>"
      ]
     },
     "metadata": {
      "needs_background": "light"
     },
     "output_type": "display_data"
    }
   ],
   "source": [
    "sales_merged_df_iqr[check_features].plot(kind='box', subplots=True, layout=(2,7),sharex=False,sharey=False, figsize=(20, 10), color='darkorange');"
   ]
  },
  {
   "cell_type": "code",
   "execution_count": 127,
   "id": "c008220d",
   "metadata": {},
   "outputs": [
    {
     "data": {
      "text/plain": [
       "(78.85853171067177, 95.26026399775209)"
      ]
     },
     "execution_count": 127,
     "metadata": {},
     "output_type": "execute_result"
    }
   ],
   "source": [
    "sales_merged_df_iqr.size/sales_merged_df.size*100, sales_merged_df_three_sigma.size/sales_merged_df.size*100"
   ]
  },
  {
   "cell_type": "code",
   "execution_count": 128,
   "id": "581a65d9",
   "metadata": {},
   "outputs": [
    {
     "name": "stdout",
     "output_type": "stream",
     "text": [
      "Analyzing Feature: CompetitionOpenSinceYear\n",
      "     Mean: 2009.11, Standard dev: 4.97 , Lower Limit: 1994.20, Upper Limit: 2024.01\n",
      "Analyzing Feature: Customers\n",
      "     Mean: 633.77, Standard dev: 465.34 , Lower Limit: 0.00, Upper Limit: 2029.79\n",
      "Analyzing Feature: CompetitionDistance\n",
      "     Mean: 5508.23, Standard dev: 7769.09 , Lower Limit: 0.00, Upper Limit: 28815.50\n",
      "Analyzing Feature: Sales\n",
      "     Mean: 5597.48, Standard dev: 3592.65 , Lower Limit: 0.00, Upper Limit: 16375.44\n"
     ]
    }
   ],
   "source": [
    "sales_merged_df = outliers_three_sigma(sales_merged_df, sales_merged_df[check_features])"
   ]
  },
  {
   "cell_type": "code",
   "execution_count": 130,
   "id": "4aef222e",
   "metadata": {},
   "outputs": [
    {
     "data": {
      "text/plain": [
       "27880896"
      ]
     },
     "execution_count": 130,
     "metadata": {},
     "output_type": "execute_result"
    }
   ],
   "source": [
    "# 95% of the dataset\n",
    "sales_merged_df.size"
   ]
  },
  {
   "cell_type": "markdown",
   "id": "2acc3d78",
   "metadata": {},
   "source": [
    "## 4. Modelling"
   ]
  },
  {
   "cell_type": "markdown",
   "id": "4c25a344",
   "metadata": {},
   "source": [
    "#### 4.1 Separating between training and validation"
   ]
  },
  {
   "cell_type": "code",
   "execution_count": 131,
   "id": "ce9dfa19",
   "metadata": {},
   "outputs": [
    {
     "data": {
      "text/html": [
       "<div>\n",
       "<style scoped>\n",
       "    .dataframe tbody tr th:only-of-type {\n",
       "        vertical-align: middle;\n",
       "    }\n",
       "\n",
       "    .dataframe tbody tr th {\n",
       "        vertical-align: top;\n",
       "    }\n",
       "\n",
       "    .dataframe thead th {\n",
       "        text-align: right;\n",
       "    }\n",
       "</style>\n",
       "<table border=\"1\" class=\"dataframe\">\n",
       "  <thead>\n",
       "    <tr style=\"text-align: right;\">\n",
       "      <th></th>\n",
       "      <th>Store</th>\n",
       "      <th>DayOfWeek</th>\n",
       "      <th>Sales</th>\n",
       "      <th>Customers</th>\n",
       "      <th>Open</th>\n",
       "      <th>Promo</th>\n",
       "      <th>StateHoliday</th>\n",
       "      <th>SchoolHoliday</th>\n",
       "      <th>SaleYear</th>\n",
       "      <th>SaleMonth</th>\n",
       "      <th>...</th>\n",
       "      <th>PromoIntervalMar</th>\n",
       "      <th>PromoIntervalApr</th>\n",
       "      <th>PromoIntervalMay</th>\n",
       "      <th>PromoIntervalJun</th>\n",
       "      <th>PromoIntervalJul</th>\n",
       "      <th>PromoIntervalAug</th>\n",
       "      <th>PromoIntervalSep</th>\n",
       "      <th>PromoIntervalOct</th>\n",
       "      <th>PromoIntervalNov</th>\n",
       "      <th>PromoIntervalDec</th>\n",
       "    </tr>\n",
       "  </thead>\n",
       "  <tbody>\n",
       "    <tr>\n",
       "      <th>0</th>\n",
       "      <td>1115</td>\n",
       "      <td>2</td>\n",
       "      <td>0</td>\n",
       "      <td>0</td>\n",
       "      <td>0</td>\n",
       "      <td>0</td>\n",
       "      <td>1</td>\n",
       "      <td>1</td>\n",
       "      <td>2013</td>\n",
       "      <td>1</td>\n",
       "      <td>...</td>\n",
       "      <td>1.0</td>\n",
       "      <td>0.0</td>\n",
       "      <td>0.0</td>\n",
       "      <td>1.0</td>\n",
       "      <td>0.0</td>\n",
       "      <td>0.0</td>\n",
       "      <td>1.0</td>\n",
       "      <td>0.0</td>\n",
       "      <td>0.0</td>\n",
       "      <td>1.0</td>\n",
       "    </tr>\n",
       "    <tr>\n",
       "      <th>1</th>\n",
       "      <td>379</td>\n",
       "      <td>2</td>\n",
       "      <td>0</td>\n",
       "      <td>0</td>\n",
       "      <td>0</td>\n",
       "      <td>0</td>\n",
       "      <td>1</td>\n",
       "      <td>1</td>\n",
       "      <td>2013</td>\n",
       "      <td>1</td>\n",
       "      <td>...</td>\n",
       "      <td>0.0</td>\n",
       "      <td>0.0</td>\n",
       "      <td>0.0</td>\n",
       "      <td>0.0</td>\n",
       "      <td>0.0</td>\n",
       "      <td>0.0</td>\n",
       "      <td>0.0</td>\n",
       "      <td>0.0</td>\n",
       "      <td>0.0</td>\n",
       "      <td>0.0</td>\n",
       "    </tr>\n",
       "    <tr>\n",
       "      <th>2</th>\n",
       "      <td>378</td>\n",
       "      <td>2</td>\n",
       "      <td>0</td>\n",
       "      <td>0</td>\n",
       "      <td>0</td>\n",
       "      <td>0</td>\n",
       "      <td>1</td>\n",
       "      <td>1</td>\n",
       "      <td>2013</td>\n",
       "      <td>1</td>\n",
       "      <td>...</td>\n",
       "      <td>0.0</td>\n",
       "      <td>0.0</td>\n",
       "      <td>0.0</td>\n",
       "      <td>0.0</td>\n",
       "      <td>0.0</td>\n",
       "      <td>0.0</td>\n",
       "      <td>0.0</td>\n",
       "      <td>0.0</td>\n",
       "      <td>0.0</td>\n",
       "      <td>0.0</td>\n",
       "    </tr>\n",
       "    <tr>\n",
       "      <th>3</th>\n",
       "      <td>377</td>\n",
       "      <td>2</td>\n",
       "      <td>0</td>\n",
       "      <td>0</td>\n",
       "      <td>0</td>\n",
       "      <td>0</td>\n",
       "      <td>1</td>\n",
       "      <td>1</td>\n",
       "      <td>2013</td>\n",
       "      <td>1</td>\n",
       "      <td>...</td>\n",
       "      <td>0.0</td>\n",
       "      <td>0.0</td>\n",
       "      <td>1.0</td>\n",
       "      <td>0.0</td>\n",
       "      <td>0.0</td>\n",
       "      <td>1.0</td>\n",
       "      <td>0.0</td>\n",
       "      <td>0.0</td>\n",
       "      <td>1.0</td>\n",
       "      <td>0.0</td>\n",
       "    </tr>\n",
       "    <tr>\n",
       "      <th>4</th>\n",
       "      <td>376</td>\n",
       "      <td>2</td>\n",
       "      <td>0</td>\n",
       "      <td>0</td>\n",
       "      <td>0</td>\n",
       "      <td>0</td>\n",
       "      <td>1</td>\n",
       "      <td>1</td>\n",
       "      <td>2013</td>\n",
       "      <td>1</td>\n",
       "      <td>...</td>\n",
       "      <td>0.0</td>\n",
       "      <td>0.0</td>\n",
       "      <td>0.0</td>\n",
       "      <td>0.0</td>\n",
       "      <td>0.0</td>\n",
       "      <td>0.0</td>\n",
       "      <td>0.0</td>\n",
       "      <td>0.0</td>\n",
       "      <td>0.0</td>\n",
       "      <td>0.0</td>\n",
       "    </tr>\n",
       "    <tr>\n",
       "      <th>...</th>\n",
       "      <td>...</td>\n",
       "      <td>...</td>\n",
       "      <td>...</td>\n",
       "      <td>...</td>\n",
       "      <td>...</td>\n",
       "      <td>...</td>\n",
       "      <td>...</td>\n",
       "      <td>...</td>\n",
       "      <td>...</td>\n",
       "      <td>...</td>\n",
       "      <td>...</td>\n",
       "      <td>...</td>\n",
       "      <td>...</td>\n",
       "      <td>...</td>\n",
       "      <td>...</td>\n",
       "      <td>...</td>\n",
       "      <td>...</td>\n",
       "      <td>...</td>\n",
       "      <td>...</td>\n",
       "      <td>...</td>\n",
       "      <td>...</td>\n",
       "    </tr>\n",
       "    <tr>\n",
       "      <th>914623</th>\n",
       "      <td>745</td>\n",
       "      <td>4</td>\n",
       "      <td>10782</td>\n",
       "      <td>942</td>\n",
       "      <td>1</td>\n",
       "      <td>1</td>\n",
       "      <td>0</td>\n",
       "      <td>0</td>\n",
       "      <td>2015</td>\n",
       "      <td>4</td>\n",
       "      <td>...</td>\n",
       "      <td>0.0</td>\n",
       "      <td>1.0</td>\n",
       "      <td>0.0</td>\n",
       "      <td>0.0</td>\n",
       "      <td>1.0</td>\n",
       "      <td>0.0</td>\n",
       "      <td>0.0</td>\n",
       "      <td>1.0</td>\n",
       "      <td>0.0</td>\n",
       "      <td>0.0</td>\n",
       "    </tr>\n",
       "    <tr>\n",
       "      <th>914624</th>\n",
       "      <td>746</td>\n",
       "      <td>4</td>\n",
       "      <td>9469</td>\n",
       "      <td>748</td>\n",
       "      <td>1</td>\n",
       "      <td>1</td>\n",
       "      <td>0</td>\n",
       "      <td>0</td>\n",
       "      <td>2015</td>\n",
       "      <td>4</td>\n",
       "      <td>...</td>\n",
       "      <td>1.0</td>\n",
       "      <td>0.0</td>\n",
       "      <td>0.0</td>\n",
       "      <td>1.0</td>\n",
       "      <td>0.0</td>\n",
       "      <td>0.0</td>\n",
       "      <td>1.0</td>\n",
       "      <td>0.0</td>\n",
       "      <td>0.0</td>\n",
       "      <td>1.0</td>\n",
       "    </tr>\n",
       "    <tr>\n",
       "      <th>914626</th>\n",
       "      <td>748</td>\n",
       "      <td>4</td>\n",
       "      <td>9524</td>\n",
       "      <td>746</td>\n",
       "      <td>1</td>\n",
       "      <td>1</td>\n",
       "      <td>0</td>\n",
       "      <td>0</td>\n",
       "      <td>2015</td>\n",
       "      <td>4</td>\n",
       "      <td>...</td>\n",
       "      <td>0.0</td>\n",
       "      <td>1.0</td>\n",
       "      <td>0.0</td>\n",
       "      <td>0.0</td>\n",
       "      <td>1.0</td>\n",
       "      <td>0.0</td>\n",
       "      <td>0.0</td>\n",
       "      <td>1.0</td>\n",
       "      <td>0.0</td>\n",
       "      <td>0.0</td>\n",
       "    </tr>\n",
       "    <tr>\n",
       "      <th>914627</th>\n",
       "      <td>742</td>\n",
       "      <td>4</td>\n",
       "      <td>12225</td>\n",
       "      <td>1196</td>\n",
       "      <td>1</td>\n",
       "      <td>1</td>\n",
       "      <td>0</td>\n",
       "      <td>0</td>\n",
       "      <td>2015</td>\n",
       "      <td>4</td>\n",
       "      <td>...</td>\n",
       "      <td>0.0</td>\n",
       "      <td>0.0</td>\n",
       "      <td>0.0</td>\n",
       "      <td>0.0</td>\n",
       "      <td>0.0</td>\n",
       "      <td>0.0</td>\n",
       "      <td>0.0</td>\n",
       "      <td>0.0</td>\n",
       "      <td>0.0</td>\n",
       "      <td>0.0</td>\n",
       "    </tr>\n",
       "    <tr>\n",
       "      <th>914628</th>\n",
       "      <td>1</td>\n",
       "      <td>4</td>\n",
       "      <td>6228</td>\n",
       "      <td>650</td>\n",
       "      <td>1</td>\n",
       "      <td>1</td>\n",
       "      <td>0</td>\n",
       "      <td>0</td>\n",
       "      <td>2015</td>\n",
       "      <td>4</td>\n",
       "      <td>...</td>\n",
       "      <td>0.0</td>\n",
       "      <td>0.0</td>\n",
       "      <td>0.0</td>\n",
       "      <td>0.0</td>\n",
       "      <td>0.0</td>\n",
       "      <td>0.0</td>\n",
       "      <td>0.0</td>\n",
       "      <td>0.0</td>\n",
       "      <td>0.0</td>\n",
       "      <td>0.0</td>\n",
       "    </tr>\n",
       "  </tbody>\n",
       "</table>\n",
       "<p>871278 rows × 32 columns</p>\n",
       "</div>"
      ],
      "text/plain": [
       "        Store  DayOfWeek  Sales  Customers  Open  Promo  StateHoliday  \\\n",
       "0        1115          2      0          0     0      0             1   \n",
       "1         379          2      0          0     0      0             1   \n",
       "2         378          2      0          0     0      0             1   \n",
       "3         377          2      0          0     0      0             1   \n",
       "4         376          2      0          0     0      0             1   \n",
       "...       ...        ...    ...        ...   ...    ...           ...   \n",
       "914623    745          4  10782        942     1      1             0   \n",
       "914624    746          4   9469        748     1      1             0   \n",
       "914626    748          4   9524        746     1      1             0   \n",
       "914627    742          4  12225       1196     1      1             0   \n",
       "914628      1          4   6228        650     1      1             0   \n",
       "\n",
       "        SchoolHoliday  SaleYear  SaleMonth  ...  PromoIntervalMar  \\\n",
       "0                   1      2013          1  ...               1.0   \n",
       "1                   1      2013          1  ...               0.0   \n",
       "2                   1      2013          1  ...               0.0   \n",
       "3                   1      2013          1  ...               0.0   \n",
       "4                   1      2013          1  ...               0.0   \n",
       "...               ...       ...        ...  ...               ...   \n",
       "914623              0      2015          4  ...               0.0   \n",
       "914624              0      2015          4  ...               1.0   \n",
       "914626              0      2015          4  ...               0.0   \n",
       "914627              0      2015          4  ...               0.0   \n",
       "914628              0      2015          4  ...               0.0   \n",
       "\n",
       "        PromoIntervalApr  PromoIntervalMay  PromoIntervalJun  \\\n",
       "0                    0.0               0.0               1.0   \n",
       "1                    0.0               0.0               0.0   \n",
       "2                    0.0               0.0               0.0   \n",
       "3                    0.0               1.0               0.0   \n",
       "4                    0.0               0.0               0.0   \n",
       "...                  ...               ...               ...   \n",
       "914623               1.0               0.0               0.0   \n",
       "914624               0.0               0.0               1.0   \n",
       "914626               1.0               0.0               0.0   \n",
       "914627               0.0               0.0               0.0   \n",
       "914628               0.0               0.0               0.0   \n",
       "\n",
       "        PromoIntervalJul  PromoIntervalAug  PromoIntervalSep  \\\n",
       "0                    0.0               0.0               1.0   \n",
       "1                    0.0               0.0               0.0   \n",
       "2                    0.0               0.0               0.0   \n",
       "3                    0.0               1.0               0.0   \n",
       "4                    0.0               0.0               0.0   \n",
       "...                  ...               ...               ...   \n",
       "914623               1.0               0.0               0.0   \n",
       "914624               0.0               0.0               1.0   \n",
       "914626               1.0               0.0               0.0   \n",
       "914627               0.0               0.0               0.0   \n",
       "914628               0.0               0.0               0.0   \n",
       "\n",
       "        PromoIntervalOct  PromoIntervalNov  PromoIntervalDec  \n",
       "0                    0.0               0.0               1.0  \n",
       "1                    0.0               0.0               0.0  \n",
       "2                    0.0               0.0               0.0  \n",
       "3                    0.0               1.0               0.0  \n",
       "4                    0.0               0.0               0.0  \n",
       "...                  ...               ...               ...  \n",
       "914623               1.0               0.0               0.0  \n",
       "914624               0.0               0.0               1.0  \n",
       "914626               1.0               0.0               0.0  \n",
       "914627               0.0               0.0               0.0  \n",
       "914628               0.0               0.0               0.0  \n",
       "\n",
       "[871278 rows x 32 columns]"
      ]
     },
     "execution_count": 131,
     "metadata": {},
     "output_type": "execute_result"
    }
   ],
   "source": [
    "sales_merged_df"
   ]
  },
  {
   "cell_type": "code",
   "execution_count": 145,
   "id": "bca4fa0b",
   "metadata": {},
   "outputs": [
    {
     "data": {
      "text/plain": [
       "2013    388057\n",
       "2014    355403\n",
       "2015    127818\n",
       "Name: SaleYear, dtype: int64"
      ]
     },
     "execution_count": 145,
     "metadata": {},
     "output_type": "execute_result"
    }
   ],
   "source": [
    "sales_merged_df.SaleYear.value_counts()"
   ]
  },
  {
   "cell_type": "code",
   "execution_count": 140,
   "id": "0ea5a046",
   "metadata": {},
   "outputs": [
    {
     "data": {
      "text/plain": [
       "85.28850722731435"
      ]
     },
     "execution_count": 140,
     "metadata": {},
     "output_type": "execute_result"
    }
   ],
   "source": [
    "(388057 + 355043) / 871278 * 100"
   ]
  },
  {
   "cell_type": "code",
   "execution_count": 142,
   "id": "d0e83616",
   "metadata": {},
   "outputs": [
    {
     "data": {
      "text/plain": [
       "(127818, 743460)"
      ]
     },
     "execution_count": 142,
     "metadata": {},
     "output_type": "execute_result"
    }
   ],
   "source": [
    "# Split data into training and validation\n",
    "df_val = sales_merged_df[sales_merged_df.SaleYear == 2015]\n",
    "df_train = sales_merged_df[sales_merged_df.SaleYear != 2015]\n",
    "\n",
    "len(df_val), len(df_train)"
   ]
  },
  {
   "cell_type": "code",
   "execution_count": 143,
   "id": "b3ef1869",
   "metadata": {},
   "outputs": [
    {
     "data": {
      "text/plain": [
       "((743460, 31), (743460,), (127818, 31), (127818,))"
      ]
     },
     "execution_count": 143,
     "metadata": {},
     "output_type": "execute_result"
    }
   ],
   "source": [
    "# Split data into X & y\n",
    "X_train, y_train = df_train.drop(\"Sales\", axis=1), df_train.Sales\n",
    "X_valid, y_valid = df_val.drop(\"Sales\", axis=1), df_val.Sales\n",
    "\n",
    "X_train.shape, y_train.shape, X_valid.shape, y_valid.shape"
   ]
  },
  {
   "cell_type": "markdown",
   "id": "c32a0818",
   "metadata": {},
   "source": [
    "#### 4.2 Evaluation Function"
   ]
  },
  {
   "cell_type": "markdown",
   "id": "c60f2e58",
   "metadata": {},
   "source": [
    "* MAE (Mean absolute error) represents the difference between the original and predicted values extracted by averaged the absolute difference over the data set.\n",
    "* MSE (Mean Squared Error) represents the difference between the original and predicted values extracted by squared the average difference over the data set.\n",
    "* RMSE (Root Mean Squared Error) is the error rate by the square root of MSE.\n",
    "* R-squared (Coefficient of determination) represents the coefficient of how well the values fit compared to the original values. The value from 0 to 1 interpreted as percentages. The higher the value is, the better the model is.\n",
    "\n",
    "Source: https://www.datatechnotes.com/2019/02/regression-model-accuracy-mae-mse-rmse.html"
   ]
  },
  {
   "cell_type": "code",
   "execution_count": 221,
   "id": "cbf81647",
   "metadata": {},
   "outputs": [],
   "source": [
    "from sklearn.metrics import mean_squared_error, mean_absolute_error\n",
    "\n",
    "# acc_tracker = pd.DataFrame(columns = ['Estimator', 'Training MAE', 'Valid MAE', \"Training RMSE\", \"Valid RMSE\", \"TrainingR^2\", \"ValidR^2\"])\n",
    "# print(df)\n",
    "model_accuracies = []\n",
    "# Create function to evaluate our model\n",
    "def show_scores(estimator, model):\n",
    "    train_preds = model.predict(X_train)\n",
    "    val_preds = model.predict(X_valid)\n",
    "    scores = {\"Estimator\": estimator,\n",
    "              \"Training MAE\": mean_absolute_error(y_train, train_preds),\n",
    "              \"Valid MAE\": mean_absolute_error(y_valid, val_preds),\n",
    "              \"Training RMSE\": np.sqrt(mean_squared_error(y_train, train_preds)),\n",
    "              \"Valid RMSE\": np.sqrt(mean_squared_error(y_valid, val_preds)),\n",
    "              \"Training R^2\": model.score(X_train, y_train),\n",
    "              \"Valid R^2\": model.score(X_valid, y_valid)}\n",
    "    model_accuracies.append(list(scores.values()))\n",
    "    return scores\n",
    "\n",
    "# df = pd.DataFrame (accuracies, columns = ['Estimator', 'Training MAE', 'Valid MAE', \"Training RMSE\", \"Valid RMSE\", \"TrainingR^2\", \"ValidR^2\"])\n",
    "# df"
   ]
  },
  {
   "cell_type": "markdown",
   "id": "1d5bd04a",
   "metadata": {},
   "source": [
    "#### 4.3 Estimators"
   ]
  },
  {
   "cell_type": "code",
   "execution_count": 243,
   "id": "28246693",
   "metadata": {},
   "outputs": [],
   "source": [
    "from sklearn.ensemble import GradientBoostingRegressor\n",
    "from sklearn.linear_model import ElasticNet\n",
    "from sklearn import linear_model\n",
    "from sklearn.linear_model import LinearRegression\n",
    "from sklearn.ensemble import RandomForestRegressor\n",
    "\n",
    "dict_regressors = {\n",
    "    \"GradientBoostingRegressor\": GradientBoostingRegressor(random_state=42),\n",
    "    \"ElasticNet\": ElasticNet(random_state=42),\n",
    "    \"LinearBayesianRidge\": linear_model.BayesianRidge(),\n",
    "    \"LinearRegression\": LinearRegression(),\n",
    "    \"RandomForestRegressor\": RandomForestRegressor(n_jobs=-1, random_state=42, max_samples=10000)}\n",
    "\n",
    "model_accuracies = []"
   ]
  },
  {
   "cell_type": "code",
   "execution_count": null,
   "id": "867607a4",
   "metadata": {},
   "outputs": [],
   "source": [
    "for model, model_instantiation in dict_regressors.items():\n",
    "    current_model = model_instantiation\n",
    "    current_model.fit(X_train, y_train)\n",
    "    show_scores(model, current_model)"
   ]
  },
  {
   "cell_type": "code",
   "execution_count": null,
   "id": "c0354cb0",
   "metadata": {},
   "outputs": [],
   "source": [
    "model_accuracies_df = pd.DataFrame (model_accuracies, columns = ['Estimator', 'Training MAE', 'Valid MAE', \"Training RMSE\", \"Valid RMSE\", \"TrainingR^2\", \"ValidR^2\"])\n",
    "model_accuracies_df"
   ]
  },
  {
   "cell_type": "code",
   "execution_count": 242,
   "id": "4c9c9007",
   "metadata": {},
   "outputs": [
    {
     "data": {
      "image/png": "[encoded data removed]",
      "text/plain": [
       "<Figure size 720x360 with 1 Axes>"
      ]
     },
     "metadata": {
      "needs_background": "light"
     },
     "output_type": "display_data"
    }
   ],
   "source": [
    "model_accuracies_df.plot(x='Estimator', y=['TrainingR^2', 'ValidR^2'], figsize=(10,5), grid=True, kind='bar', ylim=(0.8,1));"
   ]
  },
  {
   "cell_type": "markdown",
   "id": "10e36622",
   "metadata": {},
   "source": [
    "#### 4.4 Hyperparameter Tuning"
   ]
  },
  {
   "cell_type": "code",
   "execution_count": null,
   "id": "5023adca",
   "metadata": {},
   "outputs": [],
   "source": []
  }
 ],
 "metadata": {
  "kernelspec": {
   "display_name": "Python 3 (ipykernel)",
   "language": "python",
   "name": "python3"
  },
  "language_info": {
   "codemirror_mode": {
    "name": "ipython",
    "version": 3
   },
   "file_extension": ".py",
   "mimetype": "text/x-python",
   "name": "python",
   "nbconvert_exporter": "python",
   "pygments_lexer": "ipython3",
   "version": "3.9.12"
  }
 },
 "nbformat": 4,
 "nbformat_minor": 5
}
