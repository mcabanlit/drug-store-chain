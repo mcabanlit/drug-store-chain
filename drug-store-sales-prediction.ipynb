{
 "cells": [
  {
   "cell_type": "markdown",
   "id": "c31d78b9",
   "metadata": {},
   "source": [
    "# Rossmann Drug Store Chain Sales Prediction"
   ]
  },
  {
   "cell_type": "markdown",
   "id": "89e0e59b",
   "metadata": {},
   "source": [
    "## 1. Problem Definition\n",
    "Rossmann is Germany's second-largest drug store chain. We have been provided with historical sales data for 1,115 Rossmann stores. The task is to forecast the \"Sales\" column. The goal of this notebook would be to create a model that would forecast the **sales** by using only the below inputs:\n",
    "* Store\n",
    "* DayOfWeek\n",
    "* Date\n",
    "* Customers\n",
    "* Open\n",
    "* Promo\n",
    "* StateHoliday\n",
    "* SchoolHoliday\n",
    "\n",
    "![Drug](https://images.unsplash.com/photo-1631549916768-4119b2e5f926?ixlib=rb-1.2.1&ixid=MnwxMjA3fDB8MHxwaG90by1wYWdlfHx8fGVufDB8fHx8&auto=format&fit=crop&w=1179&q=80)"
   ]
  },
  {
   "cell_type": "markdown",
   "id": "3263d1a9",
   "metadata": {},
   "source": [
    "## 2. Datasets\n",
    "We are given two csv files, which are as follows:\n",
    "* train.csv - _contains sales data on a daily frequency_\n",
    "* store.csv - _contains store information_"
   ]
  },
  {
   "cell_type": "code",
   "execution_count": 1,
   "id": "157ab7ff",
   "metadata": {},
   "outputs": [],
   "source": [
    "# Import the required libraries\n",
    "import numpy as np\n",
    "import pandas as pd\n",
    "import matplotlib.pyplot as plt\n",
    "import sklearn\n",
    "import seaborn as sns"
   ]
  },
  {
   "cell_type": "code",
   "execution_count": 2,
   "id": "2f4acecd",
   "metadata": {},
   "outputs": [],
   "source": [
    "# Import our sales and store dataset\n",
    "sales_df = pd.read_csv(\"data/train.csv\", low_memory=False, parse_dates=[\"Date\"])\n",
    "stores_df = pd.read_csv(\"data/store.csv\", low_memory=False)"
   ]
  },
  {
   "cell_type": "code",
   "execution_count": 3,
   "id": "6b04832d",
   "metadata": {},
   "outputs": [
    {
     "data": {
      "text/html": [
       "<div>\n",
       "<style scoped>\n",
       "    .dataframe tbody tr th:only-of-type {\n",
       "        vertical-align: middle;\n",
       "    }\n",
       "\n",
       "    .dataframe tbody tr th {\n",
       "        vertical-align: top;\n",
       "    }\n",
       "\n",
       "    .dataframe thead th {\n",
       "        text-align: right;\n",
       "    }\n",
       "</style>\n",
       "<table border=\"1\" class=\"dataframe\">\n",
       "  <thead>\n",
       "    <tr style=\"text-align: right;\">\n",
       "      <th></th>\n",
       "      <th>Store</th>\n",
       "      <th>DayOfWeek</th>\n",
       "      <th>Date</th>\n",
       "      <th>Sales</th>\n",
       "      <th>Customers</th>\n",
       "      <th>Open</th>\n",
       "      <th>Promo</th>\n",
       "      <th>StateHoliday</th>\n",
       "      <th>SchoolHoliday</th>\n",
       "    </tr>\n",
       "  </thead>\n",
       "  <tbody>\n",
       "    <tr>\n",
       "      <th>0</th>\n",
       "      <td>1</td>\n",
       "      <td>4</td>\n",
       "      <td>2015-04-30</td>\n",
       "      <td>6228</td>\n",
       "      <td>650</td>\n",
       "      <td>1</td>\n",
       "      <td>1</td>\n",
       "      <td>0</td>\n",
       "      <td>0</td>\n",
       "    </tr>\n",
       "    <tr>\n",
       "      <th>1</th>\n",
       "      <td>2</td>\n",
       "      <td>4</td>\n",
       "      <td>2015-04-30</td>\n",
       "      <td>6884</td>\n",
       "      <td>716</td>\n",
       "      <td>1</td>\n",
       "      <td>1</td>\n",
       "      <td>0</td>\n",
       "      <td>0</td>\n",
       "    </tr>\n",
       "    <tr>\n",
       "      <th>2</th>\n",
       "      <td>3</td>\n",
       "      <td>4</td>\n",
       "      <td>2015-04-30</td>\n",
       "      <td>9971</td>\n",
       "      <td>979</td>\n",
       "      <td>1</td>\n",
       "      <td>1</td>\n",
       "      <td>0</td>\n",
       "      <td>0</td>\n",
       "    </tr>\n",
       "  </tbody>\n",
       "</table>\n",
       "</div>"
      ],
      "text/plain": [
       "   Store  DayOfWeek       Date  Sales  Customers  Open  Promo StateHoliday  \\\n",
       "0      1          4 2015-04-30   6228        650     1      1            0   \n",
       "1      2          4 2015-04-30   6884        716     1      1            0   \n",
       "2      3          4 2015-04-30   9971        979     1      1            0   \n",
       "\n",
       "   SchoolHoliday  \n",
       "0              0  \n",
       "1              0  \n",
       "2              0  "
      ]
     },
     "execution_count": 3,
     "metadata": {},
     "output_type": "execute_result"
    }
   ],
   "source": [
    "# Check if our sales data has been succesfully imported.\n",
    "sales_df.head(3)"
   ]
  },
  {
   "cell_type": "code",
   "execution_count": 4,
   "id": "3453aa4e",
   "metadata": {},
   "outputs": [
    {
     "data": {
      "text/html": [
       "<div>\n",
       "<style scoped>\n",
       "    .dataframe tbody tr th:only-of-type {\n",
       "        vertical-align: middle;\n",
       "    }\n",
       "\n",
       "    .dataframe tbody tr th {\n",
       "        vertical-align: top;\n",
       "    }\n",
       "\n",
       "    .dataframe thead th {\n",
       "        text-align: right;\n",
       "    }\n",
       "</style>\n",
       "<table border=\"1\" class=\"dataframe\">\n",
       "  <thead>\n",
       "    <tr style=\"text-align: right;\">\n",
       "      <th></th>\n",
       "      <th>Store</th>\n",
       "      <th>StoreType</th>\n",
       "      <th>Assortment</th>\n",
       "      <th>CompetitionDistance</th>\n",
       "      <th>CompetitionOpenSinceMonth</th>\n",
       "      <th>CompetitionOpenSinceYear</th>\n",
       "      <th>Promo2</th>\n",
       "      <th>Promo2SinceWeek</th>\n",
       "      <th>Promo2SinceYear</th>\n",
       "      <th>PromoInterval</th>\n",
       "    </tr>\n",
       "  </thead>\n",
       "  <tbody>\n",
       "    <tr>\n",
       "      <th>0</th>\n",
       "      <td>1</td>\n",
       "      <td>c</td>\n",
       "      <td>a</td>\n",
       "      <td>1270.0</td>\n",
       "      <td>9.0</td>\n",
       "      <td>2008.0</td>\n",
       "      <td>0</td>\n",
       "      <td>NaN</td>\n",
       "      <td>NaN</td>\n",
       "      <td>NaN</td>\n",
       "    </tr>\n",
       "    <tr>\n",
       "      <th>1</th>\n",
       "      <td>2</td>\n",
       "      <td>a</td>\n",
       "      <td>a</td>\n",
       "      <td>570.0</td>\n",
       "      <td>11.0</td>\n",
       "      <td>2007.0</td>\n",
       "      <td>1</td>\n",
       "      <td>13.0</td>\n",
       "      <td>2010.0</td>\n",
       "      <td>Jan,Apr,Jul,Oct</td>\n",
       "    </tr>\n",
       "    <tr>\n",
       "      <th>2</th>\n",
       "      <td>3</td>\n",
       "      <td>a</td>\n",
       "      <td>a</td>\n",
       "      <td>14130.0</td>\n",
       "      <td>12.0</td>\n",
       "      <td>2006.0</td>\n",
       "      <td>1</td>\n",
       "      <td>14.0</td>\n",
       "      <td>2011.0</td>\n",
       "      <td>Jan,Apr,Jul,Oct</td>\n",
       "    </tr>\n",
       "  </tbody>\n",
       "</table>\n",
       "</div>"
      ],
      "text/plain": [
       "   Store StoreType Assortment  CompetitionDistance  CompetitionOpenSinceMonth  \\\n",
       "0      1         c          a               1270.0                        9.0   \n",
       "1      2         a          a                570.0                       11.0   \n",
       "2      3         a          a              14130.0                       12.0   \n",
       "\n",
       "   CompetitionOpenSinceYear  Promo2  Promo2SinceWeek  Promo2SinceYear  \\\n",
       "0                    2008.0       0              NaN              NaN   \n",
       "1                    2007.0       1             13.0           2010.0   \n",
       "2                    2006.0       1             14.0           2011.0   \n",
       "\n",
       "     PromoInterval  \n",
       "0              NaN  \n",
       "1  Jan,Apr,Jul,Oct  \n",
       "2  Jan,Apr,Jul,Oct  "
      ]
     },
     "execution_count": 4,
     "metadata": {},
     "output_type": "execute_result"
    }
   ],
   "source": [
    "# Check if our stores data has been succesfully imported.\n",
    "stores_df.head(3)"
   ]
  },
  {
   "cell_type": "markdown",
   "id": "2be0cbbe",
   "metadata": {},
   "source": [
    "## 3.  Features\n",
    "In this section, we are going to define what features we are going to use for predicting the sales."
   ]
  },
  {
   "cell_type": "markdown",
   "id": "659041f3",
   "metadata": {},
   "source": [
    "### 3.1 Sales Data\n",
    "Let us start by enriching our sales data, we could create more features from our Date field."
   ]
  },
  {
   "cell_type": "code",
   "execution_count": 5,
   "id": "e73f07c2",
   "metadata": {},
   "outputs": [
    {
     "name": "stdout",
     "output_type": "stream",
     "text": [
      "<class 'pandas.core.frame.DataFrame'>\n",
      "RangeIndex: 914629 entries, 0 to 914628\n",
      "Data columns (total 9 columns):\n",
      " #   Column         Non-Null Count   Dtype         \n",
      "---  ------         --------------   -----         \n",
      " 0   Store          914629 non-null  int64         \n",
      " 1   DayOfWeek      914629 non-null  int64         \n",
      " 2   Date           914629 non-null  datetime64[ns]\n",
      " 3   Sales          914629 non-null  int64         \n",
      " 4   Customers      914629 non-null  int64         \n",
      " 5   Open           914629 non-null  int64         \n",
      " 6   Promo          914629 non-null  int64         \n",
      " 7   StateHoliday   914629 non-null  object        \n",
      " 8   SchoolHoliday  914629 non-null  int64         \n",
      "dtypes: datetime64[ns](1), int64(7), object(1)\n",
      "memory usage: 62.8+ MB\n"
     ]
    }
   ],
   "source": [
    "# Check if we have the correct data type for the date field\n",
    "sales_df.info()"
   ]
  },
  {
   "cell_type": "code",
   "execution_count": 6,
   "id": "89096542",
   "metadata": {},
   "outputs": [
    {
     "data": {
      "text/plain": [
       "0   2013-01-01\n",
       "1   2013-01-01\n",
       "2   2013-01-01\n",
       "3   2013-01-01\n",
       "4   2013-01-01\n",
       "Name: Date, dtype: datetime64[ns]"
      ]
     },
     "execution_count": 6,
     "metadata": {},
     "output_type": "execute_result"
    }
   ],
   "source": [
    "# Sort our DataFrame by date in ascending order.\n",
    "sales_df.sort_values(by=[\"Date\"], inplace=True, ascending=True, ignore_index=True)\n",
    "sales_df.Date.head(5)"
   ]
  },
  {
   "cell_type": "code",
   "execution_count": 7,
   "id": "52d598d2",
   "metadata": {},
   "outputs": [],
   "source": [
    "# Let us create a restore point of our sales dataset.\n",
    "sales_df_backup = sales_df.copy(deep=True)"
   ]
  },
  {
   "cell_type": "code",
   "execution_count": 8,
   "id": "9a3b6493",
   "metadata": {},
   "outputs": [
    {
     "data": {
      "text/plain": [
       "0   2013-01-01\n",
       "Name: Date, dtype: datetime64[ns]"
      ]
     },
     "execution_count": 8,
     "metadata": {},
     "output_type": "execute_result"
    }
   ],
   "source": [
    "# There is a DayOfWeek column in our DataFrame but we can also calculate that, \n",
    "# so let us check if there's a need to recalculate it.\n",
    "sales_df[:1].Date # Tuesday"
   ]
  },
  {
   "cell_type": "code",
   "execution_count": 9,
   "id": "3de5b275",
   "metadata": {},
   "outputs": [
    {
     "data": {
      "text/plain": [
       "0    2\n",
       "Name: DayOfWeek, dtype: int64"
      ]
     },
     "execution_count": 9,
     "metadata": {},
     "output_type": "execute_result"
    }
   ],
   "source": [
    "# Check for the DayOfWeek value for the date above\n",
    "sales_df[:1].DayOfWeek "
   ]
  },
  {
   "cell_type": "code",
   "execution_count": 10,
   "id": "fa74e200",
   "metadata": {},
   "outputs": [
    {
     "data": {
      "text/plain": [
       "array([2, 3, 4, 5, 6, 7, 1], dtype=int64)"
      ]
     },
     "execution_count": 10,
     "metadata": {},
     "output_type": "execute_result"
    }
   ],
   "source": [
    "# Check if this column that has already been given in our dataset would mean that 1 would be Monday\n",
    "sales_df.DayOfWeek.unique()"
   ]
  },
  {
   "cell_type": "code",
   "execution_count": 11,
   "id": "8321c145",
   "metadata": {},
   "outputs": [
    {
     "data": {
      "text/plain": [
       "0    1\n",
       "Name: Date, dtype: int64"
      ]
     },
     "execution_count": 11,
     "metadata": {},
     "output_type": "execute_result"
    }
   ],
   "source": [
    "# There is a function that return the day of the week. We won't be using this one.\n",
    "# This function assumes that the week starts on Monday, which is denoted by 0 and ends on Sunday which is denoted by 6.\n",
    "sales_df[:1].Date.dt.dayofweek"
   ]
  },
  {
   "cell_type": "code",
   "execution_count": 12,
   "id": "ce68e04e",
   "metadata": {},
   "outputs": [
    {
     "data": {
      "text/html": [
       "<div>\n",
       "<style scoped>\n",
       "    .dataframe tbody tr th:only-of-type {\n",
       "        vertical-align: middle;\n",
       "    }\n",
       "\n",
       "    .dataframe tbody tr th {\n",
       "        vertical-align: top;\n",
       "    }\n",
       "\n",
       "    .dataframe thead th {\n",
       "        text-align: right;\n",
       "    }\n",
       "</style>\n",
       "<table border=\"1\" class=\"dataframe\">\n",
       "  <thead>\n",
       "    <tr style=\"text-align: right;\">\n",
       "      <th></th>\n",
       "      <th>914624</th>\n",
       "      <th>914625</th>\n",
       "      <th>914626</th>\n",
       "      <th>914627</th>\n",
       "      <th>914628</th>\n",
       "    </tr>\n",
       "  </thead>\n",
       "  <tbody>\n",
       "    <tr>\n",
       "      <th>Store</th>\n",
       "      <td>746</td>\n",
       "      <td>747</td>\n",
       "      <td>748</td>\n",
       "      <td>742</td>\n",
       "      <td>1</td>\n",
       "    </tr>\n",
       "    <tr>\n",
       "      <th>DayOfWeek</th>\n",
       "      <td>4</td>\n",
       "      <td>4</td>\n",
       "      <td>4</td>\n",
       "      <td>4</td>\n",
       "      <td>4</td>\n",
       "    </tr>\n",
       "    <tr>\n",
       "      <th>Date</th>\n",
       "      <td>2015-04-30 00:00:00</td>\n",
       "      <td>2015-04-30 00:00:00</td>\n",
       "      <td>2015-04-30 00:00:00</td>\n",
       "      <td>2015-04-30 00:00:00</td>\n",
       "      <td>2015-04-30 00:00:00</td>\n",
       "    </tr>\n",
       "    <tr>\n",
       "      <th>Sales</th>\n",
       "      <td>9469</td>\n",
       "      <td>12123</td>\n",
       "      <td>9524</td>\n",
       "      <td>12225</td>\n",
       "      <td>6228</td>\n",
       "    </tr>\n",
       "    <tr>\n",
       "      <th>Customers</th>\n",
       "      <td>748</td>\n",
       "      <td>1017</td>\n",
       "      <td>746</td>\n",
       "      <td>1196</td>\n",
       "      <td>650</td>\n",
       "    </tr>\n",
       "    <tr>\n",
       "      <th>Open</th>\n",
       "      <td>1</td>\n",
       "      <td>1</td>\n",
       "      <td>1</td>\n",
       "      <td>1</td>\n",
       "      <td>1</td>\n",
       "    </tr>\n",
       "    <tr>\n",
       "      <th>Promo</th>\n",
       "      <td>1</td>\n",
       "      <td>1</td>\n",
       "      <td>1</td>\n",
       "      <td>1</td>\n",
       "      <td>1</td>\n",
       "    </tr>\n",
       "    <tr>\n",
       "      <th>StateHoliday</th>\n",
       "      <td>0</td>\n",
       "      <td>0</td>\n",
       "      <td>0</td>\n",
       "      <td>0</td>\n",
       "      <td>0</td>\n",
       "    </tr>\n",
       "    <tr>\n",
       "      <th>SchoolHoliday</th>\n",
       "      <td>0</td>\n",
       "      <td>0</td>\n",
       "      <td>0</td>\n",
       "      <td>0</td>\n",
       "      <td>0</td>\n",
       "    </tr>\n",
       "    <tr>\n",
       "      <th>SaleYear</th>\n",
       "      <td>2015</td>\n",
       "      <td>2015</td>\n",
       "      <td>2015</td>\n",
       "      <td>2015</td>\n",
       "      <td>2015</td>\n",
       "    </tr>\n",
       "    <tr>\n",
       "      <th>SaleMonth</th>\n",
       "      <td>4</td>\n",
       "      <td>4</td>\n",
       "      <td>4</td>\n",
       "      <td>4</td>\n",
       "      <td>4</td>\n",
       "    </tr>\n",
       "    <tr>\n",
       "      <th>SaleDay</th>\n",
       "      <td>30</td>\n",
       "      <td>30</td>\n",
       "      <td>30</td>\n",
       "      <td>30</td>\n",
       "      <td>30</td>\n",
       "    </tr>\n",
       "    <tr>\n",
       "      <th>SaleDayOfYear</th>\n",
       "      <td>120</td>\n",
       "      <td>120</td>\n",
       "      <td>120</td>\n",
       "      <td>120</td>\n",
       "      <td>120</td>\n",
       "    </tr>\n",
       "  </tbody>\n",
       "</table>\n",
       "</div>"
      ],
      "text/plain": [
       "                            914624               914625               914626  \\\n",
       "Store                          746                  747                  748   \n",
       "DayOfWeek                        4                    4                    4   \n",
       "Date           2015-04-30 00:00:00  2015-04-30 00:00:00  2015-04-30 00:00:00   \n",
       "Sales                         9469                12123                 9524   \n",
       "Customers                      748                 1017                  746   \n",
       "Open                             1                    1                    1   \n",
       "Promo                            1                    1                    1   \n",
       "StateHoliday                     0                    0                    0   \n",
       "SchoolHoliday                    0                    0                    0   \n",
       "SaleYear                      2015                 2015                 2015   \n",
       "SaleMonth                        4                    4                    4   \n",
       "SaleDay                         30                   30                   30   \n",
       "SaleDayOfYear                  120                  120                  120   \n",
       "\n",
       "                            914627               914628  \n",
       "Store                          742                    1  \n",
       "DayOfWeek                        4                    4  \n",
       "Date           2015-04-30 00:00:00  2015-04-30 00:00:00  \n",
       "Sales                        12225                 6228  \n",
       "Customers                     1196                  650  \n",
       "Open                             1                    1  \n",
       "Promo                            1                    1  \n",
       "StateHoliday                     0                    0  \n",
       "SchoolHoliday                    0                    0  \n",
       "SaleYear                      2015                 2015  \n",
       "SaleMonth                        4                    4  \n",
       "SaleDay                         30                   30  \n",
       "SaleDayOfYear                  120                  120  "
      ]
     },
     "execution_count": 12,
     "metadata": {},
     "output_type": "execute_result"
    }
   ],
   "source": [
    "# Create date related features\n",
    "sales_df[\"SaleYear\"] = sales_df.Date.dt.year\n",
    "sales_df[\"SaleMonth\"] = sales_df.Date.dt.month\n",
    "sales_df[\"SaleDay\"] = sales_df.Date.dt.day\n",
    "sales_df[\"SaleDayOfYear\"] = sales_df.Date.dt.dayofyear\n",
    "sales_df.tail().T"
   ]
  },
  {
   "cell_type": "code",
   "execution_count": 13,
   "id": "b9e0104f",
   "metadata": {},
   "outputs": [
    {
     "data": {
      "text/plain": [
       "Store            0\n",
       "DayOfWeek        0\n",
       "Date             0\n",
       "Sales            0\n",
       "Customers        0\n",
       "Open             0\n",
       "Promo            0\n",
       "StateHoliday     0\n",
       "SchoolHoliday    0\n",
       "SaleYear         0\n",
       "SaleMonth        0\n",
       "SaleDay          0\n",
       "SaleDayOfYear    0\n",
       "dtype: int64"
      ]
     },
     "execution_count": 13,
     "metadata": {},
     "output_type": "execute_result"
    }
   ],
   "source": [
    "# Check for missing values\n",
    "sales_df.isna().sum()"
   ]
  },
  {
   "cell_type": "code",
   "execution_count": 14,
   "id": "ece3a73b",
   "metadata": {},
   "outputs": [
    {
     "name": "stdout",
     "output_type": "stream",
     "text": [
      "Date\n",
      "StateHoliday\n"
     ]
    }
   ],
   "source": [
    "# Check for non numeric values\n",
    "for label, content in sales_df.items():\n",
    "    if not pd.api.types.is_numeric_dtype(content):\n",
    "        print(label)"
   ]
  },
  {
   "cell_type": "code",
   "execution_count": 15,
   "id": "548f9ce4",
   "metadata": {},
   "outputs": [
    {
     "data": {
      "text/plain": [
       "0    887690\n",
       "a     16149\n",
       "b      6690\n",
       "c      4100\n",
       "Name: StateHoliday, dtype: int64"
      ]
     },
     "execution_count": 15,
     "metadata": {},
     "output_type": "execute_result"
    }
   ],
   "source": [
    "# Check the values or categories\n",
    "sales_df.StateHoliday.value_counts()"
   ]
  },
  {
   "cell_type": "code",
   "execution_count": 16,
   "id": "b3a68a74",
   "metadata": {},
   "outputs": [],
   "source": [
    "# Convert string values into categorical values / codes\n",
    "sales_df[\"StateHoliday\"] = pd.Categorical(sales_df[\"StateHoliday\"]).codes "
   ]
  },
  {
   "cell_type": "code",
   "execution_count": 17,
   "id": "d6c22208",
   "metadata": {},
   "outputs": [
    {
     "data": {
      "text/plain": [
       "0    887690\n",
       "1     16149\n",
       "2      6690\n",
       "3      4100\n",
       "Name: StateHoliday, dtype: int64"
      ]
     },
     "execution_count": 17,
     "metadata": {},
     "output_type": "execute_result"
    }
   ],
   "source": [
    "sales_df.StateHoliday.value_counts()"
   ]
  },
  {
   "cell_type": "markdown",
   "id": "d0da7c62",
   "metadata": {},
   "source": [
    "For our current Sales dataset, we have already added a few features that could possibly help our model in predicting or forecasting sales."
   ]
  },
  {
   "cell_type": "markdown",
   "id": "80e1281c",
   "metadata": {},
   "source": [
    "### 3.2 Stores Data\n",
    "We will now be enriching our stores data, we need to clean our dataset and we could also create more features from our other string type fields."
   ]
  },
  {
   "cell_type": "code",
   "execution_count": 18,
   "id": "c834594e",
   "metadata": {},
   "outputs": [
    {
     "name": "stdout",
     "output_type": "stream",
     "text": [
      "<class 'pandas.core.frame.DataFrame'>\n",
      "RangeIndex: 1115 entries, 0 to 1114\n",
      "Data columns (total 10 columns):\n",
      " #   Column                     Non-Null Count  Dtype  \n",
      "---  ------                     --------------  -----  \n",
      " 0   Store                      1115 non-null   int64  \n",
      " 1   StoreType                  1115 non-null   object \n",
      " 2   Assortment                 1115 non-null   object \n",
      " 3   CompetitionDistance        1112 non-null   float64\n",
      " 4   CompetitionOpenSinceMonth  761 non-null    float64\n",
      " 5   CompetitionOpenSinceYear   761 non-null    float64\n",
      " 6   Promo2                     1115 non-null   int64  \n",
      " 7   Promo2SinceWeek            571 non-null    float64\n",
      " 8   Promo2SinceYear            571 non-null    float64\n",
      " 9   PromoInterval              571 non-null    object \n",
      "dtypes: float64(5), int64(2), object(3)\n",
      "memory usage: 87.2+ KB\n"
     ]
    }
   ],
   "source": [
    "# Check data type for our fields/columns\n",
    "stores_df.info()"
   ]
  },
  {
   "cell_type": "code",
   "execution_count": 19,
   "id": "b27fcdd8",
   "metadata": {},
   "outputs": [
    {
     "data": {
      "text/html": [
       "<div>\n",
       "<style scoped>\n",
       "    .dataframe tbody tr th:only-of-type {\n",
       "        vertical-align: middle;\n",
       "    }\n",
       "\n",
       "    .dataframe tbody tr th {\n",
       "        vertical-align: top;\n",
       "    }\n",
       "\n",
       "    .dataframe thead th {\n",
       "        text-align: right;\n",
       "    }\n",
       "</style>\n",
       "<table border=\"1\" class=\"dataframe\">\n",
       "  <thead>\n",
       "    <tr style=\"text-align: right;\">\n",
       "      <th></th>\n",
       "      <th>Store</th>\n",
       "      <th>StoreType</th>\n",
       "      <th>Assortment</th>\n",
       "      <th>CompetitionDistance</th>\n",
       "      <th>CompetitionOpenSinceMonth</th>\n",
       "      <th>CompetitionOpenSinceYear</th>\n",
       "      <th>Promo2</th>\n",
       "      <th>Promo2SinceWeek</th>\n",
       "      <th>Promo2SinceYear</th>\n",
       "      <th>PromoInterval</th>\n",
       "    </tr>\n",
       "  </thead>\n",
       "  <tbody>\n",
       "    <tr>\n",
       "      <th>0</th>\n",
       "      <td>1</td>\n",
       "      <td>c</td>\n",
       "      <td>a</td>\n",
       "      <td>1270.0</td>\n",
       "      <td>9.0</td>\n",
       "      <td>2008.0</td>\n",
       "      <td>0</td>\n",
       "      <td>NaN</td>\n",
       "      <td>NaN</td>\n",
       "      <td>NaN</td>\n",
       "    </tr>\n",
       "    <tr>\n",
       "      <th>1</th>\n",
       "      <td>2</td>\n",
       "      <td>a</td>\n",
       "      <td>a</td>\n",
       "      <td>570.0</td>\n",
       "      <td>11.0</td>\n",
       "      <td>2007.0</td>\n",
       "      <td>1</td>\n",
       "      <td>13.0</td>\n",
       "      <td>2010.0</td>\n",
       "      <td>Jan,Apr,Jul,Oct</td>\n",
       "    </tr>\n",
       "    <tr>\n",
       "      <th>2</th>\n",
       "      <td>3</td>\n",
       "      <td>a</td>\n",
       "      <td>a</td>\n",
       "      <td>14130.0</td>\n",
       "      <td>12.0</td>\n",
       "      <td>2006.0</td>\n",
       "      <td>1</td>\n",
       "      <td>14.0</td>\n",
       "      <td>2011.0</td>\n",
       "      <td>Jan,Apr,Jul,Oct</td>\n",
       "    </tr>\n",
       "    <tr>\n",
       "      <th>3</th>\n",
       "      <td>4</td>\n",
       "      <td>c</td>\n",
       "      <td>c</td>\n",
       "      <td>620.0</td>\n",
       "      <td>9.0</td>\n",
       "      <td>2009.0</td>\n",
       "      <td>0</td>\n",
       "      <td>NaN</td>\n",
       "      <td>NaN</td>\n",
       "      <td>NaN</td>\n",
       "    </tr>\n",
       "    <tr>\n",
       "      <th>4</th>\n",
       "      <td>5</td>\n",
       "      <td>a</td>\n",
       "      <td>a</td>\n",
       "      <td>29910.0</td>\n",
       "      <td>4.0</td>\n",
       "      <td>2015.0</td>\n",
       "      <td>0</td>\n",
       "      <td>NaN</td>\n",
       "      <td>NaN</td>\n",
       "      <td>NaN</td>\n",
       "    </tr>\n",
       "  </tbody>\n",
       "</table>\n",
       "</div>"
      ],
      "text/plain": [
       "   Store StoreType Assortment  CompetitionDistance  CompetitionOpenSinceMonth  \\\n",
       "0      1         c          a               1270.0                        9.0   \n",
       "1      2         a          a                570.0                       11.0   \n",
       "2      3         a          a              14130.0                       12.0   \n",
       "3      4         c          c                620.0                        9.0   \n",
       "4      5         a          a              29910.0                        4.0   \n",
       "\n",
       "   CompetitionOpenSinceYear  Promo2  Promo2SinceWeek  Promo2SinceYear  \\\n",
       "0                    2008.0       0              NaN              NaN   \n",
       "1                    2007.0       1             13.0           2010.0   \n",
       "2                    2006.0       1             14.0           2011.0   \n",
       "3                    2009.0       0              NaN              NaN   \n",
       "4                    2015.0       0              NaN              NaN   \n",
       "\n",
       "     PromoInterval  \n",
       "0              NaN  \n",
       "1  Jan,Apr,Jul,Oct  \n",
       "2  Jan,Apr,Jul,Oct  \n",
       "3              NaN  \n",
       "4              NaN  "
      ]
     },
     "execution_count": 19,
     "metadata": {},
     "output_type": "execute_result"
    }
   ],
   "source": [
    "stores_df.head(5)"
   ]
  },
  {
   "cell_type": "code",
   "execution_count": 20,
   "id": "7ce01eb8",
   "metadata": {},
   "outputs": [],
   "source": [
    "# Let us create a restore point of our sales dataset.\n",
    "stores_df_backup = stores_df.copy(deep=True)"
   ]
  },
  {
   "cell_type": "code",
   "execution_count": 21,
   "id": "9dad289f",
   "metadata": {},
   "outputs": [
    {
     "data": {
      "text/plain": [
       "Store                          0\n",
       "StoreType                      0\n",
       "Assortment                     0\n",
       "CompetitionDistance            3\n",
       "CompetitionOpenSinceMonth    354\n",
       "CompetitionOpenSinceYear     354\n",
       "Promo2                         0\n",
       "Promo2SinceWeek              544\n",
       "Promo2SinceYear              544\n",
       "PromoInterval                544\n",
       "dtype: int64"
      ]
     },
     "execution_count": 21,
     "metadata": {},
     "output_type": "execute_result"
    }
   ],
   "source": [
    "# Check for Missing Values\n",
    "stores_df.isna().sum()"
   ]
  },
  {
   "cell_type": "code",
   "execution_count": 22,
   "id": "7e3d8a18",
   "metadata": {},
   "outputs": [
    {
     "data": {
      "text/html": [
       "<div>\n",
       "<style scoped>\n",
       "    .dataframe tbody tr th:only-of-type {\n",
       "        vertical-align: middle;\n",
       "    }\n",
       "\n",
       "    .dataframe tbody tr th {\n",
       "        vertical-align: top;\n",
       "    }\n",
       "\n",
       "    .dataframe thead th {\n",
       "        text-align: right;\n",
       "    }\n",
       "</style>\n",
       "<table border=\"1\" class=\"dataframe\">\n",
       "  <thead>\n",
       "    <tr style=\"text-align: right;\">\n",
       "      <th></th>\n",
       "      <th>Store</th>\n",
       "      <th>CompetitionDistance</th>\n",
       "      <th>CompetitionOpenSinceMonth</th>\n",
       "      <th>CompetitionOpenSinceYear</th>\n",
       "      <th>Promo2</th>\n",
       "      <th>Promo2SinceWeek</th>\n",
       "      <th>Promo2SinceYear</th>\n",
       "    </tr>\n",
       "  </thead>\n",
       "  <tbody>\n",
       "    <tr>\n",
       "      <th>count</th>\n",
       "      <td>1115.00000</td>\n",
       "      <td>1112.000000</td>\n",
       "      <td>761.000000</td>\n",
       "      <td>761.000000</td>\n",
       "      <td>1115.000000</td>\n",
       "      <td>571.000000</td>\n",
       "      <td>571.000000</td>\n",
       "    </tr>\n",
       "    <tr>\n",
       "      <th>mean</th>\n",
       "      <td>558.00000</td>\n",
       "      <td>5404.901079</td>\n",
       "      <td>7.224704</td>\n",
       "      <td>2008.668857</td>\n",
       "      <td>0.512108</td>\n",
       "      <td>23.595447</td>\n",
       "      <td>2011.763573</td>\n",
       "    </tr>\n",
       "    <tr>\n",
       "      <th>std</th>\n",
       "      <td>322.01708</td>\n",
       "      <td>7663.174720</td>\n",
       "      <td>3.212348</td>\n",
       "      <td>6.195983</td>\n",
       "      <td>0.500078</td>\n",
       "      <td>14.141984</td>\n",
       "      <td>1.674935</td>\n",
       "    </tr>\n",
       "    <tr>\n",
       "      <th>min</th>\n",
       "      <td>1.00000</td>\n",
       "      <td>20.000000</td>\n",
       "      <td>1.000000</td>\n",
       "      <td>1900.000000</td>\n",
       "      <td>0.000000</td>\n",
       "      <td>1.000000</td>\n",
       "      <td>2009.000000</td>\n",
       "    </tr>\n",
       "    <tr>\n",
       "      <th>25%</th>\n",
       "      <td>279.50000</td>\n",
       "      <td>717.500000</td>\n",
       "      <td>4.000000</td>\n",
       "      <td>2006.000000</td>\n",
       "      <td>0.000000</td>\n",
       "      <td>13.000000</td>\n",
       "      <td>2011.000000</td>\n",
       "    </tr>\n",
       "    <tr>\n",
       "      <th>50%</th>\n",
       "      <td>558.00000</td>\n",
       "      <td>2325.000000</td>\n",
       "      <td>8.000000</td>\n",
       "      <td>2010.000000</td>\n",
       "      <td>1.000000</td>\n",
       "      <td>22.000000</td>\n",
       "      <td>2012.000000</td>\n",
       "    </tr>\n",
       "    <tr>\n",
       "      <th>75%</th>\n",
       "      <td>836.50000</td>\n",
       "      <td>6882.500000</td>\n",
       "      <td>10.000000</td>\n",
       "      <td>2013.000000</td>\n",
       "      <td>1.000000</td>\n",
       "      <td>37.000000</td>\n",
       "      <td>2013.000000</td>\n",
       "    </tr>\n",
       "    <tr>\n",
       "      <th>max</th>\n",
       "      <td>1115.00000</td>\n",
       "      <td>75860.000000</td>\n",
       "      <td>12.000000</td>\n",
       "      <td>2015.000000</td>\n",
       "      <td>1.000000</td>\n",
       "      <td>50.000000</td>\n",
       "      <td>2015.000000</td>\n",
       "    </tr>\n",
       "  </tbody>\n",
       "</table>\n",
       "</div>"
      ],
      "text/plain": [
       "            Store  CompetitionDistance  CompetitionOpenSinceMonth  \\\n",
       "count  1115.00000          1112.000000                 761.000000   \n",
       "mean    558.00000          5404.901079                   7.224704   \n",
       "std     322.01708          7663.174720                   3.212348   \n",
       "min       1.00000            20.000000                   1.000000   \n",
       "25%     279.50000           717.500000                   4.000000   \n",
       "50%     558.00000          2325.000000                   8.000000   \n",
       "75%     836.50000          6882.500000                  10.000000   \n",
       "max    1115.00000         75860.000000                  12.000000   \n",
       "\n",
       "       CompetitionOpenSinceYear       Promo2  Promo2SinceWeek  Promo2SinceYear  \n",
       "count                761.000000  1115.000000       571.000000       571.000000  \n",
       "mean                2008.668857     0.512108        23.595447      2011.763573  \n",
       "std                    6.195983     0.500078        14.141984         1.674935  \n",
       "min                 1900.000000     0.000000         1.000000      2009.000000  \n",
       "25%                 2006.000000     0.000000        13.000000      2011.000000  \n",
       "50%                 2010.000000     1.000000        22.000000      2012.000000  \n",
       "75%                 2013.000000     1.000000        37.000000      2013.000000  \n",
       "max                 2015.000000     1.000000        50.000000      2015.000000  "
      ]
     },
     "execution_count": 22,
     "metadata": {},
     "output_type": "execute_result"
    }
   ],
   "source": [
    "# Let us describe our dataset and see if we shall either use the mean or the median as a replacement for our null numeric values.\n",
    "stores_df.describe()"
   ]
  },
  {
   "cell_type": "code",
   "execution_count": 23,
   "id": "dbf34830",
   "metadata": {},
   "outputs": [
    {
     "data": {
      "text/plain": [
       "['Store',\n",
       " 'CompetitionDistance',\n",
       " 'CompetitionOpenSinceMonth',\n",
       " 'CompetitionOpenSinceYear',\n",
       " 'Promo2',\n",
       " 'Promo2SinceWeek',\n",
       " 'Promo2SinceYear']"
      ]
     },
     "execution_count": 23,
     "metadata": {},
     "output_type": "execute_result"
    }
   ],
   "source": [
    "# Put our numeric columns into a list\n",
    "numeric_cols = stores_df.select_dtypes(include=np.number).columns.tolist()\n",
    "numeric_cols"
   ]
  },
  {
   "cell_type": "code",
   "execution_count": 24,
   "id": "b21c3221",
   "metadata": {},
   "outputs": [
    {
     "data": {
      "text/plain": [
       "Store                          0\n",
       "StoreType                      0\n",
       "Assortment                     0\n",
       "CompetitionDistance            0\n",
       "CompetitionOpenSinceMonth      0\n",
       "CompetitionOpenSinceYear       0\n",
       "Promo2                         0\n",
       "Promo2SinceWeek                0\n",
       "Promo2SinceYear                0\n",
       "PromoInterval                544\n",
       "dtype: int64"
      ]
     },
     "execution_count": 24,
     "metadata": {},
     "output_type": "execute_result"
    }
   ],
   "source": [
    "# Replace Missing Values\n",
    "# stores_df = stores_df.fillna(stores_df.median()) # This is deprecated, hence the step above\n",
    "stores_df[numeric_cols] = stores_df[numeric_cols].fillna(stores_df[numeric_cols].median())\n",
    "stores_df.isnull().sum()"
   ]
  },
  {
   "cell_type": "markdown",
   "id": "fc056349",
   "metadata": {},
   "source": [
    "Let us now address the non-numeric fields in our dataset."
   ]
  },
  {
   "cell_type": "code",
   "execution_count": 25,
   "id": "93bb3f30",
   "metadata": {},
   "outputs": [
    {
     "name": "stdout",
     "output_type": "stream",
     "text": [
      "StoreType\n",
      "Assortment\n",
      "PromoInterval\n"
     ]
    }
   ],
   "source": [
    "# Find columns which contains strings\n",
    "for label, content in stores_df.items():\n",
    "    if pd.api.types.is_string_dtype(content):\n",
    "        print(label)"
   ]
  },
  {
   "cell_type": "markdown",
   "id": "3d1dd844",
   "metadata": {},
   "source": [
    "Based on the results above, we can sat that our StoreType and Assortment fields are categorical and for our PromoInterval fields, we will have to find a way to make use of it. Let us start first with our categorical fields."
   ]
  },
  {
   "cell_type": "code",
   "execution_count": 26,
   "id": "d85fb7ea",
   "metadata": {},
   "outputs": [
    {
     "data": {
      "text/plain": [
       "a    602\n",
       "d    348\n",
       "c    148\n",
       "b     17\n",
       "Name: StoreType, dtype: int64"
      ]
     },
     "execution_count": 26,
     "metadata": {},
     "output_type": "execute_result"
    }
   ],
   "source": [
    "# Categories for our StoreType column\n",
    "stores_df.StoreType.value_counts()"
   ]
  },
  {
   "cell_type": "code",
   "execution_count": 27,
   "id": "d8a60c00",
   "metadata": {},
   "outputs": [
    {
     "data": {
      "text/plain": [
       "a    593\n",
       "c    513\n",
       "b      9\n",
       "Name: Assortment, dtype: int64"
      ]
     },
     "execution_count": 27,
     "metadata": {},
     "output_type": "execute_result"
    }
   ],
   "source": [
    "# Categories for our Assortment column\n",
    "stores_df.Assortment.value_counts()"
   ]
  },
  {
   "cell_type": "code",
   "execution_count": 28,
   "id": "3c9add71",
   "metadata": {},
   "outputs": [],
   "source": [
    "# Turn categorical variables into numbers or categorical codes \n",
    "for label, content in stores_df.items():\n",
    "     if pd.api.types.is_string_dtype(content) and label != 'PromoInterval':\n",
    "        # Turn categories into numbers and add \n",
    "        stores_df[label] = pd.Categorical(content).codes "
   ]
  },
  {
   "cell_type": "code",
   "execution_count": 29,
   "id": "fb8abdf8",
   "metadata": {},
   "outputs": [
    {
     "data": {
      "text/plain": [
       "0    602\n",
       "3    348\n",
       "2    148\n",
       "1     17\n",
       "Name: StoreType, dtype: int64"
      ]
     },
     "execution_count": 29,
     "metadata": {},
     "output_type": "execute_result"
    }
   ],
   "source": [
    "# Categorical codes for our StoreType column\n",
    "stores_df.StoreType.value_counts()"
   ]
  },
  {
   "cell_type": "code",
   "execution_count": 30,
   "id": "9c5b2e5d",
   "metadata": {},
   "outputs": [
    {
     "data": {
      "text/plain": [
       "0    593\n",
       "2    513\n",
       "1      9\n",
       "Name: Assortment, dtype: int64"
      ]
     },
     "execution_count": 30,
     "metadata": {},
     "output_type": "execute_result"
    }
   ],
   "source": [
    "# Categorical codes for our Assortment column\n",
    "stores_df.Assortment.value_counts()"
   ]
  },
  {
   "cell_type": "code",
   "execution_count": 31,
   "id": "1c064484",
   "metadata": {},
   "outputs": [
    {
     "data": {
      "text/plain": [
       "Store                          0\n",
       "StoreType                      0\n",
       "Assortment                     0\n",
       "CompetitionDistance            0\n",
       "CompetitionOpenSinceMonth      0\n",
       "CompetitionOpenSinceYear       0\n",
       "Promo2                         0\n",
       "Promo2SinceWeek                0\n",
       "Promo2SinceYear                0\n",
       "PromoInterval                544\n",
       "dtype: int64"
      ]
     },
     "execution_count": 31,
     "metadata": {},
     "output_type": "execute_result"
    }
   ],
   "source": [
    "# Recheck our null values\n",
    "stores_df.isnull().sum()"
   ]
  },
  {
   "cell_type": "code",
   "execution_count": 32,
   "id": "0af7223f",
   "metadata": {},
   "outputs": [],
   "source": [
    "# Fill Promo Interval Missing values with a space\n",
    "stores_df.fillna('', inplace=True)"
   ]
  },
  {
   "cell_type": "code",
   "execution_count": 33,
   "id": "a5fccb0d",
   "metadata": {},
   "outputs": [
    {
     "data": {
      "text/plain": [
       "                    544\n",
       "Jan,Apr,Jul,Oct     335\n",
       "Feb,May,Aug,Nov     130\n",
       "Mar,Jun,Sept,Dec    106\n",
       "Name: PromoInterval, dtype: int64"
      ]
     },
     "execution_count": 33,
     "metadata": {},
     "output_type": "execute_result"
    }
   ],
   "source": [
    "# Check the values of the PromoInterval field\n",
    "stores_df.PromoInterval.value_counts()"
   ]
  },
  {
   "cell_type": "code",
   "execution_count": 34,
   "id": "fe2bad96",
   "metadata": {},
   "outputs": [
    {
     "data": {
      "text/plain": [
       "Store                        0\n",
       "StoreType                    0\n",
       "Assortment                   0\n",
       "CompetitionDistance          0\n",
       "CompetitionOpenSinceMonth    0\n",
       "CompetitionOpenSinceYear     0\n",
       "Promo2                       0\n",
       "Promo2SinceWeek              0\n",
       "Promo2SinceYear              0\n",
       "PromoInterval                0\n",
       "dtype: int64"
      ]
     },
     "execution_count": 34,
     "metadata": {},
     "output_type": "execute_result"
    }
   ],
   "source": [
    "# Recheck our null values, we should now have no null values\n",
    "stores_df.isnull().sum()"
   ]
  },
  {
   "cell_type": "code",
   "execution_count": 35,
   "id": "5f192418",
   "metadata": {},
   "outputs": [],
   "source": [
    "# Make Promo Interval more meaningful and usable in our model\n",
    "months = [\"Jan\", \"Feb\", \"Mar\", \"Apr\", \"May\", \"Jun\", \"Jul\", \"Aug\", \"Sep\", \"Oct\", \"Nov\", \"Dec\"]"
   ]
  },
  {
   "cell_type": "code",
   "execution_count": 36,
   "id": "9ea9d13d",
   "metadata": {},
   "outputs": [
    {
     "data": {
      "text/html": [
       "<div>\n",
       "<style scoped>\n",
       "    .dataframe tbody tr th:only-of-type {\n",
       "        vertical-align: middle;\n",
       "    }\n",
       "\n",
       "    .dataframe tbody tr th {\n",
       "        vertical-align: top;\n",
       "    }\n",
       "\n",
       "    .dataframe thead th {\n",
       "        text-align: right;\n",
       "    }\n",
       "</style>\n",
       "<table border=\"1\" class=\"dataframe\">\n",
       "  <thead>\n",
       "    <tr style=\"text-align: right;\">\n",
       "      <th></th>\n",
       "      <th>0</th>\n",
       "      <th>1</th>\n",
       "      <th>2</th>\n",
       "      <th>3</th>\n",
       "      <th>4</th>\n",
       "    </tr>\n",
       "  </thead>\n",
       "  <tbody>\n",
       "    <tr>\n",
       "      <th>Store</th>\n",
       "      <td>1</td>\n",
       "      <td>2</td>\n",
       "      <td>3</td>\n",
       "      <td>4</td>\n",
       "      <td>5</td>\n",
       "    </tr>\n",
       "    <tr>\n",
       "      <th>StoreType</th>\n",
       "      <td>2</td>\n",
       "      <td>0</td>\n",
       "      <td>0</td>\n",
       "      <td>2</td>\n",
       "      <td>0</td>\n",
       "    </tr>\n",
       "    <tr>\n",
       "      <th>Assortment</th>\n",
       "      <td>0</td>\n",
       "      <td>0</td>\n",
       "      <td>0</td>\n",
       "      <td>2</td>\n",
       "      <td>0</td>\n",
       "    </tr>\n",
       "    <tr>\n",
       "      <th>CompetitionDistance</th>\n",
       "      <td>1270.0</td>\n",
       "      <td>570.0</td>\n",
       "      <td>14130.0</td>\n",
       "      <td>620.0</td>\n",
       "      <td>29910.0</td>\n",
       "    </tr>\n",
       "    <tr>\n",
       "      <th>CompetitionOpenSinceMonth</th>\n",
       "      <td>9.0</td>\n",
       "      <td>11.0</td>\n",
       "      <td>12.0</td>\n",
       "      <td>9.0</td>\n",
       "      <td>4.0</td>\n",
       "    </tr>\n",
       "    <tr>\n",
       "      <th>CompetitionOpenSinceYear</th>\n",
       "      <td>2008.0</td>\n",
       "      <td>2007.0</td>\n",
       "      <td>2006.0</td>\n",
       "      <td>2009.0</td>\n",
       "      <td>2015.0</td>\n",
       "    </tr>\n",
       "    <tr>\n",
       "      <th>Promo2</th>\n",
       "      <td>0</td>\n",
       "      <td>1</td>\n",
       "      <td>1</td>\n",
       "      <td>0</td>\n",
       "      <td>0</td>\n",
       "    </tr>\n",
       "    <tr>\n",
       "      <th>Promo2SinceWeek</th>\n",
       "      <td>22.0</td>\n",
       "      <td>13.0</td>\n",
       "      <td>14.0</td>\n",
       "      <td>22.0</td>\n",
       "      <td>22.0</td>\n",
       "    </tr>\n",
       "    <tr>\n",
       "      <th>Promo2SinceYear</th>\n",
       "      <td>2012.0</td>\n",
       "      <td>2010.0</td>\n",
       "      <td>2011.0</td>\n",
       "      <td>2012.0</td>\n",
       "      <td>2012.0</td>\n",
       "    </tr>\n",
       "    <tr>\n",
       "      <th>PromoInterval</th>\n",
       "      <td></td>\n",
       "      <td>Jan,Apr,Jul,Oct</td>\n",
       "      <td>Jan,Apr,Jul,Oct</td>\n",
       "      <td></td>\n",
       "      <td></td>\n",
       "    </tr>\n",
       "    <tr>\n",
       "      <th>PromoIntervalJan</th>\n",
       "      <td>NaN</td>\n",
       "      <td>1.0</td>\n",
       "      <td>1.0</td>\n",
       "      <td>NaN</td>\n",
       "      <td>NaN</td>\n",
       "    </tr>\n",
       "    <tr>\n",
       "      <th>PromoIntervalFeb</th>\n",
       "      <td>NaN</td>\n",
       "      <td>NaN</td>\n",
       "      <td>NaN</td>\n",
       "      <td>NaN</td>\n",
       "      <td>NaN</td>\n",
       "    </tr>\n",
       "    <tr>\n",
       "      <th>PromoIntervalMar</th>\n",
       "      <td>NaN</td>\n",
       "      <td>NaN</td>\n",
       "      <td>NaN</td>\n",
       "      <td>NaN</td>\n",
       "      <td>NaN</td>\n",
       "    </tr>\n",
       "    <tr>\n",
       "      <th>PromoIntervalApr</th>\n",
       "      <td>NaN</td>\n",
       "      <td>1.0</td>\n",
       "      <td>1.0</td>\n",
       "      <td>NaN</td>\n",
       "      <td>NaN</td>\n",
       "    </tr>\n",
       "    <tr>\n",
       "      <th>PromoIntervalMay</th>\n",
       "      <td>NaN</td>\n",
       "      <td>NaN</td>\n",
       "      <td>NaN</td>\n",
       "      <td>NaN</td>\n",
       "      <td>NaN</td>\n",
       "    </tr>\n",
       "    <tr>\n",
       "      <th>PromoIntervalJun</th>\n",
       "      <td>NaN</td>\n",
       "      <td>NaN</td>\n",
       "      <td>NaN</td>\n",
       "      <td>NaN</td>\n",
       "      <td>NaN</td>\n",
       "    </tr>\n",
       "    <tr>\n",
       "      <th>PromoIntervalJul</th>\n",
       "      <td>NaN</td>\n",
       "      <td>1.0</td>\n",
       "      <td>1.0</td>\n",
       "      <td>NaN</td>\n",
       "      <td>NaN</td>\n",
       "    </tr>\n",
       "    <tr>\n",
       "      <th>PromoIntervalAug</th>\n",
       "      <td>NaN</td>\n",
       "      <td>NaN</td>\n",
       "      <td>NaN</td>\n",
       "      <td>NaN</td>\n",
       "      <td>NaN</td>\n",
       "    </tr>\n",
       "    <tr>\n",
       "      <th>PromoIntervalSep</th>\n",
       "      <td>NaN</td>\n",
       "      <td>NaN</td>\n",
       "      <td>NaN</td>\n",
       "      <td>NaN</td>\n",
       "      <td>NaN</td>\n",
       "    </tr>\n",
       "    <tr>\n",
       "      <th>PromoIntervalOct</th>\n",
       "      <td>NaN</td>\n",
       "      <td>1.0</td>\n",
       "      <td>1.0</td>\n",
       "      <td>NaN</td>\n",
       "      <td>NaN</td>\n",
       "    </tr>\n",
       "    <tr>\n",
       "      <th>PromoIntervalNov</th>\n",
       "      <td>NaN</td>\n",
       "      <td>NaN</td>\n",
       "      <td>NaN</td>\n",
       "      <td>NaN</td>\n",
       "      <td>NaN</td>\n",
       "    </tr>\n",
       "    <tr>\n",
       "      <th>PromoIntervalDec</th>\n",
       "      <td>NaN</td>\n",
       "      <td>NaN</td>\n",
       "      <td>NaN</td>\n",
       "      <td>NaN</td>\n",
       "      <td>NaN</td>\n",
       "    </tr>\n",
       "  </tbody>\n",
       "</table>\n",
       "</div>"
      ],
      "text/plain": [
       "                                0                1                2       3  \\\n",
       "Store                           1                2                3       4   \n",
       "StoreType                       2                0                0       2   \n",
       "Assortment                      0                0                0       2   \n",
       "CompetitionDistance        1270.0            570.0          14130.0   620.0   \n",
       "CompetitionOpenSinceMonth     9.0             11.0             12.0     9.0   \n",
       "CompetitionOpenSinceYear   2008.0           2007.0           2006.0  2009.0   \n",
       "Promo2                          0                1                1       0   \n",
       "Promo2SinceWeek              22.0             13.0             14.0    22.0   \n",
       "Promo2SinceYear            2012.0           2010.0           2011.0  2012.0   \n",
       "PromoInterval                      Jan,Apr,Jul,Oct  Jan,Apr,Jul,Oct           \n",
       "PromoIntervalJan              NaN              1.0              1.0     NaN   \n",
       "PromoIntervalFeb              NaN              NaN              NaN     NaN   \n",
       "PromoIntervalMar              NaN              NaN              NaN     NaN   \n",
       "PromoIntervalApr              NaN              1.0              1.0     NaN   \n",
       "PromoIntervalMay              NaN              NaN              NaN     NaN   \n",
       "PromoIntervalJun              NaN              NaN              NaN     NaN   \n",
       "PromoIntervalJul              NaN              1.0              1.0     NaN   \n",
       "PromoIntervalAug              NaN              NaN              NaN     NaN   \n",
       "PromoIntervalSep              NaN              NaN              NaN     NaN   \n",
       "PromoIntervalOct              NaN              1.0              1.0     NaN   \n",
       "PromoIntervalNov              NaN              NaN              NaN     NaN   \n",
       "PromoIntervalDec              NaN              NaN              NaN     NaN   \n",
       "\n",
       "                                 4  \n",
       "Store                            5  \n",
       "StoreType                        0  \n",
       "Assortment                       0  \n",
       "CompetitionDistance        29910.0  \n",
       "CompetitionOpenSinceMonth      4.0  \n",
       "CompetitionOpenSinceYear    2015.0  \n",
       "Promo2                           0  \n",
       "Promo2SinceWeek               22.0  \n",
       "Promo2SinceYear             2012.0  \n",
       "PromoInterval                       \n",
       "PromoIntervalJan               NaN  \n",
       "PromoIntervalFeb               NaN  \n",
       "PromoIntervalMar               NaN  \n",
       "PromoIntervalApr               NaN  \n",
       "PromoIntervalMay               NaN  \n",
       "PromoIntervalJun               NaN  \n",
       "PromoIntervalJul               NaN  \n",
       "PromoIntervalAug               NaN  \n",
       "PromoIntervalSep               NaN  \n",
       "PromoIntervalOct               NaN  \n",
       "PromoIntervalNov               NaN  \n",
       "PromoIntervalDec               NaN  "
      ]
     },
     "execution_count": 36,
     "metadata": {},
     "output_type": "execute_result"
    }
   ],
   "source": [
    "# For each month, we will create a new column and if that particular row has that month\n",
    "# in the PromoInterval column then we will assign a value of 1 to that row.\n",
    "df_month = pd.DataFrame()\n",
    "for month in months:\n",
    "    stores_df.loc[stores_df['PromoInterval'].str.contains(month, case=False), \"PromoInterval\" + month] = 1\n",
    "stores_df.head(5).T"
   ]
  },
  {
   "cell_type": "code",
   "execution_count": 37,
   "id": "7362e241",
   "metadata": {},
   "outputs": [],
   "source": [
    "# Fill the null values or rowsXcolumns that were not assigned with 1 with a 0\n",
    "stores_df.fillna(0, inplace=True)"
   ]
  },
  {
   "cell_type": "code",
   "execution_count": 38,
   "id": "afcdde21",
   "metadata": {},
   "outputs": [
    {
     "data": {
      "text/plain": [
       "Store                        0\n",
       "StoreType                    0\n",
       "Assortment                   0\n",
       "CompetitionDistance          0\n",
       "CompetitionOpenSinceMonth    0\n",
       "CompetitionOpenSinceYear     0\n",
       "Promo2                       0\n",
       "Promo2SinceWeek              0\n",
       "Promo2SinceYear              0\n",
       "PromoInterval                0\n",
       "PromoIntervalJan             0\n",
       "PromoIntervalFeb             0\n",
       "PromoIntervalMar             0\n",
       "PromoIntervalApr             0\n",
       "PromoIntervalMay             0\n",
       "PromoIntervalJun             0\n",
       "PromoIntervalJul             0\n",
       "PromoIntervalAug             0\n",
       "PromoIntervalSep             0\n",
       "PromoIntervalOct             0\n",
       "PromoIntervalNov             0\n",
       "PromoIntervalDec             0\n",
       "dtype: int64"
      ]
     },
     "execution_count": 38,
     "metadata": {},
     "output_type": "execute_result"
    }
   ],
   "source": [
    "# We now have no null values\n",
    "stores_df.isnull().sum()"
   ]
  },
  {
   "cell_type": "code",
   "execution_count": 39,
   "id": "eca4eeda",
   "metadata": {},
   "outputs": [],
   "source": [
    "# Export the stores dataframe with more features since this will be useful for deployment.\n",
    "stores_df.to_csv(\"data/store_details.csv\",  index=False)"
   ]
  },
  {
   "cell_type": "markdown",
   "id": "8d8aa853",
   "metadata": {},
   "source": [
    "### 3.3 Merge DataFrames"
   ]
  },
  {
   "cell_type": "code",
   "execution_count": 40,
   "id": "f3d6cebb",
   "metadata": {},
   "outputs": [],
   "source": [
    "# For every entry in our sales dataframe, let us match it with the corresponding store details.\n",
    "sales_merged_df = sales_df.merge(stores_df, on='Store', how='left')"
   ]
  },
  {
   "cell_type": "code",
   "execution_count": 41,
   "id": "cda4cf2b",
   "metadata": {},
   "outputs": [
    {
     "data": {
      "text/html": [
       "<div>\n",
       "<style scoped>\n",
       "    .dataframe tbody tr th:only-of-type {\n",
       "        vertical-align: middle;\n",
       "    }\n",
       "\n",
       "    .dataframe tbody tr th {\n",
       "        vertical-align: top;\n",
       "    }\n",
       "\n",
       "    .dataframe thead th {\n",
       "        text-align: right;\n",
       "    }\n",
       "</style>\n",
       "<table border=\"1\" class=\"dataframe\">\n",
       "  <thead>\n",
       "    <tr style=\"text-align: right;\">\n",
       "      <th></th>\n",
       "      <th>Store</th>\n",
       "      <th>DayOfWeek</th>\n",
       "      <th>Date</th>\n",
       "      <th>Sales</th>\n",
       "      <th>Customers</th>\n",
       "      <th>Open</th>\n",
       "      <th>Promo</th>\n",
       "      <th>StateHoliday</th>\n",
       "      <th>SchoolHoliday</th>\n",
       "      <th>SaleYear</th>\n",
       "      <th>...</th>\n",
       "      <th>PromoIntervalMar</th>\n",
       "      <th>PromoIntervalApr</th>\n",
       "      <th>PromoIntervalMay</th>\n",
       "      <th>PromoIntervalJun</th>\n",
       "      <th>PromoIntervalJul</th>\n",
       "      <th>PromoIntervalAug</th>\n",
       "      <th>PromoIntervalSep</th>\n",
       "      <th>PromoIntervalOct</th>\n",
       "      <th>PromoIntervalNov</th>\n",
       "      <th>PromoIntervalDec</th>\n",
       "    </tr>\n",
       "  </thead>\n",
       "  <tbody>\n",
       "    <tr>\n",
       "      <th>914624</th>\n",
       "      <td>746</td>\n",
       "      <td>4</td>\n",
       "      <td>2015-04-30</td>\n",
       "      <td>9469</td>\n",
       "      <td>748</td>\n",
       "      <td>1</td>\n",
       "      <td>1</td>\n",
       "      <td>0</td>\n",
       "      <td>0</td>\n",
       "      <td>2015</td>\n",
       "      <td>...</td>\n",
       "      <td>1.0</td>\n",
       "      <td>0.0</td>\n",
       "      <td>0.0</td>\n",
       "      <td>1.0</td>\n",
       "      <td>0.0</td>\n",
       "      <td>0.0</td>\n",
       "      <td>1.0</td>\n",
       "      <td>0.0</td>\n",
       "      <td>0.0</td>\n",
       "      <td>1.0</td>\n",
       "    </tr>\n",
       "    <tr>\n",
       "      <th>914625</th>\n",
       "      <td>747</td>\n",
       "      <td>4</td>\n",
       "      <td>2015-04-30</td>\n",
       "      <td>12123</td>\n",
       "      <td>1017</td>\n",
       "      <td>1</td>\n",
       "      <td>1</td>\n",
       "      <td>0</td>\n",
       "      <td>0</td>\n",
       "      <td>2015</td>\n",
       "      <td>...</td>\n",
       "      <td>0.0</td>\n",
       "      <td>0.0</td>\n",
       "      <td>0.0</td>\n",
       "      <td>0.0</td>\n",
       "      <td>0.0</td>\n",
       "      <td>0.0</td>\n",
       "      <td>0.0</td>\n",
       "      <td>0.0</td>\n",
       "      <td>0.0</td>\n",
       "      <td>0.0</td>\n",
       "    </tr>\n",
       "    <tr>\n",
       "      <th>914626</th>\n",
       "      <td>748</td>\n",
       "      <td>4</td>\n",
       "      <td>2015-04-30</td>\n",
       "      <td>9524</td>\n",
       "      <td>746</td>\n",
       "      <td>1</td>\n",
       "      <td>1</td>\n",
       "      <td>0</td>\n",
       "      <td>0</td>\n",
       "      <td>2015</td>\n",
       "      <td>...</td>\n",
       "      <td>0.0</td>\n",
       "      <td>1.0</td>\n",
       "      <td>0.0</td>\n",
       "      <td>0.0</td>\n",
       "      <td>1.0</td>\n",
       "      <td>0.0</td>\n",
       "      <td>0.0</td>\n",
       "      <td>1.0</td>\n",
       "      <td>0.0</td>\n",
       "      <td>0.0</td>\n",
       "    </tr>\n",
       "    <tr>\n",
       "      <th>914627</th>\n",
       "      <td>742</td>\n",
       "      <td>4</td>\n",
       "      <td>2015-04-30</td>\n",
       "      <td>12225</td>\n",
       "      <td>1196</td>\n",
       "      <td>1</td>\n",
       "      <td>1</td>\n",
       "      <td>0</td>\n",
       "      <td>0</td>\n",
       "      <td>2015</td>\n",
       "      <td>...</td>\n",
       "      <td>0.0</td>\n",
       "      <td>0.0</td>\n",
       "      <td>0.0</td>\n",
       "      <td>0.0</td>\n",
       "      <td>0.0</td>\n",
       "      <td>0.0</td>\n",
       "      <td>0.0</td>\n",
       "      <td>0.0</td>\n",
       "      <td>0.0</td>\n",
       "      <td>0.0</td>\n",
       "    </tr>\n",
       "    <tr>\n",
       "      <th>914628</th>\n",
       "      <td>1</td>\n",
       "      <td>4</td>\n",
       "      <td>2015-04-30</td>\n",
       "      <td>6228</td>\n",
       "      <td>650</td>\n",
       "      <td>1</td>\n",
       "      <td>1</td>\n",
       "      <td>0</td>\n",
       "      <td>0</td>\n",
       "      <td>2015</td>\n",
       "      <td>...</td>\n",
       "      <td>0.0</td>\n",
       "      <td>0.0</td>\n",
       "      <td>0.0</td>\n",
       "      <td>0.0</td>\n",
       "      <td>0.0</td>\n",
       "      <td>0.0</td>\n",
       "      <td>0.0</td>\n",
       "      <td>0.0</td>\n",
       "      <td>0.0</td>\n",
       "      <td>0.0</td>\n",
       "    </tr>\n",
       "  </tbody>\n",
       "</table>\n",
       "<p>5 rows × 34 columns</p>\n",
       "</div>"
      ],
      "text/plain": [
       "        Store  DayOfWeek       Date  Sales  Customers  Open  Promo  \\\n",
       "914624    746          4 2015-04-30   9469        748     1      1   \n",
       "914625    747          4 2015-04-30  12123       1017     1      1   \n",
       "914626    748          4 2015-04-30   9524        746     1      1   \n",
       "914627    742          4 2015-04-30  12225       1196     1      1   \n",
       "914628      1          4 2015-04-30   6228        650     1      1   \n",
       "\n",
       "        StateHoliday  SchoolHoliday  SaleYear  ...  PromoIntervalMar  \\\n",
       "914624             0              0      2015  ...               1.0   \n",
       "914625             0              0      2015  ...               0.0   \n",
       "914626             0              0      2015  ...               0.0   \n",
       "914627             0              0      2015  ...               0.0   \n",
       "914628             0              0      2015  ...               0.0   \n",
       "\n",
       "        PromoIntervalApr  PromoIntervalMay  PromoIntervalJun  \\\n",
       "914624               0.0               0.0               1.0   \n",
       "914625               0.0               0.0               0.0   \n",
       "914626               1.0               0.0               0.0   \n",
       "914627               0.0               0.0               0.0   \n",
       "914628               0.0               0.0               0.0   \n",
       "\n",
       "        PromoIntervalJul  PromoIntervalAug  PromoIntervalSep  \\\n",
       "914624               0.0               0.0               1.0   \n",
       "914625               0.0               0.0               0.0   \n",
       "914626               1.0               0.0               0.0   \n",
       "914627               0.0               0.0               0.0   \n",
       "914628               0.0               0.0               0.0   \n",
       "\n",
       "        PromoIntervalOct  PromoIntervalNov  PromoIntervalDec  \n",
       "914624               0.0               0.0               1.0  \n",
       "914625               0.0               0.0               0.0  \n",
       "914626               1.0               0.0               0.0  \n",
       "914627               0.0               0.0               0.0  \n",
       "914628               0.0               0.0               0.0  \n",
       "\n",
       "[5 rows x 34 columns]"
      ]
     },
     "execution_count": 41,
     "metadata": {},
     "output_type": "execute_result"
    }
   ],
   "source": [
    "sales_merged_df.tail(5)"
   ]
  },
  {
   "cell_type": "code",
   "execution_count": 42,
   "id": "1ae27ec7",
   "metadata": {},
   "outputs": [
    {
     "data": {
      "text/plain": [
       "((914629, 34), (914629, 13), (1115, 22))"
      ]
     },
     "execution_count": 42,
     "metadata": {},
     "output_type": "execute_result"
    }
   ],
   "source": [
    "# Check the shape of the dataframes to see if it was properly merged\n",
    "sales_merged_df.shape, sales_df.shape, stores_df.shape"
   ]
  },
  {
   "cell_type": "code",
   "execution_count": 43,
   "id": "b454b18a",
   "metadata": {},
   "outputs": [],
   "source": [
    "# Now that we have enriched the DataFrame with columnized features for our date, we can remove the Date column\n",
    "sales_merged_df.drop(\"Date\", axis=1, inplace=True)"
   ]
  },
  {
   "cell_type": "code",
   "execution_count": 44,
   "id": "578d5c85",
   "metadata": {},
   "outputs": [],
   "source": [
    "# Now that we have enriched the DataFrame with columnized features for our PromoInterval, we can remove the column as well\n",
    "sales_merged_df.drop('PromoInterval', axis=1, inplace=True)"
   ]
  },
  {
   "cell_type": "code",
   "execution_count": 45,
   "id": "bb4fdb61",
   "metadata": {},
   "outputs": [
    {
     "data": {
      "text/plain": [
       "(914629, 32)"
      ]
     },
     "execution_count": 45,
     "metadata": {},
     "output_type": "execute_result"
    }
   ],
   "source": [
    "sales_merged_df.shape"
   ]
  },
  {
   "cell_type": "code",
   "execution_count": 46,
   "id": "5f846bb4",
   "metadata": {},
   "outputs": [],
   "source": [
    "# Let us try fitting to see if our values are now acceptable"
   ]
  },
  {
   "cell_type": "code",
   "execution_count": 47,
   "id": "570075d7",
   "metadata": {},
   "outputs": [],
   "source": [
    "X_train, y_train = sales_merged_df.drop(\"Sales\", axis=1), sales_merged_df.Sales"
   ]
  },
  {
   "cell_type": "code",
   "execution_count": 48,
   "id": "181c70f9",
   "metadata": {},
   "outputs": [],
   "source": [
    "# Random Forest Regressor\n",
    "from sklearn.ensemble import RandomForestRegressor\n",
    "model = RandomForestRegressor(n_jobs=-1, random_state=42, n_estimators = 100, max_samples=100)"
   ]
  },
  {
   "cell_type": "code",
   "execution_count": 49,
   "id": "6f244756",
   "metadata": {},
   "outputs": [
    {
     "data": {
      "text/plain": [
       "RandomForestRegressor(max_samples=100, n_jobs=-1, random_state=42)"
      ]
     },
     "execution_count": 49,
     "metadata": {},
     "output_type": "execute_result"
    }
   ],
   "source": [
    "model.fit(X_train, y_train)"
   ]
  },
  {
   "cell_type": "markdown",
   "id": "7adb3741",
   "metadata": {},
   "source": [
    "Our dataset can now be fitted to a model."
   ]
  },
  {
   "cell_type": "markdown",
   "id": "5243567e",
   "metadata": {},
   "source": [
    "### 3.4 Outlier Handling\n",
    "However, before we fit our data into a model, let us first address our outliers."
   ]
  },
  {
   "cell_type": "code",
   "execution_count": 50,
   "id": "37b94b91",
   "metadata": {},
   "outputs": [
    {
     "data": {
      "image/png": "[encoded data removed]",
      "text/plain": [
       "<Figure size 1440x720 with 35 Axes>"
      ]
     },
     "metadata": {
      "needs_background": "light"
     },
     "output_type": "display_data"
    }
   ],
   "source": [
    "# Let us plot our features and see if there are any outliers worth studying\n",
    "sales_merged_df.plot(kind='box', subplots=True, layout=(5,7),sharex=False,sharey=False, figsize=(20, 10), color='darkorange');"
   ]
  },
  {
   "cell_type": "code",
   "execution_count": 51,
   "id": "04d5b6ea",
   "metadata": {},
   "outputs": [
    {
     "data": {
      "image/png": "[encoded data removed]",
      "text/plain": [
       "<Figure size 1440x720 with 14 Axes>"
      ]
     },
     "metadata": {
      "needs_background": "light"
     },
     "output_type": "display_data"
    }
   ],
   "source": [
    "# We have a few columns that we need to focus on and see if they are really outliers\n",
    "sales_merged_df[[\"Sales\", \"CompetitionOpenSinceYear\", \"Customers\", \"CompetitionOpenSinceMonth\", \"CompetitionDistance\"]].plot(kind='box', subplots=True, layout=(2,7),sharex=False,sharey=False, figsize=(20, 10), color='darkorange');"
   ]
  },
  {
   "cell_type": "code",
   "execution_count": 52,
   "id": "56b97d43",
   "metadata": {},
   "outputs": [
    {
     "data": {
      "text/plain": [
       "8.0     323378\n",
       "9.0     102754\n",
       "4.0      78428\n",
       "11.0     75991\n",
       "3.0      57108\n",
       "7.0      53270\n",
       "12.0     52008\n",
       "10.0     50010\n",
       "6.0      40844\n",
       "5.0      35560\n",
       "2.0      34114\n",
       "1.0      11164\n",
       "Name: CompetitionOpenSinceMonth, dtype: int64"
      ]
     },
     "execution_count": 52,
     "metadata": {},
     "output_type": "execute_result"
    }
   ],
   "source": [
    "# For the CompetitionOpenSinceMonth, we can just check if the outlier is just 1 and not 0, so this would be acceptable\n",
    "sales_merged_df.CompetitionOpenSinceMonth.value_counts()"
   ]
  },
  {
   "cell_type": "code",
   "execution_count": 53,
   "id": "36713d64",
   "metadata": {},
   "outputs": [],
   "source": [
    "# Let us place the rest of the columns that we'd like to check on a list.\n",
    "check_features = [\"CompetitionOpenSinceYear\", \"Customers\", \"CompetitionDistance\", \"Sales\"]"
   ]
  },
  {
   "cell_type": "code",
   "execution_count": 54,
   "id": "9a71d4f6",
   "metadata": {},
   "outputs": [],
   "source": [
    "# We have two functions that we can use to remove outliers. \n",
    "# The first one is the three sigma limits method and the second one is \n",
    "# the interquartile range multiplied by 1.5 method.\n",
    "\n",
    "def outliers_three_sigma(data_frame, features):\n",
    "    \"\"\"\n",
    "    Removes outliers on specific columns of a dataframe using the three sigma limits method.\n",
    "    This basically removes all values that are 3 standard deviations away from the mean.\n",
    "    \"\"\"\n",
    "    for feature in features.columns:\n",
    "        feature_data = data_frame[feature]\n",
    "        mean_val = np.mean(feature_data)\n",
    "        std_val = np.std(feature_data)\n",
    "        lower_limit = max(0, mean_val - 3*std_val)\n",
    "        upper_limit = mean_val + 3*std_val\n",
    "        print(f\"Analyzing Feature: {feature}\")\n",
    "        print(f\"     Mean: {mean_val:.2f}, Standard dev: {std_val:.2f} , Lower Limit: {lower_limit:.2f}, Upper Limit: {upper_limit:.2f}\")\n",
    "        data_frame = data_frame[data_frame[feature] >= lower_limit]\n",
    "        data_frame = data_frame[data_frame[feature] <= upper_limit]\n",
    "    return data_frame\n",
    "\n",
    "def outliers_iqr(data_frame, features):\n",
    "    \"\"\"\n",
    "    Removes outliers on specific columns of a dataframe using the interquartile range multiplied by 1.5.\n",
    "    This basically removes all values that are outside the IQR*1.5 of the first and third quartile.\n",
    "    \"\"\"\n",
    "    for feature in features.columns:\n",
    "        feature_data = data_frame[feature]\n",
    "        Q1 = np.percentile(feature_data, 25.) \n",
    "        Q3 = np.percentile(feature_data, 75.) \n",
    "        IQR = Q3-Q1 \n",
    "        outlier_step = IQR * 1.5 \n",
    "        print(f\"Analyzing Feature: {feature}\")\n",
    "        print(f\"     Quartile 1: {Q1:.2f}, Quartile 3: {Q3:.2f}, Interquartile Range: {IQR:.2f}, Outlier Step: {outlier_step:.2f}\")\n",
    "        outliers = feature_data[~((feature_data >= Q1 - outlier_step) & (feature_data <= Q3 + outlier_step))].index.tolist()  \n",
    "        data_frame.drop(outliers, inplace = True, errors = 'ignore')\n",
    "    return data_frame"
   ]
  },
  {
   "cell_type": "code",
   "execution_count": 55,
   "id": "34ccb923",
   "metadata": {},
   "outputs": [
    {
     "name": "stdout",
     "output_type": "stream",
     "text": [
      "Analyzing Feature: CompetitionOpenSinceYear\n",
      "     Mean: 2009.11, Standard dev: 4.97 , Lower Limit: 1994.20, Upper Limit: 2024.01\n",
      "Analyzing Feature: Customers\n",
      "     Mean: 633.77, Standard dev: 465.34 , Lower Limit: 0.00, Upper Limit: 2029.79\n",
      "Analyzing Feature: CompetitionDistance\n",
      "     Mean: 5508.23, Standard dev: 7769.09 , Lower Limit: 0.00, Upper Limit: 28815.50\n",
      "Analyzing Feature: Sales\n",
      "     Mean: 5597.48, Standard dev: 3592.65 , Lower Limit: 0.00, Upper Limit: 16375.44\n"
     ]
    }
   ],
   "source": [
    "# Let us first check how our data will turn out if we use the three sigma method.\n",
    "sales_merged_df_three_sigma = sales_merged_df.copy(deep=True)\n",
    "sales_merged_df_three_sigma = outliers_three_sigma(sales_merged_df_three_sigma, sales_merged_df[check_features])"
   ]
  },
  {
   "cell_type": "code",
   "execution_count": 56,
   "id": "a64236cb",
   "metadata": {},
   "outputs": [
    {
     "data": {
      "image/png": "[encoded data removed]",
      "text/plain": [
       "<Figure size 1440x720 with 14 Axes>"
      ]
     },
     "metadata": {
      "needs_background": "light"
     },
     "output_type": "display_data"
    }
   ],
   "source": [
    "sales_merged_df_three_sigma[check_features].plot(kind='box', subplots=True, layout=(2,7),sharex=False,sharey=False, figsize=(20, 10), color='darkorange');"
   ]
  },
  {
   "cell_type": "code",
   "execution_count": 57,
   "id": "da6b665c",
   "metadata": {},
   "outputs": [
    {
     "name": "stdout",
     "output_type": "stream",
     "text": [
      "Analyzing Feature: CompetitionOpenSinceYear\n",
      "     Quartile 1: 2008.00, Quartile 3: 2011.00, Interquartile Range: 3.00, Outlier Step: 4.50\n",
      "Analyzing Feature: Customers\n",
      "     Quartile 1: 407.00, Quartile 3: 839.00, Interquartile Range: 432.00, Outlier Step: 648.00\n",
      "Analyzing Feature: CompetitionDistance\n",
      "     Quartile 1: 780.00, Quartile 3: 6890.00, Interquartile Range: 6110.00, Outlier Step: 9165.00\n",
      "Analyzing Feature: Sales\n",
      "     Quartile 1: 3625.00, Quartile 3: 7521.00, Interquartile Range: 3896.00, Outlier Step: 5844.00\n"
     ]
    }
   ],
   "source": [
    "# Let us then check how our data will turn out if we use the IQR * 1.5 method.\n",
    "sales_merged_df_iqr = sales_merged_df.copy(deep=True)\n",
    "sales_merged_df_iqr = outliers_iqr(sales_merged_df_iqr, sales_merged_df[check_features])"
   ]
  },
  {
   "cell_type": "code",
   "execution_count": 58,
   "id": "8703e358",
   "metadata": {},
   "outputs": [
    {
     "data": {
      "image/png": "[encoded data removed]",
      "text/plain": [
       "<Figure size 1440x720 with 14 Axes>"
      ]
     },
     "metadata": {
      "needs_background": "light"
     },
     "output_type": "display_data"
    }
   ],
   "source": [
    "sales_merged_df_iqr[check_features].plot(kind='box', subplots=True, layout=(2,7),sharex=False,sharey=False, figsize=(20, 10), color='darkorange');"
   ]
  },
  {
   "cell_type": "code",
   "execution_count": 59,
   "id": "96a7f0f5",
   "metadata": {},
   "outputs": [
    {
     "data": {
      "text/plain": [
       "(78.85853171067177, 95.26026399775209)"
      ]
     },
     "execution_count": 59,
     "metadata": {},
     "output_type": "execute_result"
    }
   ],
   "source": [
    "# Let us compare the percentages of the dataset that will be left once we remove the outliers.\n",
    "sales_merged_df_iqr.size/sales_merged_df.size*100, sales_merged_df_three_sigma.size/sales_merged_df.size*100"
   ]
  },
  {
   "cell_type": "code",
   "execution_count": 60,
   "id": "5b995f64",
   "metadata": {},
   "outputs": [
    {
     "name": "stdout",
     "output_type": "stream",
     "text": [
      "Analyzing Feature: CompetitionOpenSinceYear\n",
      "     Mean: 2009.11, Standard dev: 4.97 , Lower Limit: 1994.20, Upper Limit: 2024.01\n",
      "Analyzing Feature: Customers\n",
      "     Mean: 633.77, Standard dev: 465.34 , Lower Limit: 0.00, Upper Limit: 2029.79\n",
      "Analyzing Feature: CompetitionDistance\n",
      "     Mean: 5508.23, Standard dev: 7769.09 , Lower Limit: 0.00, Upper Limit: 28815.50\n",
      "Analyzing Feature: Sales\n",
      "     Mean: 5597.48, Standard dev: 3592.65 , Lower Limit: 0.00, Upper Limit: 16375.44\n"
     ]
    }
   ],
   "source": [
    "# Since we have not yet taken into consideration the input of a business analyst or someone with\n",
    "# domain knowledge on the dataset, let us just use the outlier detection method with the least amount\n",
    "# of outliers just to be safe with our data.\n",
    "sales_merged_df = outliers_three_sigma(sales_merged_df, sales_merged_df[check_features])"
   ]
  },
  {
   "cell_type": "code",
   "execution_count": 61,
   "id": "83903d60",
   "metadata": {},
   "outputs": [
    {
     "data": {
      "text/plain": [
       "27880896"
      ]
     },
     "execution_count": 61,
     "metadata": {},
     "output_type": "execute_result"
    }
   ],
   "source": [
    "# We now have 95% of the original dataset\n",
    "sales_merged_df.size"
   ]
  },
  {
   "cell_type": "markdown",
   "id": "d0bc6bc3",
   "metadata": {},
   "source": [
    "## 4. Modelling\n",
    "In this section, we will try to fit our data into various models and choose one that we can optimize to produce optimal accuracy."
   ]
  },
  {
   "cell_type": "markdown",
   "id": "c60b91a7",
   "metadata": {},
   "source": [
    "#### 4.1 Separating between training and validation"
   ]
  },
  {
   "cell_type": "code",
   "execution_count": 62,
   "id": "8370f64d",
   "metadata": {},
   "outputs": [
    {
     "data": {
      "text/html": [
       "<div>\n",
       "<style scoped>\n",
       "    .dataframe tbody tr th:only-of-type {\n",
       "        vertical-align: middle;\n",
       "    }\n",
       "\n",
       "    .dataframe tbody tr th {\n",
       "        vertical-align: top;\n",
       "    }\n",
       "\n",
       "    .dataframe thead th {\n",
       "        text-align: right;\n",
       "    }\n",
       "</style>\n",
       "<table border=\"1\" class=\"dataframe\">\n",
       "  <thead>\n",
       "    <tr style=\"text-align: right;\">\n",
       "      <th></th>\n",
       "      <th>Store</th>\n",
       "      <th>DayOfWeek</th>\n",
       "      <th>Sales</th>\n",
       "      <th>Customers</th>\n",
       "      <th>Open</th>\n",
       "      <th>Promo</th>\n",
       "      <th>StateHoliday</th>\n",
       "      <th>SchoolHoliday</th>\n",
       "      <th>SaleYear</th>\n",
       "      <th>SaleMonth</th>\n",
       "      <th>...</th>\n",
       "      <th>PromoIntervalMar</th>\n",
       "      <th>PromoIntervalApr</th>\n",
       "      <th>PromoIntervalMay</th>\n",
       "      <th>PromoIntervalJun</th>\n",
       "      <th>PromoIntervalJul</th>\n",
       "      <th>PromoIntervalAug</th>\n",
       "      <th>PromoIntervalSep</th>\n",
       "      <th>PromoIntervalOct</th>\n",
       "      <th>PromoIntervalNov</th>\n",
       "      <th>PromoIntervalDec</th>\n",
       "    </tr>\n",
       "  </thead>\n",
       "  <tbody>\n",
       "    <tr>\n",
       "      <th>0</th>\n",
       "      <td>1115</td>\n",
       "      <td>2</td>\n",
       "      <td>0</td>\n",
       "      <td>0</td>\n",
       "      <td>0</td>\n",
       "      <td>0</td>\n",
       "      <td>1</td>\n",
       "      <td>1</td>\n",
       "      <td>2013</td>\n",
       "      <td>1</td>\n",
       "      <td>...</td>\n",
       "      <td>1.0</td>\n",
       "      <td>0.0</td>\n",
       "      <td>0.0</td>\n",
       "      <td>1.0</td>\n",
       "      <td>0.0</td>\n",
       "      <td>0.0</td>\n",
       "      <td>1.0</td>\n",
       "      <td>0.0</td>\n",
       "      <td>0.0</td>\n",
       "      <td>1.0</td>\n",
       "    </tr>\n",
       "    <tr>\n",
       "      <th>1</th>\n",
       "      <td>379</td>\n",
       "      <td>2</td>\n",
       "      <td>0</td>\n",
       "      <td>0</td>\n",
       "      <td>0</td>\n",
       "      <td>0</td>\n",
       "      <td>1</td>\n",
       "      <td>1</td>\n",
       "      <td>2013</td>\n",
       "      <td>1</td>\n",
       "      <td>...</td>\n",
       "      <td>0.0</td>\n",
       "      <td>0.0</td>\n",
       "      <td>0.0</td>\n",
       "      <td>0.0</td>\n",
       "      <td>0.0</td>\n",
       "      <td>0.0</td>\n",
       "      <td>0.0</td>\n",
       "      <td>0.0</td>\n",
       "      <td>0.0</td>\n",
       "      <td>0.0</td>\n",
       "    </tr>\n",
       "    <tr>\n",
       "      <th>2</th>\n",
       "      <td>378</td>\n",
       "      <td>2</td>\n",
       "      <td>0</td>\n",
       "      <td>0</td>\n",
       "      <td>0</td>\n",
       "      <td>0</td>\n",
       "      <td>1</td>\n",
       "      <td>1</td>\n",
       "      <td>2013</td>\n",
       "      <td>1</td>\n",
       "      <td>...</td>\n",
       "      <td>0.0</td>\n",
       "      <td>0.0</td>\n",
       "      <td>0.0</td>\n",
       "      <td>0.0</td>\n",
       "      <td>0.0</td>\n",
       "      <td>0.0</td>\n",
       "      <td>0.0</td>\n",
       "      <td>0.0</td>\n",
       "      <td>0.0</td>\n",
       "      <td>0.0</td>\n",
       "    </tr>\n",
       "    <tr>\n",
       "      <th>3</th>\n",
       "      <td>377</td>\n",
       "      <td>2</td>\n",
       "      <td>0</td>\n",
       "      <td>0</td>\n",
       "      <td>0</td>\n",
       "      <td>0</td>\n",
       "      <td>1</td>\n",
       "      <td>1</td>\n",
       "      <td>2013</td>\n",
       "      <td>1</td>\n",
       "      <td>...</td>\n",
       "      <td>0.0</td>\n",
       "      <td>0.0</td>\n",
       "      <td>1.0</td>\n",
       "      <td>0.0</td>\n",
       "      <td>0.0</td>\n",
       "      <td>1.0</td>\n",
       "      <td>0.0</td>\n",
       "      <td>0.0</td>\n",
       "      <td>1.0</td>\n",
       "      <td>0.0</td>\n",
       "    </tr>\n",
       "    <tr>\n",
       "      <th>4</th>\n",
       "      <td>376</td>\n",
       "      <td>2</td>\n",
       "      <td>0</td>\n",
       "      <td>0</td>\n",
       "      <td>0</td>\n",
       "      <td>0</td>\n",
       "      <td>1</td>\n",
       "      <td>1</td>\n",
       "      <td>2013</td>\n",
       "      <td>1</td>\n",
       "      <td>...</td>\n",
       "      <td>0.0</td>\n",
       "      <td>0.0</td>\n",
       "      <td>0.0</td>\n",
       "      <td>0.0</td>\n",
       "      <td>0.0</td>\n",
       "      <td>0.0</td>\n",
       "      <td>0.0</td>\n",
       "      <td>0.0</td>\n",
       "      <td>0.0</td>\n",
       "      <td>0.0</td>\n",
       "    </tr>\n",
       "    <tr>\n",
       "      <th>...</th>\n",
       "      <td>...</td>\n",
       "      <td>...</td>\n",
       "      <td>...</td>\n",
       "      <td>...</td>\n",
       "      <td>...</td>\n",
       "      <td>...</td>\n",
       "      <td>...</td>\n",
       "      <td>...</td>\n",
       "      <td>...</td>\n",
       "      <td>...</td>\n",
       "      <td>...</td>\n",
       "      <td>...</td>\n",
       "      <td>...</td>\n",
       "      <td>...</td>\n",
       "      <td>...</td>\n",
       "      <td>...</td>\n",
       "      <td>...</td>\n",
       "      <td>...</td>\n",
       "      <td>...</td>\n",
       "      <td>...</td>\n",
       "      <td>...</td>\n",
       "    </tr>\n",
       "    <tr>\n",
       "      <th>914623</th>\n",
       "      <td>745</td>\n",
       "      <td>4</td>\n",
       "      <td>10782</td>\n",
       "      <td>942</td>\n",
       "      <td>1</td>\n",
       "      <td>1</td>\n",
       "      <td>0</td>\n",
       "      <td>0</td>\n",
       "      <td>2015</td>\n",
       "      <td>4</td>\n",
       "      <td>...</td>\n",
       "      <td>0.0</td>\n",
       "      <td>1.0</td>\n",
       "      <td>0.0</td>\n",
       "      <td>0.0</td>\n",
       "      <td>1.0</td>\n",
       "      <td>0.0</td>\n",
       "      <td>0.0</td>\n",
       "      <td>1.0</td>\n",
       "      <td>0.0</td>\n",
       "      <td>0.0</td>\n",
       "    </tr>\n",
       "    <tr>\n",
       "      <th>914624</th>\n",
       "      <td>746</td>\n",
       "      <td>4</td>\n",
       "      <td>9469</td>\n",
       "      <td>748</td>\n",
       "      <td>1</td>\n",
       "      <td>1</td>\n",
       "      <td>0</td>\n",
       "      <td>0</td>\n",
       "      <td>2015</td>\n",
       "      <td>4</td>\n",
       "      <td>...</td>\n",
       "      <td>1.0</td>\n",
       "      <td>0.0</td>\n",
       "      <td>0.0</td>\n",
       "      <td>1.0</td>\n",
       "      <td>0.0</td>\n",
       "      <td>0.0</td>\n",
       "      <td>1.0</td>\n",
       "      <td>0.0</td>\n",
       "      <td>0.0</td>\n",
       "      <td>1.0</td>\n",
       "    </tr>\n",
       "    <tr>\n",
       "      <th>914626</th>\n",
       "      <td>748</td>\n",
       "      <td>4</td>\n",
       "      <td>9524</td>\n",
       "      <td>746</td>\n",
       "      <td>1</td>\n",
       "      <td>1</td>\n",
       "      <td>0</td>\n",
       "      <td>0</td>\n",
       "      <td>2015</td>\n",
       "      <td>4</td>\n",
       "      <td>...</td>\n",
       "      <td>0.0</td>\n",
       "      <td>1.0</td>\n",
       "      <td>0.0</td>\n",
       "      <td>0.0</td>\n",
       "      <td>1.0</td>\n",
       "      <td>0.0</td>\n",
       "      <td>0.0</td>\n",
       "      <td>1.0</td>\n",
       "      <td>0.0</td>\n",
       "      <td>0.0</td>\n",
       "    </tr>\n",
       "    <tr>\n",
       "      <th>914627</th>\n",
       "      <td>742</td>\n",
       "      <td>4</td>\n",
       "      <td>12225</td>\n",
       "      <td>1196</td>\n",
       "      <td>1</td>\n",
       "      <td>1</td>\n",
       "      <td>0</td>\n",
       "      <td>0</td>\n",
       "      <td>2015</td>\n",
       "      <td>4</td>\n",
       "      <td>...</td>\n",
       "      <td>0.0</td>\n",
       "      <td>0.0</td>\n",
       "      <td>0.0</td>\n",
       "      <td>0.0</td>\n",
       "      <td>0.0</td>\n",
       "      <td>0.0</td>\n",
       "      <td>0.0</td>\n",
       "      <td>0.0</td>\n",
       "      <td>0.0</td>\n",
       "      <td>0.0</td>\n",
       "    </tr>\n",
       "    <tr>\n",
       "      <th>914628</th>\n",
       "      <td>1</td>\n",
       "      <td>4</td>\n",
       "      <td>6228</td>\n",
       "      <td>650</td>\n",
       "      <td>1</td>\n",
       "      <td>1</td>\n",
       "      <td>0</td>\n",
       "      <td>0</td>\n",
       "      <td>2015</td>\n",
       "      <td>4</td>\n",
       "      <td>...</td>\n",
       "      <td>0.0</td>\n",
       "      <td>0.0</td>\n",
       "      <td>0.0</td>\n",
       "      <td>0.0</td>\n",
       "      <td>0.0</td>\n",
       "      <td>0.0</td>\n",
       "      <td>0.0</td>\n",
       "      <td>0.0</td>\n",
       "      <td>0.0</td>\n",
       "      <td>0.0</td>\n",
       "    </tr>\n",
       "  </tbody>\n",
       "</table>\n",
       "<p>871278 rows × 32 columns</p>\n",
       "</div>"
      ],
      "text/plain": [
       "        Store  DayOfWeek  Sales  Customers  Open  Promo  StateHoliday  \\\n",
       "0        1115          2      0          0     0      0             1   \n",
       "1         379          2      0          0     0      0             1   \n",
       "2         378          2      0          0     0      0             1   \n",
       "3         377          2      0          0     0      0             1   \n",
       "4         376          2      0          0     0      0             1   \n",
       "...       ...        ...    ...        ...   ...    ...           ...   \n",
       "914623    745          4  10782        942     1      1             0   \n",
       "914624    746          4   9469        748     1      1             0   \n",
       "914626    748          4   9524        746     1      1             0   \n",
       "914627    742          4  12225       1196     1      1             0   \n",
       "914628      1          4   6228        650     1      1             0   \n",
       "\n",
       "        SchoolHoliday  SaleYear  SaleMonth  ...  PromoIntervalMar  \\\n",
       "0                   1      2013          1  ...               1.0   \n",
       "1                   1      2013          1  ...               0.0   \n",
       "2                   1      2013          1  ...               0.0   \n",
       "3                   1      2013          1  ...               0.0   \n",
       "4                   1      2013          1  ...               0.0   \n",
       "...               ...       ...        ...  ...               ...   \n",
       "914623              0      2015          4  ...               0.0   \n",
       "914624              0      2015          4  ...               1.0   \n",
       "914626              0      2015          4  ...               0.0   \n",
       "914627              0      2015          4  ...               0.0   \n",
       "914628              0      2015          4  ...               0.0   \n",
       "\n",
       "        PromoIntervalApr  PromoIntervalMay  PromoIntervalJun  \\\n",
       "0                    0.0               0.0               1.0   \n",
       "1                    0.0               0.0               0.0   \n",
       "2                    0.0               0.0               0.0   \n",
       "3                    0.0               1.0               0.0   \n",
       "4                    0.0               0.0               0.0   \n",
       "...                  ...               ...               ...   \n",
       "914623               1.0               0.0               0.0   \n",
       "914624               0.0               0.0               1.0   \n",
       "914626               1.0               0.0               0.0   \n",
       "914627               0.0               0.0               0.0   \n",
       "914628               0.0               0.0               0.0   \n",
       "\n",
       "        PromoIntervalJul  PromoIntervalAug  PromoIntervalSep  \\\n",
       "0                    0.0               0.0               1.0   \n",
       "1                    0.0               0.0               0.0   \n",
       "2                    0.0               0.0               0.0   \n",
       "3                    0.0               1.0               0.0   \n",
       "4                    0.0               0.0               0.0   \n",
       "...                  ...               ...               ...   \n",
       "914623               1.0               0.0               0.0   \n",
       "914624               0.0               0.0               1.0   \n",
       "914626               1.0               0.0               0.0   \n",
       "914627               0.0               0.0               0.0   \n",
       "914628               0.0               0.0               0.0   \n",
       "\n",
       "        PromoIntervalOct  PromoIntervalNov  PromoIntervalDec  \n",
       "0                    0.0               0.0               1.0  \n",
       "1                    0.0               0.0               0.0  \n",
       "2                    0.0               0.0               0.0  \n",
       "3                    0.0               1.0               0.0  \n",
       "4                    0.0               0.0               0.0  \n",
       "...                  ...               ...               ...  \n",
       "914623               1.0               0.0               0.0  \n",
       "914624               0.0               0.0               1.0  \n",
       "914626               1.0               0.0               0.0  \n",
       "914627               0.0               0.0               0.0  \n",
       "914628               0.0               0.0               0.0  \n",
       "\n",
       "[871278 rows x 32 columns]"
      ]
     },
     "execution_count": 62,
     "metadata": {},
     "output_type": "execute_result"
    }
   ],
   "source": [
    "sales_merged_df"
   ]
  },
  {
   "cell_type": "code",
   "execution_count": 63,
   "id": "ff15b259",
   "metadata": {},
   "outputs": [
    {
     "data": {
      "text/plain": [
       "2013    388057\n",
       "2014    355403\n",
       "2015    127818\n",
       "Name: SaleYear, dtype: int64"
      ]
     },
     "execution_count": 63,
     "metadata": {},
     "output_type": "execute_result"
    }
   ],
   "source": [
    "# We can try splitting training and validation via year\n",
    "sales_merged_df.SaleYear.value_counts()"
   ]
  },
  {
   "cell_type": "code",
   "execution_count": 64,
   "id": "62f9e9d0",
   "metadata": {},
   "outputs": [
    {
     "data": {
      "text/plain": [
       "85.28850722731435"
      ]
     },
     "execution_count": 64,
     "metadata": {},
     "output_type": "execute_result"
    }
   ],
   "source": [
    "# So, if we use the data from 2013 and 2014, we end up with 85.29% of our data as our training \n",
    "# and the rest which is for 2015 as our validation dataset.\n",
    "(388057 + 355043) / 871278 * 100"
   ]
  },
  {
   "cell_type": "code",
   "execution_count": 65,
   "id": "a0c85a56",
   "metadata": {},
   "outputs": [
    {
     "data": {
      "text/plain": [
       "(127818, 743460)"
      ]
     },
     "execution_count": 65,
     "metadata": {},
     "output_type": "execute_result"
    }
   ],
   "source": [
    "# Split data into training and validation\n",
    "df_val = sales_merged_df[sales_merged_df.SaleYear == 2015]\n",
    "df_train = sales_merged_df[sales_merged_df.SaleYear != 2015]\n",
    "\n",
    "len(df_val), len(df_train)"
   ]
  },
  {
   "cell_type": "code",
   "execution_count": 66,
   "id": "4fe19488",
   "metadata": {},
   "outputs": [
    {
     "data": {
      "text/plain": [
       "((743460, 31), (743460,), (127818, 31), (127818,))"
      ]
     },
     "execution_count": 66,
     "metadata": {},
     "output_type": "execute_result"
    }
   ],
   "source": [
    "# Split data into X & y\n",
    "X_train, y_train = df_train.drop(\"Sales\", axis=1), df_train.Sales\n",
    "X_valid, y_valid = df_val.drop(\"Sales\", axis=1), df_val.Sales\n",
    "\n",
    "X_train.shape, y_train.shape, X_valid.shape, y_valid.shape"
   ]
  },
  {
   "cell_type": "code",
   "execution_count": 67,
   "id": "69e6dc7b",
   "metadata": {},
   "outputs": [],
   "source": [
    "df_val.to_csv(\"data/validation.csv\")"
   ]
  },
  {
   "cell_type": "markdown",
   "id": "a82df736",
   "metadata": {},
   "source": [
    "#### 4.2 Evaluation Function"
   ]
  },
  {
   "cell_type": "markdown",
   "id": "32884256",
   "metadata": {},
   "source": [
    "There are more than a few ways to evaluate a regression problem, but for this problem we can make do of the below:\n",
    "* MAE (Mean absolute error) represents the difference between the original and predicted values extracted by averaged the absolute difference over the data set.\n",
    "* MSE (Mean Squared Error) represents the difference between the original and predicted values extracted by squared the average difference over the data set.\n",
    "* RMSE (Root Mean Squared Error) is the error rate by the square root of MSE.\n",
    "* R-squared (Coefficient of determination) represents the coefficient of how well the values fit compared to the original values. The value from 0 to 1 interpreted as percentages. The higher the value is, the better the model is.\n",
    "\n",
    "Source: https://www.datatechnotes.com/2019/02/regression-model-accuracy-mae-mse-rmse.html"
   ]
  },
  {
   "cell_type": "code",
   "execution_count": 68,
   "id": "036de7c9",
   "metadata": {},
   "outputs": [],
   "source": [
    "# Create function to evaluate our model\n",
    "from sklearn.metrics import mean_squared_error, mean_absolute_error\n",
    "\n",
    "model_accuracies = []\n",
    "\n",
    "def show_scores(estimator, model):\n",
    "    \"\"\"\n",
    "    Displays the MAE, RMSE and R-squared of both training and validation.\n",
    "    This function also appends each result to the model_accuracies list for better comparison.\n",
    "    \"\"\"\n",
    "    train_preds = model.predict(X_train)\n",
    "    val_preds = model.predict(X_valid)\n",
    "    scores = {\"Estimator\": estimator,\n",
    "              \"Training MAE\": mean_absolute_error(y_train, train_preds),\n",
    "              \"Valid MAE\": mean_absolute_error(y_valid, val_preds),\n",
    "              \"Training RMSE\": np.sqrt(mean_squared_error(y_train, train_preds)),\n",
    "              \"Valid RMSE\": np.sqrt(mean_squared_error(y_valid, val_preds)),\n",
    "              \"Training R^2\": model.score(X_train, y_train),\n",
    "              \"Valid R^2\": model.score(X_valid, y_valid)}\n",
    "    model_accuracies.append(list(scores.values()))\n",
    "    return scores"
   ]
  },
  {
   "cell_type": "markdown",
   "id": "481022ef",
   "metadata": {},
   "source": [
    "#### 4.3 Estimators\n",
    "We are going to try and use more than 1 model/estimator and fit our data with their default parameters and see which ones would produce a more accurate value. For the `RandomForestRegressor`, we have an option to set the maximum number of samples so we will use that to lessen the amount of processing time."
   ]
  },
  {
   "cell_type": "code",
   "execution_count": 69,
   "id": "4fa20b85",
   "metadata": {},
   "outputs": [],
   "source": [
    "from sklearn.ensemble import GradientBoostingRegressor\n",
    "from sklearn.linear_model import ElasticNet\n",
    "from sklearn import linear_model\n",
    "from sklearn.linear_model import LinearRegression\n",
    "from sklearn.ensemble import RandomForestRegressor\n",
    "\n",
    "# Create a dictionary containing multiple models/estimators\n",
    "dict_regressors = {\n",
    "    \"GradientBoostingRegressor\": GradientBoostingRegressor(random_state=42),\n",
    "    \"ElasticNet\": ElasticNet(random_state=42),\n",
    "    \"LinearBayesianRidge\": linear_model.BayesianRidge(),\n",
    "    \"LinearRegression\": LinearRegression(),\n",
    "    \"RandomForestRegressor\": RandomForestRegressor(n_jobs=-1, random_state=42, max_samples=10000)} \n",
    "\n",
    "# Re-initialize the model_accuracies list\n",
    "model_accuracies = []"
   ]
  },
  {
   "cell_type": "code",
   "execution_count": 70,
   "id": "46aa3a3e",
   "metadata": {},
   "outputs": [
    {
     "name": "stdout",
     "output_type": "stream",
     "text": [
      "CPU times: total: 5min 21s\n",
      "Wall time: 3min 1s\n"
     ]
    }
   ],
   "source": [
    "%%time\n",
    "# Loop through the regression model dictionary, fit to our training data and score the models.\n",
    "for model, model_instantiation in dict_regressors.items():\n",
    "    current_model = model_instantiation\n",
    "    current_model.fit(X_train, y_train)\n",
    "    show_scores(model, current_model)"
   ]
  },
  {
   "cell_type": "code",
   "execution_count": 71,
   "id": "a783e5b8",
   "metadata": {},
   "outputs": [
    {
     "data": {
      "text/html": [
       "<div>\n",
       "<style scoped>\n",
       "    .dataframe tbody tr th:only-of-type {\n",
       "        vertical-align: middle;\n",
       "    }\n",
       "\n",
       "    .dataframe tbody tr th {\n",
       "        vertical-align: top;\n",
       "    }\n",
       "\n",
       "    .dataframe thead th {\n",
       "        text-align: right;\n",
       "    }\n",
       "</style>\n",
       "<table border=\"1\" class=\"dataframe\">\n",
       "  <thead>\n",
       "    <tr style=\"text-align: right;\">\n",
       "      <th></th>\n",
       "      <th>Estimator</th>\n",
       "      <th>Training MAE</th>\n",
       "      <th>Valid MAE</th>\n",
       "      <th>Training RMSE</th>\n",
       "      <th>Valid RMSE</th>\n",
       "      <th>TrainingR^2</th>\n",
       "      <th>ValidR^2</th>\n",
       "    </tr>\n",
       "  </thead>\n",
       "  <tbody>\n",
       "    <tr>\n",
       "      <th>0</th>\n",
       "      <td>GradientBoostingRegressor</td>\n",
       "      <td>621.526969</td>\n",
       "      <td>646.191632</td>\n",
       "      <td>867.443680</td>\n",
       "      <td>917.094263</td>\n",
       "      <td>0.937831</td>\n",
       "      <td>0.930204</td>\n",
       "    </tr>\n",
       "    <tr>\n",
       "      <th>1</th>\n",
       "      <td>ElasticNet</td>\n",
       "      <td>890.032279</td>\n",
       "      <td>921.517618</td>\n",
       "      <td>1235.419808</td>\n",
       "      <td>1289.533631</td>\n",
       "      <td>0.873897</td>\n",
       "      <td>0.862003</td>\n",
       "    </tr>\n",
       "    <tr>\n",
       "      <th>2</th>\n",
       "      <td>LinearBayesianRidge</td>\n",
       "      <td>847.364490</td>\n",
       "      <td>851.449988</td>\n",
       "      <td>1164.614338</td>\n",
       "      <td>1184.581484</td>\n",
       "      <td>0.887938</td>\n",
       "      <td>0.883551</td>\n",
       "    </tr>\n",
       "    <tr>\n",
       "      <th>3</th>\n",
       "      <td>LinearRegression</td>\n",
       "      <td>847.367452</td>\n",
       "      <td>851.450242</td>\n",
       "      <td>1164.614335</td>\n",
       "      <td>1184.577635</td>\n",
       "      <td>0.887938</td>\n",
       "      <td>0.883552</td>\n",
       "    </tr>\n",
       "    <tr>\n",
       "      <th>4</th>\n",
       "      <td>RandomForestRegressor</td>\n",
       "      <td>494.022490</td>\n",
       "      <td>525.218697</td>\n",
       "      <td>736.846054</td>\n",
       "      <td>791.106196</td>\n",
       "      <td>0.955141</td>\n",
       "      <td>0.948063</td>\n",
       "    </tr>\n",
       "  </tbody>\n",
       "</table>\n",
       "</div>"
      ],
      "text/plain": [
       "                   Estimator  Training MAE   Valid MAE  Training RMSE  \\\n",
       "0  GradientBoostingRegressor    621.526969  646.191632     867.443680   \n",
       "1                 ElasticNet    890.032279  921.517618    1235.419808   \n",
       "2        LinearBayesianRidge    847.364490  851.449988    1164.614338   \n",
       "3           LinearRegression    847.367452  851.450242    1164.614335   \n",
       "4      RandomForestRegressor    494.022490  525.218697     736.846054   \n",
       "\n",
       "    Valid RMSE  TrainingR^2  ValidR^2  \n",
       "0   917.094263     0.937831  0.930204  \n",
       "1  1289.533631     0.873897  0.862003  \n",
       "2  1184.581484     0.887938  0.883551  \n",
       "3  1184.577635     0.887938  0.883552  \n",
       "4   791.106196     0.955141  0.948063  "
      ]
     },
     "execution_count": 71,
     "metadata": {},
     "output_type": "execute_result"
    }
   ],
   "source": [
    "# Let us convery our model_accuracies list into a DataFrame for better readability\n",
    "model_accuracies_df = pd.DataFrame (model_accuracies, columns = ['Estimator', 'Training MAE', 'Valid MAE', \"Training RMSE\", \"Valid RMSE\", \"TrainingR^2\", \"ValidR^2\"])\n",
    "model_accuracies_df"
   ]
  },
  {
   "cell_type": "code",
   "execution_count": 72,
   "id": "f86cf302",
   "metadata": {},
   "outputs": [
    {
     "data": {
      "image/png": "[encoded data removed]",
      "text/plain": [
       "<Figure size 720x360 with 1 Axes>"
      ]
     },
     "metadata": {
      "needs_background": "light"
     },
     "output_type": "display_data"
    }
   ],
   "source": [
    "model_accuracies_df.plot(title='R-squared', x='Estimator', y=['TrainingR^2', 'ValidR^2'], figsize=(10,5), grid=True, kind='bar', ylim=(0.8,1));"
   ]
  },
  {
   "cell_type": "code",
   "execution_count": 73,
   "id": "d0f51795",
   "metadata": {},
   "outputs": [
    {
     "data": {
      "image/png": "[encoded data removed]",
      "text/plain": [
       "<Figure size 720x360 with 1 Axes>"
      ]
     },
     "metadata": {
      "needs_background": "light"
     },
     "output_type": "display_data"
    }
   ],
   "source": [
    "model_accuracies_df.plot(title='Root Mean Squared Error', x='Estimator', y=['Training RMSE', 'Valid RMSE'], figsize=(10,5), grid=True, kind='bar');"
   ]
  },
  {
   "cell_type": "code",
   "execution_count": 74,
   "id": "90d8ec85",
   "metadata": {},
   "outputs": [
    {
     "data": {
      "image/png": "[encoded data removed]",
      "text/plain": [
       "<Figure size 720x360 with 1 Axes>"
      ]
     },
     "metadata": {
      "needs_background": "light"
     },
     "output_type": "display_data"
    }
   ],
   "source": [
    "model_accuracies_df.plot(title='Mean Absolute Error', x='Estimator', y=['Training MAE', 'Valid MAE'], figsize=(10,5), grid=True, kind='bar');"
   ]
  },
  {
   "cell_type": "markdown",
   "id": "d29711e6",
   "metadata": {},
   "source": [
    "Based on the results above, we can now see that the RandomForestRegressor (which only used 10000 samples) was better than the other models in our dictionary."
   ]
  },
  {
   "cell_type": "markdown",
   "id": "686ae958",
   "metadata": {},
   "source": [
    "#### 4.4 Hyperparameter Tuning\n",
    "Now that we have a model that produced better accuracy than others, let us focus on tuning the hyperparameters of this particular model."
   ]
  },
  {
   "cell_type": "code",
   "execution_count": 75,
   "id": "35b47a0f",
   "metadata": {},
   "outputs": [
    {
     "name": "stdout",
     "output_type": "stream",
     "text": [
      "Fitting 5 folds for each of 20 candidates, totalling 100 fits\n",
      "CPU times: total: 4min 5s\n",
      "Wall time: 3min 41s\n"
     ]
    },
    {
     "data": {
      "text/plain": [
       "RandomizedSearchCV(cv=5,\n",
       "                   estimator=RandomForestRegressor(n_jobs=-1, random_state=42),\n",
       "                   n_iter=20,\n",
       "                   param_distributions={'max_depth': [None, 3, 5, 10],\n",
       "                                        'max_features': [0.5, 1, 'sqrt',\n",
       "                                                         'auto'],\n",
       "                                        'max_samples': [10000],\n",
       "                                        'min_samples_leaf': array([ 1,  3,  5,  7,  9, 11, 13, 15, 17, 19]),\n",
       "                                        'min_samples_split': array([ 2,  4,  6,  8, 10, 12, 14, 16, 18, 20, 22, 24, 26, 28]),\n",
       "                                        'n_estimators': array([ 10,  20,  30,  40,  50,  60,  70,  80,  90, 100, 110, 120, 130,\n",
       "       140, 150, 160, 170, 180, 190])},\n",
       "                   random_state=42, verbose=True)"
      ]
     },
     "execution_count": 75,
     "metadata": {},
     "output_type": "execute_result"
    }
   ],
   "source": [
    "%%time\n",
    "from sklearn.model_selection import RandomizedSearchCV\n",
    "\n",
    "# Different RandomForestRegressor hyperparameters\n",
    "rf_grid = {\"n_estimators\": np.arange(10, 200, 10),\n",
    "          \"max_depth\": [None, 3, 5, 10],\n",
    "          \"min_samples_split\": np.arange(2,30,2),\n",
    "          \"min_samples_leaf\": np.arange(1,20,2),\n",
    "          \"max_features\": [0.5,1,\"sqrt\", \"auto\"],\n",
    "          \"max_samples\": [10000]}\n",
    "\n",
    "# Instantiate RandomizedSearchCV model\n",
    "rs_model = RandomizedSearchCV(RandomForestRegressor(n_jobs=-1, random_state = 42),\n",
    "                              param_distributions=rf_grid,\n",
    "                              n_iter=20,\n",
    "                              cv=5,\n",
    "                              random_state = 42,\n",
    "                              verbose=True)\n",
    "\n",
    "# Fit the RandomizedSearchCV model\n",
    "rs_model.fit(X_train, y_train)"
   ]
  },
  {
   "cell_type": "code",
   "execution_count": 76,
   "id": "25209998",
   "metadata": {},
   "outputs": [
    {
     "data": {
      "text/plain": [
       "{'n_estimators': 60,\n",
       " 'min_samples_split': 8,\n",
       " 'min_samples_leaf': 7,\n",
       " 'max_samples': 10000,\n",
       " 'max_features': 0.5,\n",
       " 'max_depth': None}"
      ]
     },
     "execution_count": 76,
     "metadata": {},
     "output_type": "execute_result"
    }
   ],
   "source": [
    "# Find the best model hyperparameters\n",
    "rs_model.best_params_"
   ]
  },
  {
   "cell_type": "code",
   "execution_count": 77,
   "id": "475d8cf4",
   "metadata": {},
   "outputs": [
    {
     "data": {
      "text/plain": [
       "{'Estimator': 'RandomForest - Best Params',\n",
       " 'Training MAE': 565.4563637088149,\n",
       " 'Valid MAE': 587.9769346508161,\n",
       " 'Training RMSE': 841.7796902070343,\n",
       " 'Valid RMSE': 883.3830734338482,\n",
       " 'Training R^2': 0.9414547538715671,\n",
       " 'Valid R^2': 0.9352404596572942}"
      ]
     },
     "execution_count": 77,
     "metadata": {},
     "output_type": "execute_result"
    }
   ],
   "source": [
    "# Evaluate the RandomizedSearch model\n",
    "show_scores(\"RandomForest - Best Params\", rs_model)"
   ]
  },
  {
   "cell_type": "markdown",
   "id": "b2077c0f",
   "metadata": {},
   "source": [
    "As we can, see our accuracy has improved from the previous random forest model in our first comparison. The next step would be to create a model with all the samples that we've got."
   ]
  },
  {
   "cell_type": "code",
   "execution_count": 78,
   "id": "4e52cb53",
   "metadata": {},
   "outputs": [],
   "source": [
    "ideal_model = RandomForestRegressor(n_estimators=60,\n",
    "                                    min_samples_leaf=7,\n",
    "                                    min_samples_split=8,\n",
    "                                    max_features=0.5,\n",
    "                                    n_jobs=-1,\n",
    "                                    max_depth=None,\n",
    "                                    random_state=42) "
   ]
  },
  {
   "cell_type": "code",
   "execution_count": 79,
   "id": "88f14a7e",
   "metadata": {},
   "outputs": [
    {
     "data": {
      "text/plain": [
       "RandomForestRegressor(max_features=0.5, min_samples_leaf=7, min_samples_split=8,\n",
       "                      n_estimators=60, n_jobs=-1, random_state=42)"
      ]
     },
     "execution_count": 79,
     "metadata": {},
     "output_type": "execute_result"
    }
   ],
   "source": [
    "ideal_model.fit(X_train, y_train)"
   ]
  },
  {
   "cell_type": "code",
   "execution_count": 80,
   "id": "790dc1ee",
   "metadata": {},
   "outputs": [
    {
     "data": {
      "text/plain": [
       "{'Estimator': 'RandomForest - Best Params (All Training)',\n",
       " 'Training MAE': 218.5969824746789,\n",
       " 'Valid MAE': 302.59519195370825,\n",
       " 'Training RMSE': 350.891214668585,\n",
       " 'Valid RMSE': 483.65515978975253,\n",
       " 'Training R^2': 0.9898272179628735,\n",
       " 'Valid R^2': 0.9805876880689377}"
      ]
     },
     "execution_count": 80,
     "metadata": {},
     "output_type": "execute_result"
    }
   ],
   "source": [
    "# Evaluate the ideal model which was trained on all samples.\n",
    "show_scores(\"RandomForest - Best Params (All Training)\", ideal_model)"
   ]
  },
  {
   "cell_type": "markdown",
   "id": "0bc4295a",
   "metadata": {},
   "source": [
    "As we can, see our accuracy has improved from the previous random forest model, this could probably because we now have more training dataset."
   ]
  },
  {
   "cell_type": "markdown",
   "id": "a0124399",
   "metadata": {},
   "source": [
    "#### 4.5 Finalize the Model\n",
    "The next step would be to train our model using both validation and training dataset so that we could have more accuracy in our other predictions."
   ]
  },
  {
   "cell_type": "code",
   "execution_count": 81,
   "id": "9e5ad68e",
   "metadata": {},
   "outputs": [
    {
     "data": {
      "text/plain": [
       "RandomForestRegressor(max_features=0.5, min_samples_leaf=7, min_samples_split=8,\n",
       "                      n_estimators=60, n_jobs=-1, random_state=42)"
      ]
     },
     "execution_count": 81,
     "metadata": {},
     "output_type": "execute_result"
    }
   ],
   "source": [
    "# Split all the data into X & y\n",
    "X_train, y_train = sales_merged_df.drop(\"Sales\", axis=1), sales_merged_df.Sales\n",
    "\n",
    "# Fit it to our ideal model\n",
    "ideal_model.fit(X_train, y_train)"
   ]
  },
  {
   "cell_type": "code",
   "execution_count": 82,
   "id": "5c59dde9",
   "metadata": {},
   "outputs": [
    {
     "data": {
      "text/plain": [
       "{'Estimator': 'RandomForest - Best Params (All Data)',\n",
       " 'Training MAE': 215.20580226835963,\n",
       " 'Valid MAE': 217.8182723998576,\n",
       " 'Training RMSE': 342.9493235690393,\n",
       " 'Valid RMSE': 347.91559821777076,\n",
       " 'Training R^2': 0.9902779708200616,\n",
       " 'Valid R^2': 0.9899549197490412}"
      ]
     },
     "execution_count": 82,
     "metadata": {},
     "output_type": "execute_result"
    }
   ],
   "source": [
    "# Evaluate the ideal model on all data values\n",
    "show_scores(\"RandomForest - Best Params (All Data)\", ideal_model)"
   ]
  },
  {
   "cell_type": "markdown",
   "id": "b127507f",
   "metadata": {},
   "source": [
    "#### 4.6 Export \n",
    "Let us now export our model into a pickle file so it can be used easily."
   ]
  },
  {
   "cell_type": "code",
   "execution_count": 83,
   "id": "63985cf2",
   "metadata": {},
   "outputs": [],
   "source": [
    "# Export the model into a pickle file\n",
    "import pickle\n",
    "\n",
    "pickle.dump(ideal_model, open(\"sales_prediction.pkl\", \"wb\"))"
   ]
  },
  {
   "cell_type": "code",
   "execution_count": 84,
   "id": "e95f8ad6",
   "metadata": {},
   "outputs": [
    {
     "data": {
      "text/plain": [
       "{'Estimator': 'Loaded Model',\n",
       " 'Training MAE': 215.20580226835963,\n",
       " 'Valid MAE': 217.8182723998576,\n",
       " 'Training RMSE': 342.9493235690393,\n",
       " 'Valid RMSE': 347.9155982177707,\n",
       " 'Training R^2': 0.9902779708200616,\n",
       " 'Valid R^2': 0.9899549197490412}"
      ]
     },
     "execution_count": 84,
     "metadata": {},
     "output_type": "execute_result"
    }
   ],
   "source": [
    "# Import back the exported model and test for accuracy just to double check\n",
    "loaded_model = pickle.load(open(\"sales_prediction.pkl\", \"rb\"))\n",
    "# Evaluate the Loaded model on all Data values\n",
    "show_scores(\"Loaded Model\", loaded_model)"
   ]
  },
  {
   "cell_type": "markdown",
   "id": "b0b8fedb",
   "metadata": {},
   "source": [
    "_End of model creation_"
   ]
  },
  {
   "cell_type": "markdown",
   "id": "26e01560",
   "metadata": {},
   "source": [
    "#### 4.7 File Size Issue\n",
    "Due to the limited storage of my GitHub account, I need to create a model with a smaller file size. What I will be doing is to use the optimal hyperparamaters of our `RandomForestRegressor` but with lesser data this time."
   ]
  },
  {
   "cell_type": "code",
   "execution_count": 85,
   "id": "0dd3bc21",
   "metadata": {},
   "outputs": [],
   "source": [
    "ideal_model_small = RandomForestRegressor(n_estimators=60,\n",
    "                                    min_samples_leaf=7,\n",
    "                                    min_samples_split=8,\n",
    "                                    max_features=0.5,\n",
    "                                    n_jobs=-1,\n",
    "                                    max_depth=None,\n",
    "                                    random_state=42,\n",
    "                                    max_samples=1000) "
   ]
  },
  {
   "cell_type": "code",
   "execution_count": 86,
   "id": "734c9c30",
   "metadata": {},
   "outputs": [
    {
     "data": {
      "text/plain": [
       "RandomForestRegressor(max_features=0.5, max_samples=1000, min_samples_leaf=7,\n",
       "                      min_samples_split=8, n_estimators=60, n_jobs=-1,\n",
       "                      random_state=42)"
      ]
     },
     "execution_count": 86,
     "metadata": {},
     "output_type": "execute_result"
    }
   ],
   "source": [
    "# Fit it to our ideal model\n",
    "ideal_model_small.fit(X_train, y_train)"
   ]
  },
  {
   "cell_type": "code",
   "execution_count": 87,
   "id": "fdc9ea60",
   "metadata": {},
   "outputs": [
    {
     "data": {
      "text/plain": [
       "{'Estimator': 'Small Model',\n",
       " 'Training MAE': 695.0598885590132,\n",
       " 'Valid MAE': 704.4561137673379,\n",
       " 'Training RMSE': 1034.1867046109583,\n",
       " 'Valid RMSE': 1053.0709206429615,\n",
       " 'Training R^2': 0.9115913173134005,\n",
       " 'Valid R^2': 0.9079718161633875}"
      ]
     },
     "execution_count": 87,
     "metadata": {},
     "output_type": "execute_result"
    }
   ],
   "source": [
    "show_scores(\"Small Model\", ideal_model_small)"
   ]
  },
  {
   "cell_type": "code",
   "execution_count": 88,
   "id": "9fa0cb26",
   "metadata": {},
   "outputs": [],
   "source": [
    "pickle.dump(ideal_model_small, open(\"sales_prediction_small.pkl\", \"wb\"))"
   ]
  },
  {
   "cell_type": "code",
   "execution_count": 97,
   "id": "1b3a0172",
   "metadata": {},
   "outputs": [
    {
     "data": {
      "image/png": "[encoded data removed]",
      "text/plain": [
       "<Figure size 720x1080 with 1 Axes>"
      ]
     },
     "metadata": {},
     "output_type": "display_data"
    }
   ],
   "source": [
    "# Get the di\n",
    "sns.set(rc={\"figure.figsize\":(10,15)}) #width=3, #height=4\n",
    "sns.barplot(x= ideal_model.feature_importances_, y=X_train.columns);"
   ]
  },
  {
   "cell_type": "code",
   "execution_count": null,
   "id": "097cc4a0",
   "metadata": {},
   "outputs": [],
   "source": []
  }
 ],
 "metadata": {
  "kernelspec": {
   "display_name": "Python 3 (ipykernel)",
   "language": "python",
   "name": "python3"
  },
  "language_info": {
   "codemirror_mode": {
    "name": "ipython",
    "version": 3
   },
   "file_extension": ".py",
   "mimetype": "text/x-python",
   "name": "python",
   "nbconvert_exporter": "python",
   "pygments_lexer": "ipython3",
   "version": "3.9.12"
  }
 },
 "nbformat": 4,
 "nbformat_minor": 5
}
